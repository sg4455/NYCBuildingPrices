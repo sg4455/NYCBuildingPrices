{
 "cells": [
  {
   "cell_type": "markdown",
   "metadata": {},
   "source": [
    "# NYC Real Estate Price Prediction\n",
    "\n",
    "## Objective\n",
    "\n",
    "We will predict the real estate price to help the people buy and sell at a reasonable price.\n",
    "\n"
   ]
  },
  {
   "cell_type": "code",
   "execution_count": 1,
   "metadata": {},
   "outputs": [],
   "source": [
    "import numpy as np\n",
    "import pandas as pd\n",
    "import matplotlib.pylab as plt\n",
    "%matplotlib inline\n"
   ]
  },
  {
   "cell_type": "code",
   "execution_count": 2,
   "metadata": {},
   "outputs": [],
   "source": [
    "def load_data():\n",
    "    df_mh=pd.read_excel(\"rollingsales_manhattan.xls\",skiprows=4)\n",
    "    df_mh[\"AREA\"]=\"MH\"\n",
    "    df_bx=pd.read_excel(\"rollingsales_bronx.xls\",skiprows=4)\n",
    "    df_bx[\"AREA\"]=\"BX\"\n",
    "    df=pd.concat([df_mh,df_bx])\n",
    "\n",
    "    df.columns = df.columns.str.replace(' ', '_')\n",
    "    df=df.drop(columns=['EASE-MENT'])# all the values in this column is nan.\n",
    "    df['not_apartment']=df['APARTMENT_NUMBER'].isna()# ture: it is not an apartment. false: it is an apartment.\n",
    "    df=df.drop(columns=['APARTMENT_NUMBER','ADDRESS','BUILDING_CLASS_AT_PRESENT','SALE_DATE'])\n",
    "    df=df.dropna()\n",
    "    return df"
   ]
  },
  {
   "cell_type": "code",
   "execution_count": 3,
   "metadata": {},
   "outputs": [
    {
     "data": {
      "text/html": [
       "<div>\n",
       "<style scoped>\n",
       "    .dataframe tbody tr th:only-of-type {\n",
       "        vertical-align: middle;\n",
       "    }\n",
       "\n",
       "    .dataframe tbody tr th {\n",
       "        vertical-align: top;\n",
       "    }\n",
       "\n",
       "    .dataframe thead th {\n",
       "        text-align: right;\n",
       "    }\n",
       "</style>\n",
       "<table border=\"1\" class=\"dataframe\">\n",
       "  <thead>\n",
       "    <tr style=\"text-align: right;\">\n",
       "      <th></th>\n",
       "      <th>BOROUGH</th>\n",
       "      <th>NEIGHBORHOOD</th>\n",
       "      <th>BUILDING_CLASS_CATEGORY</th>\n",
       "      <th>TAX_CLASS_AT_PRESENT</th>\n",
       "      <th>BLOCK</th>\n",
       "      <th>LOT</th>\n",
       "      <th>ZIP_CODE</th>\n",
       "      <th>RESIDENTIAL_UNITS</th>\n",
       "      <th>COMMERCIAL_UNITS</th>\n",
       "      <th>TOTAL_UNITS</th>\n",
       "      <th>LAND_SQUARE_FEET</th>\n",
       "      <th>GROSS_SQUARE_FEET</th>\n",
       "      <th>YEAR_BUILT</th>\n",
       "      <th>TAX_CLASS_AT_TIME_OF_SALE</th>\n",
       "      <th>BUILDING_CLASS_AT_TIME_OF_SALE</th>\n",
       "      <th>SALE_PRICE</th>\n",
       "      <th>AREA</th>\n",
       "      <th>not_apartment</th>\n",
       "    </tr>\n",
       "  </thead>\n",
       "  <tbody>\n",
       "    <tr>\n",
       "      <th>0</th>\n",
       "      <td>1</td>\n",
       "      <td>ALPHABET CITY</td>\n",
       "      <td>01 ONE FAMILY DWELLINGS</td>\n",
       "      <td>1</td>\n",
       "      <td>390</td>\n",
       "      <td>61</td>\n",
       "      <td>10009.0</td>\n",
       "      <td>1.0</td>\n",
       "      <td>0.0</td>\n",
       "      <td>1.0</td>\n",
       "      <td>987.0</td>\n",
       "      <td>2183.0</td>\n",
       "      <td>1860.0</td>\n",
       "      <td>1</td>\n",
       "      <td>A4</td>\n",
       "      <td>4844809</td>\n",
       "      <td>MH</td>\n",
       "      <td>True</td>\n",
       "    </tr>\n",
       "    <tr>\n",
       "      <th>1</th>\n",
       "      <td>1</td>\n",
       "      <td>ALPHABET CITY</td>\n",
       "      <td>01 ONE FAMILY DWELLINGS</td>\n",
       "      <td>1</td>\n",
       "      <td>390</td>\n",
       "      <td>61</td>\n",
       "      <td>10009.0</td>\n",
       "      <td>1.0</td>\n",
       "      <td>0.0</td>\n",
       "      <td>1.0</td>\n",
       "      <td>987.0</td>\n",
       "      <td>2183.0</td>\n",
       "      <td>1860.0</td>\n",
       "      <td>1</td>\n",
       "      <td>A4</td>\n",
       "      <td>0</td>\n",
       "      <td>MH</td>\n",
       "      <td>True</td>\n",
       "    </tr>\n",
       "    <tr>\n",
       "      <th>2</th>\n",
       "      <td>1</td>\n",
       "      <td>ALPHABET CITY</td>\n",
       "      <td>01 ONE FAMILY DWELLINGS</td>\n",
       "      <td>1</td>\n",
       "      <td>400</td>\n",
       "      <td>19</td>\n",
       "      <td>10009.0</td>\n",
       "      <td>1.0</td>\n",
       "      <td>0.0</td>\n",
       "      <td>1.0</td>\n",
       "      <td>1883.0</td>\n",
       "      <td>5200.0</td>\n",
       "      <td>1900.0</td>\n",
       "      <td>1</td>\n",
       "      <td>A4</td>\n",
       "      <td>6100000</td>\n",
       "      <td>MH</td>\n",
       "      <td>True</td>\n",
       "    </tr>\n",
       "    <tr>\n",
       "      <th>3</th>\n",
       "      <td>1</td>\n",
       "      <td>ALPHABET CITY</td>\n",
       "      <td>02 TWO FAMILY DWELLINGS</td>\n",
       "      <td>1</td>\n",
       "      <td>390</td>\n",
       "      <td>35</td>\n",
       "      <td>10009.0</td>\n",
       "      <td>2.0</td>\n",
       "      <td>0.0</td>\n",
       "      <td>2.0</td>\n",
       "      <td>1218.0</td>\n",
       "      <td>4764.0</td>\n",
       "      <td>1899.0</td>\n",
       "      <td>1</td>\n",
       "      <td>B1</td>\n",
       "      <td>0</td>\n",
       "      <td>MH</td>\n",
       "      <td>True</td>\n",
       "    </tr>\n",
       "    <tr>\n",
       "      <th>4</th>\n",
       "      <td>1</td>\n",
       "      <td>ALPHABET CITY</td>\n",
       "      <td>02 TWO FAMILY DWELLINGS</td>\n",
       "      <td>1</td>\n",
       "      <td>404</td>\n",
       "      <td>1</td>\n",
       "      <td>10009.0</td>\n",
       "      <td>2.0</td>\n",
       "      <td>0.0</td>\n",
       "      <td>2.0</td>\n",
       "      <td>1510.0</td>\n",
       "      <td>4520.0</td>\n",
       "      <td>1900.0</td>\n",
       "      <td>1</td>\n",
       "      <td>B9</td>\n",
       "      <td>0</td>\n",
       "      <td>MH</td>\n",
       "      <td>True</td>\n",
       "    </tr>\n",
       "  </tbody>\n",
       "</table>\n",
       "</div>"
      ],
      "text/plain": [
       "   BOROUGH   NEIGHBORHOOD  BUILDING_CLASS_CATEGORY TAX_CLASS_AT_PRESENT  \\\n",
       "0        1  ALPHABET CITY  01 ONE FAMILY DWELLINGS                    1   \n",
       "1        1  ALPHABET CITY  01 ONE FAMILY DWELLINGS                    1   \n",
       "2        1  ALPHABET CITY  01 ONE FAMILY DWELLINGS                    1   \n",
       "3        1  ALPHABET CITY  02 TWO FAMILY DWELLINGS                    1   \n",
       "4        1  ALPHABET CITY  02 TWO FAMILY DWELLINGS                    1   \n",
       "\n",
       "   BLOCK  LOT  ZIP_CODE  RESIDENTIAL_UNITS  COMMERCIAL_UNITS  TOTAL_UNITS  \\\n",
       "0    390   61   10009.0                1.0               0.0          1.0   \n",
       "1    390   61   10009.0                1.0               0.0          1.0   \n",
       "2    400   19   10009.0                1.0               0.0          1.0   \n",
       "3    390   35   10009.0                2.0               0.0          2.0   \n",
       "4    404    1   10009.0                2.0               0.0          2.0   \n",
       "\n",
       "   LAND_SQUARE_FEET  GROSS_SQUARE_FEET  YEAR_BUILT  TAX_CLASS_AT_TIME_OF_SALE  \\\n",
       "0             987.0             2183.0      1860.0                          1   \n",
       "1             987.0             2183.0      1860.0                          1   \n",
       "2            1883.0             5200.0      1900.0                          1   \n",
       "3            1218.0             4764.0      1899.0                          1   \n",
       "4            1510.0             4520.0      1900.0                          1   \n",
       "\n",
       "  BUILDING_CLASS_AT_TIME_OF_SALE  SALE_PRICE AREA  not_apartment  \n",
       "0                             A4     4844809   MH           True  \n",
       "1                             A4           0   MH           True  \n",
       "2                             A4     6100000   MH           True  \n",
       "3                             B1           0   MH           True  \n",
       "4                             B9           0   MH           True  "
      ]
     },
     "execution_count": 3,
     "metadata": {},
     "output_type": "execute_result"
    }
   ],
   "source": [
    "df=load_data()\n",
    "df.head()"
   ]
  },
  {
   "cell_type": "code",
   "execution_count": 4,
   "metadata": {},
   "outputs": [],
   "source": [
    "def selec_features(features):\n",
    "    df_select=df[features]\n",
    "    df_select=df_select[df_select['SALE_PRICE']>0]\n",
    "    X = df_select.drop(['SALE_PRICE'], axis=1)\n",
    "    Y = df_select['SALE_PRICE']\n",
    "    return X,Y"
   ]
  },
  {
   "cell_type": "code",
   "execution_count": 5,
   "metadata": {},
   "outputs": [
    {
     "data": {
      "text/html": [
       "<div>\n",
       "<style scoped>\n",
       "    .dataframe tbody tr th:only-of-type {\n",
       "        vertical-align: middle;\n",
       "    }\n",
       "\n",
       "    .dataframe tbody tr th {\n",
       "        vertical-align: top;\n",
       "    }\n",
       "\n",
       "    .dataframe thead th {\n",
       "        text-align: right;\n",
       "    }\n",
       "</style>\n",
       "<table border=\"1\" class=\"dataframe\">\n",
       "  <thead>\n",
       "    <tr style=\"text-align: right;\">\n",
       "      <th></th>\n",
       "      <th>GROSS_SQUARE_FEET</th>\n",
       "      <th>NEIGHBORHOOD_ALPHABET CITY</th>\n",
       "      <th>NEIGHBORHOOD_BATHGATE</th>\n",
       "      <th>NEIGHBORHOOD_BAYCHESTER</th>\n",
       "      <th>NEIGHBORHOOD_BEDFORD PARK/NORWOOD</th>\n",
       "      <th>NEIGHBORHOOD_BELMONT</th>\n",
       "      <th>NEIGHBORHOOD_BRONX PARK</th>\n",
       "      <th>NEIGHBORHOOD_BRONXDALE</th>\n",
       "      <th>NEIGHBORHOOD_CASTLE HILL/UNIONPORT</th>\n",
       "      <th>NEIGHBORHOOD_CHELSEA</th>\n",
       "      <th>...</th>\n",
       "      <th>NEIGHBORHOOD_UPPER WEST SIDE (59-79)</th>\n",
       "      <th>NEIGHBORHOOD_UPPER WEST SIDE (79-96)</th>\n",
       "      <th>NEIGHBORHOOD_UPPER WEST SIDE (96-116)</th>\n",
       "      <th>NEIGHBORHOOD_VAN CORTLANDT PARK</th>\n",
       "      <th>NEIGHBORHOOD_WAKEFIELD</th>\n",
       "      <th>NEIGHBORHOOD_WASHINGTON HEIGHTS LOWER</th>\n",
       "      <th>NEIGHBORHOOD_WASHINGTON HEIGHTS UPPER</th>\n",
       "      <th>NEIGHBORHOOD_WESTCHESTER</th>\n",
       "      <th>NEIGHBORHOOD_WILLIAMSBRIDGE</th>\n",
       "      <th>NEIGHBORHOOD_WOODLAWN</th>\n",
       "    </tr>\n",
       "  </thead>\n",
       "  <tbody>\n",
       "    <tr>\n",
       "      <th>0</th>\n",
       "      <td>2183.0</td>\n",
       "      <td>1</td>\n",
       "      <td>0</td>\n",
       "      <td>0</td>\n",
       "      <td>0</td>\n",
       "      <td>0</td>\n",
       "      <td>0</td>\n",
       "      <td>0</td>\n",
       "      <td>0</td>\n",
       "      <td>0</td>\n",
       "      <td>...</td>\n",
       "      <td>0</td>\n",
       "      <td>0</td>\n",
       "      <td>0</td>\n",
       "      <td>0</td>\n",
       "      <td>0</td>\n",
       "      <td>0</td>\n",
       "      <td>0</td>\n",
       "      <td>0</td>\n",
       "      <td>0</td>\n",
       "      <td>0</td>\n",
       "    </tr>\n",
       "    <tr>\n",
       "      <th>2</th>\n",
       "      <td>5200.0</td>\n",
       "      <td>1</td>\n",
       "      <td>0</td>\n",
       "      <td>0</td>\n",
       "      <td>0</td>\n",
       "      <td>0</td>\n",
       "      <td>0</td>\n",
       "      <td>0</td>\n",
       "      <td>0</td>\n",
       "      <td>0</td>\n",
       "      <td>...</td>\n",
       "      <td>0</td>\n",
       "      <td>0</td>\n",
       "      <td>0</td>\n",
       "      <td>0</td>\n",
       "      <td>0</td>\n",
       "      <td>0</td>\n",
       "      <td>0</td>\n",
       "      <td>0</td>\n",
       "      <td>0</td>\n",
       "      <td>0</td>\n",
       "    </tr>\n",
       "    <tr>\n",
       "      <th>6</th>\n",
       "      <td>17478.0</td>\n",
       "      <td>1</td>\n",
       "      <td>0</td>\n",
       "      <td>0</td>\n",
       "      <td>0</td>\n",
       "      <td>0</td>\n",
       "      <td>0</td>\n",
       "      <td>0</td>\n",
       "      <td>0</td>\n",
       "      <td>0</td>\n",
       "      <td>...</td>\n",
       "      <td>0</td>\n",
       "      <td>0</td>\n",
       "      <td>0</td>\n",
       "      <td>0</td>\n",
       "      <td>0</td>\n",
       "      <td>0</td>\n",
       "      <td>0</td>\n",
       "      <td>0</td>\n",
       "      <td>0</td>\n",
       "      <td>0</td>\n",
       "    </tr>\n",
       "    <tr>\n",
       "      <th>7</th>\n",
       "      <td>6294.0</td>\n",
       "      <td>1</td>\n",
       "      <td>0</td>\n",
       "      <td>0</td>\n",
       "      <td>0</td>\n",
       "      <td>0</td>\n",
       "      <td>0</td>\n",
       "      <td>0</td>\n",
       "      <td>0</td>\n",
       "      <td>0</td>\n",
       "      <td>...</td>\n",
       "      <td>0</td>\n",
       "      <td>0</td>\n",
       "      <td>0</td>\n",
       "      <td>0</td>\n",
       "      <td>0</td>\n",
       "      <td>0</td>\n",
       "      <td>0</td>\n",
       "      <td>0</td>\n",
       "      <td>0</td>\n",
       "      <td>0</td>\n",
       "    </tr>\n",
       "    <tr>\n",
       "      <th>8</th>\n",
       "      <td>14588.0</td>\n",
       "      <td>1</td>\n",
       "      <td>0</td>\n",
       "      <td>0</td>\n",
       "      <td>0</td>\n",
       "      <td>0</td>\n",
       "      <td>0</td>\n",
       "      <td>0</td>\n",
       "      <td>0</td>\n",
       "      <td>0</td>\n",
       "      <td>...</td>\n",
       "      <td>0</td>\n",
       "      <td>0</td>\n",
       "      <td>0</td>\n",
       "      <td>0</td>\n",
       "      <td>0</td>\n",
       "      <td>0</td>\n",
       "      <td>0</td>\n",
       "      <td>0</td>\n",
       "      <td>0</td>\n",
       "      <td>0</td>\n",
       "    </tr>\n",
       "  </tbody>\n",
       "</table>\n",
       "<p>5 rows × 76 columns</p>\n",
       "</div>"
      ],
      "text/plain": [
       "   GROSS_SQUARE_FEET  NEIGHBORHOOD_ALPHABET CITY  NEIGHBORHOOD_BATHGATE  \\\n",
       "0             2183.0                           1                      0   \n",
       "2             5200.0                           1                      0   \n",
       "6            17478.0                           1                      0   \n",
       "7             6294.0                           1                      0   \n",
       "8            14588.0                           1                      0   \n",
       "\n",
       "   NEIGHBORHOOD_BAYCHESTER  NEIGHBORHOOD_BEDFORD PARK/NORWOOD  \\\n",
       "0                        0                                  0   \n",
       "2                        0                                  0   \n",
       "6                        0                                  0   \n",
       "7                        0                                  0   \n",
       "8                        0                                  0   \n",
       "\n",
       "   NEIGHBORHOOD_BELMONT  NEIGHBORHOOD_BRONX PARK  NEIGHBORHOOD_BRONXDALE  \\\n",
       "0                     0                        0                       0   \n",
       "2                     0                        0                       0   \n",
       "6                     0                        0                       0   \n",
       "7                     0                        0                       0   \n",
       "8                     0                        0                       0   \n",
       "\n",
       "   NEIGHBORHOOD_CASTLE HILL/UNIONPORT  NEIGHBORHOOD_CHELSEA  \\\n",
       "0                                   0                     0   \n",
       "2                                   0                     0   \n",
       "6                                   0                     0   \n",
       "7                                   0                     0   \n",
       "8                                   0                     0   \n",
       "\n",
       "           ...            NEIGHBORHOOD_UPPER WEST SIDE (59-79)  \\\n",
       "0          ...                                               0   \n",
       "2          ...                                               0   \n",
       "6          ...                                               0   \n",
       "7          ...                                               0   \n",
       "8          ...                                               0   \n",
       "\n",
       "   NEIGHBORHOOD_UPPER WEST SIDE (79-96)  \\\n",
       "0                                     0   \n",
       "2                                     0   \n",
       "6                                     0   \n",
       "7                                     0   \n",
       "8                                     0   \n",
       "\n",
       "   NEIGHBORHOOD_UPPER WEST SIDE (96-116)  NEIGHBORHOOD_VAN CORTLANDT PARK  \\\n",
       "0                                      0                                0   \n",
       "2                                      0                                0   \n",
       "6                                      0                                0   \n",
       "7                                      0                                0   \n",
       "8                                      0                                0   \n",
       "\n",
       "   NEIGHBORHOOD_WAKEFIELD  NEIGHBORHOOD_WASHINGTON HEIGHTS LOWER  \\\n",
       "0                       0                                      0   \n",
       "2                       0                                      0   \n",
       "6                       0                                      0   \n",
       "7                       0                                      0   \n",
       "8                       0                                      0   \n",
       "\n",
       "   NEIGHBORHOOD_WASHINGTON HEIGHTS UPPER  NEIGHBORHOOD_WESTCHESTER  \\\n",
       "0                                      0                         0   \n",
       "2                                      0                         0   \n",
       "6                                      0                         0   \n",
       "7                                      0                         0   \n",
       "8                                      0                         0   \n",
       "\n",
       "   NEIGHBORHOOD_WILLIAMSBRIDGE  NEIGHBORHOOD_WOODLAWN  \n",
       "0                            0                      0  \n",
       "2                            0                      0  \n",
       "6                            0                      0  \n",
       "7                            0                      0  \n",
       "8                            0                      0  \n",
       "\n",
       "[5 rows x 76 columns]"
      ]
     },
     "execution_count": 5,
     "metadata": {},
     "output_type": "execute_result"
    }
   ],
   "source": [
    "# select neighborhood / BLOCK + GROSS_SQUARE_FEET\n",
    "features_selected=['NEIGHBORHOOD','GROSS_SQUARE_FEET','SALE_PRICE']\n",
    "# features_selected=['BLOCK','GROSS_SQUARE_FEET','SALE_PRICE']\n",
    "X,Y=selec_features(features_selected)\n",
    "X=pd.get_dummies(X, columns=['NEIGHBORHOOD'])\n",
    "# X=pd.get_dummies(X, columns=['BLOCK'])\n",
    "X.head()"
   ]
  },
  {
   "cell_type": "code",
   "execution_count": 6,
   "metadata": {},
   "outputs": [],
   "source": [
    "from sklearn.model_selection import train_test_split\n",
    "\n",
    "X_train, X_test, Y_train, Y_test = train_test_split(X, Y, test_size=.25)\n"
   ]
  },
  {
   "cell_type": "code",
   "execution_count": 7,
   "metadata": {},
   "outputs": [],
   "source": [
    "from sklearn.linear_model import LinearRegression\n",
    "from sklearn.ensemble import RandomForestRegressor\n",
    "from sklearn.model_selection import cross_val_score\n",
    "def model_score(model):\n",
    "    model=model\n",
    "    model.fit(X_train, Y_train)\n",
    "    score=model.score(X_test, Y_test)\n",
    "    return score"
   ]
  },
  {
   "cell_type": "code",
   "execution_count": 8,
   "metadata": {},
   "outputs": [
    {
     "name": "stdout",
     "output_type": "stream",
     "text": [
      "features_selected: ['NEIGHBORHOOD', 'GROSS_SQUARE_FEET', 'SALE_PRICE']\n"
     ]
    },
    {
     "name": "stderr",
     "output_type": "stream",
     "text": [
      "C:\\Users\\ryouen\\Anaconda3\\lib\\site-packages\\sklearn\\ensemble\\forest.py:246: FutureWarning: The default value of n_estimators will change from 10 in version 0.20 to 100 in 0.22.\n",
      "  \"10 in version 0.20 to 100 in 0.22.\", FutureWarning)\n"
     ]
    },
    {
     "name": "stdout",
     "output_type": "stream",
     "text": [
      "RandomForestRegressor:0.05988546913828352\n",
      "AVG_AUC: 0.3338185457239987\n"
     ]
    }
   ],
   "source": [
    "model=RandomForestRegressor()\n",
    "\n",
    "print(\"features_selected:\", features_selected)\n",
    "print(\"RandomForestRegressor:\"+str(model_score(model)))\n",
    "avg_auc = cross_val_score(model, X_train,Y_train, cv=10, scoring=\"r2\").mean()\n",
    "print(\"AVG_AUC:\", avg_auc)"
   ]
  },
  {
   "cell_type": "code",
   "execution_count": 9,
   "metadata": {},
   "outputs": [
    {
     "name": "stdout",
     "output_type": "stream",
     "text": [
      "features_selected: ['NEIGHBORHOOD', 'GROSS_SQUARE_FEET', 'SALE_PRICE']\n",
      "LinearRegression:0.3047236554543836\n",
      "AVG_AUC: 0.18302849909603996\n"
     ]
    }
   ],
   "source": [
    "model=LinearRegression()\n",
    "print(\"features_selected:\", features_selected)\n",
    "print(\"LinearRegression:\"+str(model_score(model)))\n",
    "avg_auc = cross_val_score(model, X_train,Y_train, cv=10, scoring=\"r2\").mean()\n",
    "print(\"AVG_AUC:\",avg_auc)"
   ]
  },
  {
   "cell_type": "markdown",
   "metadata": {},
   "source": [
    "only tried on manhattan and bronx, only one year\n",
    "result:\n",
    "    block+gross_square_feet\n",
    "        random_forest(low,cost too much time to calculate auc) >linearregression(very low,near 0, negative auc)\n",
    "    neighborhood+gross_square_feet:\n",
    "        random_fores (very unstable)\n",
    "        linearregression (auc very low, near 0)"
   ]
  },
  {
   "cell_type": "markdown",
   "metadata": {},
   "source": [
    "# Discussion #1\n",
    "\n",
    "\n",
    "\n"
   ]
  },
  {
   "cell_type": "markdown",
   "metadata": {},
   "source": [
    "As we showed, the result of analysis is not great.\n",
    "So, we need to further look at the data.\n",
    "\n",
    "Let's begin from the SALE_PRICE data."
   ]
  },
  {
   "cell_type": "code",
   "execution_count": 10,
   "metadata": {},
   "outputs": [
    {
     "data": {
      "text/plain": [
       "count    1.850900e+04\n",
       "mean     3.177423e+06\n",
       "std      2.690026e+07\n",
       "min      1.000000e+00\n",
       "25%      4.750000e+05\n",
       "50%      7.980000e+05\n",
       "75%      1.790000e+06\n",
       "max      2.397502e+09\n",
       "Name: SALE_PRICE, dtype: float64"
      ]
     },
     "execution_count": 10,
     "metadata": {},
     "output_type": "execute_result"
    }
   ],
   "source": [
    "df[df[\"SALE_PRICE\"]>0][\"SALE_PRICE\"].describe()"
   ]
  },
  {
   "cell_type": "code",
   "execution_count": 11,
   "metadata": {},
   "outputs": [
    {
     "data": {
      "text/plain": [
       "{'whiskers': [<matplotlib.lines.Line2D at 0x1aa2cdb39e8>,\n",
       "  <matplotlib.lines.Line2D at 0x1aa2cdb3d30>],\n",
       " 'caps': [<matplotlib.lines.Line2D at 0x1aa2cdb3e10>,\n",
       "  <matplotlib.lines.Line2D at 0x1aa2cf4f400>],\n",
       " 'boxes': [<matplotlib.lines.Line2D at 0x1aa2cb186d8>],\n",
       " 'medians': [<matplotlib.lines.Line2D at 0x1aa2cf4f748>],\n",
       " 'fliers': [<matplotlib.lines.Line2D at 0x1aa2cf4fa90>],\n",
       " 'means': []}"
      ]
     },
     "execution_count": 11,
     "metadata": {},
     "output_type": "execute_result"
    },
    {
     "data": {
      "image/png": "[encoded data removed]",
      "text/plain": [
       "<Figure size 432x288 with 1 Axes>"
      ]
     },
     "metadata": {
      "needs_background": "light"
     },
     "output_type": "display_data"
    }
   ],
   "source": [
    "fig, ax = plt.subplots()\n",
    "ax.boxplot(df[(df[\"SALE_PRICE\"]>10000) & (df[\"SALE_PRICE\"]<1.0e+08)][\"SALE_PRICE\"])"
   ]
  },
  {
   "cell_type": "code",
   "execution_count": 12,
   "metadata": {},
   "outputs": [
    {
     "data": {
      "image/png": "[encoded data removed]",
      "text/plain": [
       "<Figure size 432x288 with 1 Axes>"
      ]
     },
     "metadata": {
      "needs_background": "light"
     },
     "output_type": "display_data"
    }
   ],
   "source": [
    "df[df[\"SALE_PRICE\"]>10000000][\"SALE_PRICE\"].plot.hist(bins=20);\n"
   ]
  },
  {
   "cell_type": "markdown",
   "metadata": {},
   "source": [
    "As I showed here, the histgram is super-right long tail.\n",
    "\n",
    "So, I decided to take log to the data.\n"
   ]
  },
  {
   "cell_type": "code",
   "execution_count": 35,
   "metadata": {},
   "outputs": [
    {
     "data": {
      "text/plain": [
       "0    15.393418\n",
       "1          NaN\n",
       "2    15.623799\n",
       "3          NaN\n",
       "4          NaN\n",
       "Name: SALE_PRICE, dtype: float64"
      ]
     },
     "execution_count": 35,
     "metadata": {},
     "output_type": "execute_result"
    }
   ],
   "source": [
    "df[\"SALE_PRICE\"].apply(np.log).head()"
   ]
  },
  {
   "cell_type": "code",
   "execution_count": 14,
   "metadata": {},
   "outputs": [],
   "source": [
    "df[\"SALE_PRICE\"] = df[\"SALE_PRICE\"].replace(0, np.NaN)\n",
    "df[\"Logged_SALE_PRICE\"] = df[\"SALE_PRICE\"].apply(np.log)"
   ]
  },
  {
   "cell_type": "code",
   "execution_count": 29,
   "metadata": {},
   "outputs": [
    {
     "data": {
      "image/png": "[encoded data removed]",
      "text/plain": [
       "<Figure size 432x288 with 1 Axes>"
      ]
     },
     "metadata": {
      "needs_background": "light"
     },
     "output_type": "display_data"
    }
   ],
   "source": [
    "df[df[\"Logged_SALE_PRICE\"]>6][\"Logged_SALE_PRICE\"].plot.hist(bins=20);\n"
   ]
  },
  {
   "cell_type": "code",
   "execution_count": 46,
   "metadata": {},
   "outputs": [
    {
     "data": {
      "image/png": "[encoded data removed]",
      "text/plain": [
       "<Figure size 432x288 with 1 Axes>"
      ]
     },
     "metadata": {
      "needs_background": "light"
     },
     "output_type": "display_data"
    }
   ],
   "source": [
    "fig, ax = plt.subplots()\n",
    "ax.boxplot(df[(df[\"Logged_SALE_PRICE\"]>5)][\"Logged_SALE_PRICE\"]);"
   ]
  },
  {
   "cell_type": "markdown",
   "metadata": {},
   "source": [
    "Then re-run the regression."
   ]
  },
  {
   "cell_type": "code",
   "execution_count": 30,
   "metadata": {},
   "outputs": [],
   "source": [
    "def selec_features(features):\n",
    "    df_select=df[features]\n",
    "    df_select=df_select[df_select['Logged_SALE_PRICE']>6]\n",
    "    X = df_select.drop(['Logged_SALE_PRICE'], axis=1)\n",
    "    Y = df_select['Logged_SALE_PRICE']\n",
    "    return X,Y\n",
    "\n",
    "features_selected=['NEIGHBORHOOD','GROSS_SQUARE_FEET','Logged_SALE_PRICE']\n",
    "X,Y=selec_features(features_selected)\n",
    "X=pd.get_dummies(X, columns=['NEIGHBORHOOD'])\n",
    "X.head()\n",
    "\n",
    "from sklearn.model_selection import train_test_split\n",
    "X_train, X_test, Y_train, Y_test = train_test_split(X, Y, test_size=.25)\n",
    "\n",
    "from sklearn.linear_model import LinearRegression\n",
    "from sklearn.ensemble import RandomForestRegressor\n",
    "from sklearn.model_selection import cross_val_score\n",
    "def model_score(model):\n",
    "    model=model\n",
    "    model.fit(X_train, Y_train)\n",
    "    score=model.score(X_test, Y_test)\n",
    "    return score\n",
    "\n"
   ]
  },
  {
   "cell_type": "code",
   "execution_count": 31,
   "metadata": {},
   "outputs": [
    {
     "name": "stdout",
     "output_type": "stream",
     "text": [
      "features_selected: ['NEIGHBORHOOD', 'GROSS_SQUARE_FEET', 'Logged_SALE_PRICE']\n"
     ]
    },
    {
     "name": "stderr",
     "output_type": "stream",
     "text": [
      "C:\\Users\\ryouen\\Anaconda3\\lib\\site-packages\\sklearn\\ensemble\\forest.py:246: FutureWarning: The default value of n_estimators will change from 10 in version 0.20 to 100 in 0.22.\n",
      "  \"10 in version 0.20 to 100 in 0.22.\", FutureWarning)\n"
     ]
    },
    {
     "name": "stdout",
     "output_type": "stream",
     "text": [
      "RandomForestRegressor:0.5225038421682265\n",
      "AVG_AUC: 0.5782931605876358\n"
     ]
    }
   ],
   "source": [
    "model=RandomForestRegressor()\n",
    "\n",
    "print(\"features_selected:\", features_selected)\n",
    "print(\"RandomForestRegressor:\"+str(model_score(model)))\n",
    "avg_auc = cross_val_score(model, X_train,Y_train, cv=10, scoring=\"r2\").mean()\n",
    "print(\"AVG_AUC:\", avg_auc)"
   ]
  },
  {
   "cell_type": "code",
   "execution_count": 32,
   "metadata": {},
   "outputs": [
    {
     "name": "stdout",
     "output_type": "stream",
     "text": [
      "features_selected: ['NEIGHBORHOOD', 'GROSS_SQUARE_FEET', 'Logged_SALE_PRICE']\n",
      "LinearRegression:0.2972071288958694\n",
      "AVG_AUC: 0.31182291180739247\n"
     ]
    }
   ],
   "source": [
    "model=LinearRegression()\n",
    "print(\"features_selected:\", features_selected)\n",
    "print(\"LinearRegression:\"+str(model_score(model)))\n",
    "avg_auc = cross_val_score(model, X_train,Y_train, cv=10, scoring=\"r2\").mean()\n",
    "print(\"AVG_AUC:\",avg_auc)"
   ]
  },
  {
   "cell_type": "markdown",
   "metadata": {},
   "source": [
    "# summary\n",
    "So what we did is, \n",
    "\n",
    "1.log transformation\n",
    "\n",
    "2.filtered out $log(\\text{SALE_PRICE}) \\leq{} 5$ which means the price under $\\$10^5 = \\$ 100,000$\n",
    "\n"
   ]
  },
  {
   "cell_type": "code",
   "execution_count": null,
   "metadata": {},
   "outputs": [],
   "source": []
  },
  {
   "cell_type": "code",
   "execution_count": null,
   "metadata": {},
   "outputs": [],
   "source": []
  },
  {
   "cell_type": "code",
   "execution_count": null,
   "metadata": {},
   "outputs": [],
   "source": []
  },
  {
   "cell_type": "code",
   "execution_count": null,
   "metadata": {},
   "outputs": [],
   "source": []
  },
  {
   "cell_type": "code",
   "execution_count": null,
   "metadata": {},
   "outputs": [],
   "source": []
  },
  {
   "cell_type": "code",
   "execution_count": null,
   "metadata": {},
   "outputs": [],
   "source": []
  }
 ],
 "metadata": {
  "hide_input": false,
  "kernelspec": {
   "display_name": "Python 3",
   "language": "python",
   "name": "python3"
  },
  "language_info": {
   "codemirror_mode": {
    "name": "ipython",
    "version": 3
   },
   "file_extension": ".py",
   "mimetype": "text/x-python",
   "name": "python",
   "nbconvert_exporter": "python",
   "pygments_lexer": "ipython3",
   "version": "3.7.1"
  }
 },
 "nbformat": 4,
 "nbformat_minor": 2
}
