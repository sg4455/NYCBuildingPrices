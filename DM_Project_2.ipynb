{
 "cells": [
  {
   "cell_type": "code",
   "execution_count": 1,
   "metadata": {},
   "outputs": [],
   "source": [
    "import numpy as np\n",
    "import pandas as pd\n",
    "import matplotlib.pylab as plt\n",
    "%matplotlib inline\n"
   ]
  },
  {
   "cell_type": "code",
   "execution_count": 2,
   "metadata": {},
   "outputs": [],
   "source": [
    "def load_data():\n",
    "    df_mh=pd.read_excel(\"rollingsales_manhattan.xls\",skiprows=4)\n",
    "    df_mh[\"AREA\"]=\"MH\"\n",
    "    df_bx=pd.read_excel(\"rollingsales_bronx.xls\",skiprows=4)\n",
    "    df_bx[\"AREA\"]=\"BX\"\n",
    "    df=pd.concat([df_mh,df_bx])\n",
    "\n",
    "    df.columns = df.columns.str.replace(' ', '_')\n",
    "    df=df.drop(columns=['EASE-MENT'])# all the values in this column is nan.\n",
    "    df['not_apartment']=df['APARTMENT_NUMBER'].isna()# ture: it is not an apartment. false: it is an apartment.\n",
    "    df=df.drop(columns=['APARTMENT_NUMBER','ADDRESS','BUILDING_CLASS_AT_PRESENT','SALE_DATE'])\n",
    "    df=df.dropna()\n",
    "    return df"
   ]
  },
  {
   "cell_type": "code",
   "execution_count": 3,
   "metadata": {},
   "outputs": [
    {
     "data": {
      "text/html": [
       "<div>\n",
       "<style scoped>\n",
       "    .dataframe tbody tr th:only-of-type {\n",
       "        vertical-align: middle;\n",
       "    }\n",
       "\n",
       "    .dataframe tbody tr th {\n",
       "        vertical-align: top;\n",
       "    }\n",
       "\n",
       "    .dataframe thead th {\n",
       "        text-align: right;\n",
       "    }\n",
       "</style>\n",
       "<table border=\"1\" class=\"dataframe\">\n",
       "  <thead>\n",
       "    <tr style=\"text-align: right;\">\n",
       "      <th></th>\n",
       "      <th>BOROUGH</th>\n",
       "      <th>NEIGHBORHOOD</th>\n",
       "      <th>BUILDING_CLASS_CATEGORY</th>\n",
       "      <th>TAX_CLASS_AT_PRESENT</th>\n",
       "      <th>BLOCK</th>\n",
       "      <th>LOT</th>\n",
       "      <th>ZIP_CODE</th>\n",
       "      <th>RESIDENTIAL_UNITS</th>\n",
       "      <th>COMMERCIAL_UNITS</th>\n",
       "      <th>TOTAL_UNITS</th>\n",
       "      <th>LAND_SQUARE_FEET</th>\n",
       "      <th>GROSS_SQUARE_FEET</th>\n",
       "      <th>YEAR_BUILT</th>\n",
       "      <th>TAX_CLASS_AT_TIME_OF_SALE</th>\n",
       "      <th>BUILDING_CLASS_AT_TIME_OF_SALE</th>\n",
       "      <th>SALE_PRICE</th>\n",
       "      <th>AREA</th>\n",
       "      <th>not_apartment</th>\n",
       "    </tr>\n",
       "  </thead>\n",
       "  <tbody>\n",
       "    <tr>\n",
       "      <th>0</th>\n",
       "      <td>1</td>\n",
       "      <td>ALPHABET CITY</td>\n",
       "      <td>01 ONE FAMILY DWELLINGS</td>\n",
       "      <td>1</td>\n",
       "      <td>390</td>\n",
       "      <td>61</td>\n",
       "      <td>10009.0</td>\n",
       "      <td>1.0</td>\n",
       "      <td>0.0</td>\n",
       "      <td>1.0</td>\n",
       "      <td>987.0</td>\n",
       "      <td>2183.0</td>\n",
       "      <td>1860.0</td>\n",
       "      <td>1</td>\n",
       "      <td>A4</td>\n",
       "      <td>4844809</td>\n",
       "      <td>MH</td>\n",
       "      <td>True</td>\n",
       "    </tr>\n",
       "    <tr>\n",
       "      <th>1</th>\n",
       "      <td>1</td>\n",
       "      <td>ALPHABET CITY</td>\n",
       "      <td>01 ONE FAMILY DWELLINGS</td>\n",
       "      <td>1</td>\n",
       "      <td>390</td>\n",
       "      <td>61</td>\n",
       "      <td>10009.0</td>\n",
       "      <td>1.0</td>\n",
       "      <td>0.0</td>\n",
       "      <td>1.0</td>\n",
       "      <td>987.0</td>\n",
       "      <td>2183.0</td>\n",
       "      <td>1860.0</td>\n",
       "      <td>1</td>\n",
       "      <td>A4</td>\n",
       "      <td>0</td>\n",
       "      <td>MH</td>\n",
       "      <td>True</td>\n",
       "    </tr>\n",
       "    <tr>\n",
       "      <th>2</th>\n",
       "      <td>1</td>\n",
       "      <td>ALPHABET CITY</td>\n",
       "      <td>01 ONE FAMILY DWELLINGS</td>\n",
       "      <td>1</td>\n",
       "      <td>400</td>\n",
       "      <td>19</td>\n",
       "      <td>10009.0</td>\n",
       "      <td>1.0</td>\n",
       "      <td>0.0</td>\n",
       "      <td>1.0</td>\n",
       "      <td>1883.0</td>\n",
       "      <td>5200.0</td>\n",
       "      <td>1900.0</td>\n",
       "      <td>1</td>\n",
       "      <td>A4</td>\n",
       "      <td>6100000</td>\n",
       "      <td>MH</td>\n",
       "      <td>True</td>\n",
       "    </tr>\n",
       "    <tr>\n",
       "      <th>3</th>\n",
       "      <td>1</td>\n",
       "      <td>ALPHABET CITY</td>\n",
       "      <td>02 TWO FAMILY DWELLINGS</td>\n",
       "      <td>1</td>\n",
       "      <td>390</td>\n",
       "      <td>35</td>\n",
       "      <td>10009.0</td>\n",
       "      <td>2.0</td>\n",
       "      <td>0.0</td>\n",
       "      <td>2.0</td>\n",
       "      <td>1218.0</td>\n",
       "      <td>4764.0</td>\n",
       "      <td>1899.0</td>\n",
       "      <td>1</td>\n",
       "      <td>B1</td>\n",
       "      <td>0</td>\n",
       "      <td>MH</td>\n",
       "      <td>True</td>\n",
       "    </tr>\n",
       "    <tr>\n",
       "      <th>4</th>\n",
       "      <td>1</td>\n",
       "      <td>ALPHABET CITY</td>\n",
       "      <td>02 TWO FAMILY DWELLINGS</td>\n",
       "      <td>1</td>\n",
       "      <td>404</td>\n",
       "      <td>1</td>\n",
       "      <td>10009.0</td>\n",
       "      <td>2.0</td>\n",
       "      <td>0.0</td>\n",
       "      <td>2.0</td>\n",
       "      <td>1510.0</td>\n",
       "      <td>4520.0</td>\n",
       "      <td>1900.0</td>\n",
       "      <td>1</td>\n",
       "      <td>B9</td>\n",
       "      <td>0</td>\n",
       "      <td>MH</td>\n",
       "      <td>True</td>\n",
       "    </tr>\n",
       "  </tbody>\n",
       "</table>\n",
       "</div>"
      ],
      "text/plain": [
       "   BOROUGH   NEIGHBORHOOD  BUILDING_CLASS_CATEGORY TAX_CLASS_AT_PRESENT  \\\n",
       "0        1  ALPHABET CITY  01 ONE FAMILY DWELLINGS                    1   \n",
       "1        1  ALPHABET CITY  01 ONE FAMILY DWELLINGS                    1   \n",
       "2        1  ALPHABET CITY  01 ONE FAMILY DWELLINGS                    1   \n",
       "3        1  ALPHABET CITY  02 TWO FAMILY DWELLINGS                    1   \n",
       "4        1  ALPHABET CITY  02 TWO FAMILY DWELLINGS                    1   \n",
       "\n",
       "   BLOCK  LOT  ZIP_CODE  RESIDENTIAL_UNITS  COMMERCIAL_UNITS  TOTAL_UNITS  \\\n",
       "0    390   61   10009.0                1.0               0.0          1.0   \n",
       "1    390   61   10009.0                1.0               0.0          1.0   \n",
       "2    400   19   10009.0                1.0               0.0          1.0   \n",
       "3    390   35   10009.0                2.0               0.0          2.0   \n",
       "4    404    1   10009.0                2.0               0.0          2.0   \n",
       "\n",
       "   LAND_SQUARE_FEET  GROSS_SQUARE_FEET  YEAR_BUILT  TAX_CLASS_AT_TIME_OF_SALE  \\\n",
       "0             987.0             2183.0      1860.0                          1   \n",
       "1             987.0             2183.0      1860.0                          1   \n",
       "2            1883.0             5200.0      1900.0                          1   \n",
       "3            1218.0             4764.0      1899.0                          1   \n",
       "4            1510.0             4520.0      1900.0                          1   \n",
       "\n",
       "  BUILDING_CLASS_AT_TIME_OF_SALE  SALE_PRICE AREA  not_apartment  \n",
       "0                             A4     4844809   MH           True  \n",
       "1                             A4           0   MH           True  \n",
       "2                             A4     6100000   MH           True  \n",
       "3                             B1           0   MH           True  \n",
       "4                             B9           0   MH           True  "
      ]
     },
     "execution_count": 3,
     "metadata": {},
     "output_type": "execute_result"
    }
   ],
   "source": [
    "df=load_data()\n",
    "df.head()"
   ]
  },
  {
   "cell_type": "code",
   "execution_count": null,
   "metadata": {},
   "outputs": [],
   "source": []
  },
  {
   "cell_type": "code",
   "execution_count": null,
   "metadata": {},
   "outputs": [],
   "source": []
  },
  {
   "cell_type": "code",
   "execution_count": null,
   "metadata": {},
   "outputs": [],
   "source": []
  },
  {
   "cell_type": "code",
   "execution_count": 4,
   "metadata": {},
   "outputs": [],
   "source": [
    "def selec_features(features):\n",
    "    df_select=df[features]\n",
    "    df_select=df_select[df_select['SALE_PRICE']>0]\n",
    "    X = df_select.drop(['SALE_PRICE'], axis=1)\n",
    "    Y = df_select['SALE_PRICE']\n",
    "    return X,Y"
   ]
  },
  {
   "cell_type": "code",
   "execution_count": 5,
   "metadata": {},
   "outputs": [
    {
     "data": {
      "text/html": [
       "<div>\n",
       "<style scoped>\n",
       "    .dataframe tbody tr th:only-of-type {\n",
       "        vertical-align: middle;\n",
       "    }\n",
       "\n",
       "    .dataframe tbody tr th {\n",
       "        vertical-align: top;\n",
       "    }\n",
       "\n",
       "    .dataframe thead th {\n",
       "        text-align: right;\n",
       "    }\n",
       "</style>\n",
       "<table border=\"1\" class=\"dataframe\">\n",
       "  <thead>\n",
       "    <tr style=\"text-align: right;\">\n",
       "      <th></th>\n",
       "      <th>GROSS_SQUARE_FEET</th>\n",
       "      <th>NEIGHBORHOOD_ALPHABET CITY</th>\n",
       "      <th>NEIGHBORHOOD_BATHGATE</th>\n",
       "      <th>NEIGHBORHOOD_BAYCHESTER</th>\n",
       "      <th>NEIGHBORHOOD_BEDFORD PARK/NORWOOD</th>\n",
       "      <th>NEIGHBORHOOD_BELMONT</th>\n",
       "      <th>NEIGHBORHOOD_BRONX PARK</th>\n",
       "      <th>NEIGHBORHOOD_BRONXDALE</th>\n",
       "      <th>NEIGHBORHOOD_CASTLE HILL/UNIONPORT</th>\n",
       "      <th>NEIGHBORHOOD_CHELSEA</th>\n",
       "      <th>...</th>\n",
       "      <th>NEIGHBORHOOD_UPPER WEST SIDE (59-79)</th>\n",
       "      <th>NEIGHBORHOOD_UPPER WEST SIDE (79-96)</th>\n",
       "      <th>NEIGHBORHOOD_UPPER WEST SIDE (96-116)</th>\n",
       "      <th>NEIGHBORHOOD_VAN CORTLANDT PARK</th>\n",
       "      <th>NEIGHBORHOOD_WAKEFIELD</th>\n",
       "      <th>NEIGHBORHOOD_WASHINGTON HEIGHTS LOWER</th>\n",
       "      <th>NEIGHBORHOOD_WASHINGTON HEIGHTS UPPER</th>\n",
       "      <th>NEIGHBORHOOD_WESTCHESTER</th>\n",
       "      <th>NEIGHBORHOOD_WILLIAMSBRIDGE</th>\n",
       "      <th>NEIGHBORHOOD_WOODLAWN</th>\n",
       "    </tr>\n",
       "  </thead>\n",
       "  <tbody>\n",
       "    <tr>\n",
       "      <th>0</th>\n",
       "      <td>2183.0</td>\n",
       "      <td>1</td>\n",
       "      <td>0</td>\n",
       "      <td>0</td>\n",
       "      <td>0</td>\n",
       "      <td>0</td>\n",
       "      <td>0</td>\n",
       "      <td>0</td>\n",
       "      <td>0</td>\n",
       "      <td>0</td>\n",
       "      <td>...</td>\n",
       "      <td>0</td>\n",
       "      <td>0</td>\n",
       "      <td>0</td>\n",
       "      <td>0</td>\n",
       "      <td>0</td>\n",
       "      <td>0</td>\n",
       "      <td>0</td>\n",
       "      <td>0</td>\n",
       "      <td>0</td>\n",
       "      <td>0</td>\n",
       "    </tr>\n",
       "    <tr>\n",
       "      <th>2</th>\n",
       "      <td>5200.0</td>\n",
       "      <td>1</td>\n",
       "      <td>0</td>\n",
       "      <td>0</td>\n",
       "      <td>0</td>\n",
       "      <td>0</td>\n",
       "      <td>0</td>\n",
       "      <td>0</td>\n",
       "      <td>0</td>\n",
       "      <td>0</td>\n",
       "      <td>...</td>\n",
       "      <td>0</td>\n",
       "      <td>0</td>\n",
       "      <td>0</td>\n",
       "      <td>0</td>\n",
       "      <td>0</td>\n",
       "      <td>0</td>\n",
       "      <td>0</td>\n",
       "      <td>0</td>\n",
       "      <td>0</td>\n",
       "      <td>0</td>\n",
       "    </tr>\n",
       "    <tr>\n",
       "      <th>6</th>\n",
       "      <td>17478.0</td>\n",
       "      <td>1</td>\n",
       "      <td>0</td>\n",
       "      <td>0</td>\n",
       "      <td>0</td>\n",
       "      <td>0</td>\n",
       "      <td>0</td>\n",
       "      <td>0</td>\n",
       "      <td>0</td>\n",
       "      <td>0</td>\n",
       "      <td>...</td>\n",
       "      <td>0</td>\n",
       "      <td>0</td>\n",
       "      <td>0</td>\n",
       "      <td>0</td>\n",
       "      <td>0</td>\n",
       "      <td>0</td>\n",
       "      <td>0</td>\n",
       "      <td>0</td>\n",
       "      <td>0</td>\n",
       "      <td>0</td>\n",
       "    </tr>\n",
       "    <tr>\n",
       "      <th>7</th>\n",
       "      <td>6294.0</td>\n",
       "      <td>1</td>\n",
       "      <td>0</td>\n",
       "      <td>0</td>\n",
       "      <td>0</td>\n",
       "      <td>0</td>\n",
       "      <td>0</td>\n",
       "      <td>0</td>\n",
       "      <td>0</td>\n",
       "      <td>0</td>\n",
       "      <td>...</td>\n",
       "      <td>0</td>\n",
       "      <td>0</td>\n",
       "      <td>0</td>\n",
       "      <td>0</td>\n",
       "      <td>0</td>\n",
       "      <td>0</td>\n",
       "      <td>0</td>\n",
       "      <td>0</td>\n",
       "      <td>0</td>\n",
       "      <td>0</td>\n",
       "    </tr>\n",
       "    <tr>\n",
       "      <th>8</th>\n",
       "      <td>14588.0</td>\n",
       "      <td>1</td>\n",
       "      <td>0</td>\n",
       "      <td>0</td>\n",
       "      <td>0</td>\n",
       "      <td>0</td>\n",
       "      <td>0</td>\n",
       "      <td>0</td>\n",
       "      <td>0</td>\n",
       "      <td>0</td>\n",
       "      <td>...</td>\n",
       "      <td>0</td>\n",
       "      <td>0</td>\n",
       "      <td>0</td>\n",
       "      <td>0</td>\n",
       "      <td>0</td>\n",
       "      <td>0</td>\n",
       "      <td>0</td>\n",
       "      <td>0</td>\n",
       "      <td>0</td>\n",
       "      <td>0</td>\n",
       "    </tr>\n",
       "  </tbody>\n",
       "</table>\n",
       "<p>5 rows × 76 columns</p>\n",
       "</div>"
      ],
      "text/plain": [
       "   GROSS_SQUARE_FEET  NEIGHBORHOOD_ALPHABET CITY  NEIGHBORHOOD_BATHGATE  \\\n",
       "0             2183.0                           1                      0   \n",
       "2             5200.0                           1                      0   \n",
       "6            17478.0                           1                      0   \n",
       "7             6294.0                           1                      0   \n",
       "8            14588.0                           1                      0   \n",
       "\n",
       "   NEIGHBORHOOD_BAYCHESTER  NEIGHBORHOOD_BEDFORD PARK/NORWOOD  \\\n",
       "0                        0                                  0   \n",
       "2                        0                                  0   \n",
       "6                        0                                  0   \n",
       "7                        0                                  0   \n",
       "8                        0                                  0   \n",
       "\n",
       "   NEIGHBORHOOD_BELMONT  NEIGHBORHOOD_BRONX PARK  NEIGHBORHOOD_BRONXDALE  \\\n",
       "0                     0                        0                       0   \n",
       "2                     0                        0                       0   \n",
       "6                     0                        0                       0   \n",
       "7                     0                        0                       0   \n",
       "8                     0                        0                       0   \n",
       "\n",
       "   NEIGHBORHOOD_CASTLE HILL/UNIONPORT  NEIGHBORHOOD_CHELSEA  \\\n",
       "0                                   0                     0   \n",
       "2                                   0                     0   \n",
       "6                                   0                     0   \n",
       "7                                   0                     0   \n",
       "8                                   0                     0   \n",
       "\n",
       "           ...            NEIGHBORHOOD_UPPER WEST SIDE (59-79)  \\\n",
       "0          ...                                               0   \n",
       "2          ...                                               0   \n",
       "6          ...                                               0   \n",
       "7          ...                                               0   \n",
       "8          ...                                               0   \n",
       "\n",
       "   NEIGHBORHOOD_UPPER WEST SIDE (79-96)  \\\n",
       "0                                     0   \n",
       "2                                     0   \n",
       "6                                     0   \n",
       "7                                     0   \n",
       "8                                     0   \n",
       "\n",
       "   NEIGHBORHOOD_UPPER WEST SIDE (96-116)  NEIGHBORHOOD_VAN CORTLANDT PARK  \\\n",
       "0                                      0                                0   \n",
       "2                                      0                                0   \n",
       "6                                      0                                0   \n",
       "7                                      0                                0   \n",
       "8                                      0                                0   \n",
       "\n",
       "   NEIGHBORHOOD_WAKEFIELD  NEIGHBORHOOD_WASHINGTON HEIGHTS LOWER  \\\n",
       "0                       0                                      0   \n",
       "2                       0                                      0   \n",
       "6                       0                                      0   \n",
       "7                       0                                      0   \n",
       "8                       0                                      0   \n",
       "\n",
       "   NEIGHBORHOOD_WASHINGTON HEIGHTS UPPER  NEIGHBORHOOD_WESTCHESTER  \\\n",
       "0                                      0                         0   \n",
       "2                                      0                         0   \n",
       "6                                      0                         0   \n",
       "7                                      0                         0   \n",
       "8                                      0                         0   \n",
       "\n",
       "   NEIGHBORHOOD_WILLIAMSBRIDGE  NEIGHBORHOOD_WOODLAWN  \n",
       "0                            0                      0  \n",
       "2                            0                      0  \n",
       "6                            0                      0  \n",
       "7                            0                      0  \n",
       "8                            0                      0  \n",
       "\n",
       "[5 rows x 76 columns]"
      ]
     },
     "execution_count": 5,
     "metadata": {},
     "output_type": "execute_result"
    }
   ],
   "source": [
    "# select neighborhood / BLOCK + GROSS_SQUARE_FEET\n",
    "features_selected=['NEIGHBORHOOD','GROSS_SQUARE_FEET','SALE_PRICE']\n",
    "# features_selected=['BLOCK','GROSS_SQUARE_FEET','SALE_PRICE']\n",
    "X,Y=selec_features(features_selected)\n",
    "X=pd.get_dummies(X, columns=['NEIGHBORHOOD'])\n",
    "# X=pd.get_dummies(X, columns=['BLOCK'])\n",
    "X.head()"
   ]
  },
  {
   "cell_type": "code",
   "execution_count": 6,
   "metadata": {},
   "outputs": [],
   "source": [
    "from sklearn.model_selection import train_test_split\n",
    "\n",
    "X_train, X_test, Y_train, Y_test = train_test_split(X, Y, test_size=.25)\n"
   ]
  },
  {
   "cell_type": "code",
   "execution_count": 7,
   "metadata": {},
   "outputs": [],
   "source": [
    "from sklearn.linear_model import LinearRegression\n",
    "from sklearn.ensemble import RandomForestRegressor\n",
    "from sklearn.model_selection import cross_val_score\n",
    "def model_score(model):\n",
    "    model=model\n",
    "    model.fit(X_train, Y_train)\n",
    "    score=model.score(X_test, Y_test)\n",
    "    return score"
   ]
  },
  {
   "cell_type": "code",
   "execution_count": 8,
   "metadata": {},
   "outputs": [
    {
     "name": "stdout",
     "output_type": "stream",
     "text": [
      "features_selected: ['NEIGHBORHOOD', 'GROSS_SQUARE_FEET', 'SALE_PRICE']\n"
     ]
    },
    {
     "name": "stderr",
     "output_type": "stream",
     "text": [
      "C:\\Users\\ryouen\\Anaconda3\\lib\\site-packages\\sklearn\\ensemble\\forest.py:246: FutureWarning: The default value of n_estimators will change from 10 in version 0.20 to 100 in 0.22.\n",
      "  \"10 in version 0.20 to 100 in 0.22.\", FutureWarning)\n"
     ]
    },
    {
     "name": "stdout",
     "output_type": "stream",
     "text": [
      "RandomForestRegressor:0.05988546913828352\n",
      "AVG_AUC: 0.3338185457239987\n"
     ]
    }
   ],
   "source": [
    "model=RandomForestRegressor()\n",
    "\n",
    "print(\"features_selected:\", features_selected)\n",
    "print(\"RandomForestRegressor:\"+str(model_score(model)))\n",
    "avg_auc = cross_val_score(model, X_train,Y_train, cv=10, scoring=\"r2\").mean()\n",
    "print(\"AVG_AUC:\", avg_auc)"
   ]
  },
  {
   "cell_type": "code",
   "execution_count": 9,
   "metadata": {},
   "outputs": [
    {
     "name": "stdout",
     "output_type": "stream",
     "text": [
      "features_selected: ['NEIGHBORHOOD', 'GROSS_SQUARE_FEET', 'SALE_PRICE']\n",
      "LinearRegression:0.3047236554543836\n",
      "AVG_AUC: 0.18302849909603996\n"
     ]
    }
   ],
   "source": [
    "model=LinearRegression()\n",
    "print(\"features_selected:\", features_selected)\n",
    "print(\"LinearRegression:\"+str(model_score(model)))\n",
    "avg_auc = cross_val_score(model, X_train,Y_train, cv=10, scoring=\"r2\").mean()\n",
    "print(\"AVG_AUC:\",avg_auc)"
   ]
  },
  {
   "cell_type": "markdown",
   "metadata": {},
   "source": [
    "only tried on manhattan and bronx, only one year\n",
    "result:\n",
    "    block+gross_square_feet\n",
    "        random_forest(low,cost too much time to calculate auc) >linearregression(very low,near 0, negative auc)\n",
    "    neighborhood+gross_square_feet:\n",
    "        random_fores (very unstable)\n",
    "        linearregression (auc very low, near 0)"
   ]
  },
  {
   "cell_type": "markdown",
   "metadata": {},
   "source": [
    "# Discussion #1\n",
    "\n",
    "\n",
    "\n"
   ]
  },
  {
   "cell_type": "markdown",
   "metadata": {},
   "source": [
    "As we showed, the result of analysis is not great.\n",
    "So, we need to further look at the data.\n",
    "\n",
    "Let's begin from the SALE_PRICE data."
   ]
  },
  {
   "cell_type": "code",
   "execution_count": 10,
   "metadata": {},
   "outputs": [
    {
     "data": {
      "text/plain": [
       "count    1.850900e+04\n",
       "mean     3.177423e+06\n",
       "std      2.690026e+07\n",
       "min      1.000000e+00\n",
       "25%      4.750000e+05\n",
       "50%      7.980000e+05\n",
       "75%      1.790000e+06\n",
       "max      2.397502e+09\n",
       "Name: SALE_PRICE, dtype: float64"
      ]
     },
     "execution_count": 10,
     "metadata": {},
     "output_type": "execute_result"
    }
   ],
   "source": [
    "df[df[\"SALE_PRICE\"]>0][\"SALE_PRICE\"].describe()"
   ]
  },
  {
   "cell_type": "code",
   "execution_count": 11,
   "metadata": {},
   "outputs": [
    {
     "data": {
      "text/plain": [
       "{'whiskers': [<matplotlib.lines.Line2D at 0x1aa2cdb39e8>,\n",
       "  <matplotlib.lines.Line2D at 0x1aa2cdb3d30>],\n",
       " 'caps': [<matplotlib.lines.Line2D at 0x1aa2cdb3e10>,\n",
       "  <matplotlib.lines.Line2D at 0x1aa2cf4f400>],\n",
       " 'boxes': [<matplotlib.lines.Line2D at 0x1aa2cb186d8>],\n",
       " 'medians': [<matplotlib.lines.Line2D at 0x1aa2cf4f748>],\n",
       " 'fliers': [<matplotlib.lines.Line2D at 0x1aa2cf4fa90>],\n",
       " 'means': []}"
      ]
     },
     "execution_count": 11,
     "metadata": {},
     "output_type": "execute_result"
    },
    {
     "data": {
      "image/png": "[encoded data removed]",
      "text/plain": [
       "<Figure size 432x288 with 1 Axes>"
      ]
     },
     "metadata": {
      "needs_background": "light"
     },
     "output_type": "display_data"
    }
   ],
   "source": [
    "fig, ax = plt.subplots()\n",
    "ax.boxplot(df[(df[\"SALE_PRICE\"]>10000) & (df[\"SALE_PRICE\"]<1.0e+08)][\"SALE_PRICE\"])"
   ]
  },
  {
   "cell_type": "code",
   "execution_count": 12,
   "metadata": {},
   "outputs": [
    {
     "data": {
      "image/png": "[encoded data removed]",
      "text/plain": [
       "<Figure size 432x288 with 1 Axes>"
      ]
     },
     "metadata": {
      "needs_background": "light"
     },
     "output_type": "display_data"
    }
   ],
   "source": [
    "df[df[\"SALE_PRICE\"]>10000000][\"SALE_PRICE\"].plot.hist(bins=20);\n"
   ]
  },
  {
   "cell_type": "markdown",
   "metadata": {},
   "source": [
    "As I showed here, the histgram is super-right long tail.\n",
    "\n",
    "So, I decided to take log to the data.\n"
   ]
  },
  {
   "cell_type": "code",
   "execution_count": 13,
   "metadata": {},
   "outputs": [
    {
     "data": {
      "text/plain": [
       "0       15.393418\n",
       "1            -inf\n",
       "2       15.623799\n",
       "3            -inf\n",
       "4            -inf\n",
       "5            -inf\n",
       "6       16.454568\n",
       "7       13.679118\n",
       "8       15.931766\n",
       "9            -inf\n",
       "10      16.152497\n",
       "11      12.869763\n",
       "12      15.424948\n",
       "13           -inf\n",
       "14      15.648092\n",
       "15      14.690979\n",
       "16           -inf\n",
       "17           -inf\n",
       "18           -inf\n",
       "19           -inf\n",
       "20      16.663323\n",
       "21       9.876887\n",
       "22       7.824046\n",
       "23       7.824046\n",
       "24       7.824046\n",
       "25       7.824046\n",
       "26       7.824046\n",
       "27       7.824046\n",
       "28       7.824046\n",
       "29       7.824046\n",
       "          ...    \n",
       "7668    11.608236\n",
       "7669    12.421184\n",
       "7670    11.918391\n",
       "7671    12.468437\n",
       "7672    11.561716\n",
       "7673    11.842229\n",
       "7674    11.686879\n",
       "7675    11.813030\n",
       "7676    11.686879\n",
       "7677    11.289782\n",
       "7678    12.149502\n",
       "7679    11.918391\n",
       "7680    11.794338\n",
       "7681    11.385092\n",
       "7682    11.938193\n",
       "7683    12.416188\n",
       "7684    12.321969\n",
       "7685    12.095141\n",
       "7686    12.015372\n",
       "7687    12.043554\n",
       "7688         -inf\n",
       "7689    11.338572\n",
       "7690    12.091671\n",
       "7691     9.581904\n",
       "7692    11.652687\n",
       "7693    12.429216\n",
       "7694    12.323856\n",
       "7695    14.731801\n",
       "7696         -inf\n",
       "7697    13.592367\n",
       "Name: SALE_PRICE, Length: 24439, dtype: float64"
      ]
     },
     "execution_count": 13,
     "metadata": {},
     "output_type": "execute_result"
    }
   ],
   "source": [
    "df[\"SALE_PRICE\"].apply(np.log)"
   ]
  },
  {
   "cell_type": "code",
   "execution_count": 14,
   "metadata": {},
   "outputs": [],
   "source": [
    "df[\"SALE_PRICE\"] = df[\"SALE_PRICE\"].replace(0, np.NaN)\n",
    "df[\"Logged_SALE_PRICE\"] = df[\"SALE_PRICE\"].apply(np.log)"
   ]
  },
  {
   "cell_type": "code",
   "execution_count": 29,
   "metadata": {},
   "outputs": [
    {
     "data": {
      "image/png": "[encoded data removed]",
      "text/plain": [
       "<Figure size 432x288 with 1 Axes>"
      ]
     },
     "metadata": {
      "needs_background": "light"
     },
     "output_type": "display_data"
    }
   ],
   "source": [
    "df[df[\"Logged_SALE_PRICE\"]>6][\"Logged_SALE_PRICE\"].plot.hist(bins=20);\n"
   ]
  },
  {
   "cell_type": "markdown",
   "metadata": {},
   "source": [
    "Then re-run the regression."
   ]
  },
  {
   "cell_type": "code",
   "execution_count": 30,
   "metadata": {},
   "outputs": [],
   "source": [
    "def selec_features(features):\n",
    "    df_select=df[features]\n",
    "    df_select=df_select[df_select['Logged_SALE_PRICE']>6]\n",
    "    X = df_select.drop(['Logged_SALE_PRICE'], axis=1)\n",
    "    Y = df_select['Logged_SALE_PRICE']\n",
    "    return X,Y\n",
    "\n",
    "features_selected=['NEIGHBORHOOD','GROSS_SQUARE_FEET','Logged_SALE_PRICE']\n",
    "X,Y=selec_features(features_selected)\n",
    "X=pd.get_dummies(X, columns=['NEIGHBORHOOD'])\n",
    "X.head()\n",
    "\n",
    "from sklearn.model_selection import train_test_split\n",
    "X_train, X_test, Y_train, Y_test = train_test_split(X, Y, test_size=.25)\n",
    "\n",
    "from sklearn.linear_model import LinearRegression\n",
    "from sklearn.ensemble import RandomForestRegressor\n",
    "from sklearn.model_selection import cross_val_score\n",
    "def model_score(model):\n",
    "    model=model\n",
    "    model.fit(X_train, Y_train)\n",
    "    score=model.score(X_test, Y_test)\n",
    "    return score\n",
    "\n"
   ]
  },
  {
   "cell_type": "code",
   "execution_count": 31,
   "metadata": {},
   "outputs": [
    {
     "name": "stdout",
     "output_type": "stream",
     "text": [
      "features_selected: ['NEIGHBORHOOD', 'GROSS_SQUARE_FEET', 'Logged_SALE_PRICE']\n"
     ]
    },
    {
     "name": "stderr",
     "output_type": "stream",
     "text": [
      "C:\\Users\\ryouen\\Anaconda3\\lib\\site-packages\\sklearn\\ensemble\\forest.py:246: FutureWarning: The default value of n_estimators will change from 10 in version 0.20 to 100 in 0.22.\n",
      "  \"10 in version 0.20 to 100 in 0.22.\", FutureWarning)\n"
     ]
    },
    {
     "name": "stdout",
     "output_type": "stream",
     "text": [
      "RandomForestRegressor:0.5225038421682265\n",
      "AVG_AUC: 0.5782931605876358\n"
     ]
    }
   ],
   "source": [
    "model=RandomForestRegressor()\n",
    "\n",
    "print(\"features_selected:\", features_selected)\n",
    "print(\"RandomForestRegressor:\"+str(model_score(model)))\n",
    "avg_auc = cross_val_score(model, X_train,Y_train, cv=10, scoring=\"r2\").mean()\n",
    "print(\"AVG_AUC:\", avg_auc)"
   ]
  },
  {
   "cell_type": "code",
   "execution_count": 32,
   "metadata": {},
   "outputs": [
    {
     "name": "stdout",
     "output_type": "stream",
     "text": [
      "features_selected: ['NEIGHBORHOOD', 'GROSS_SQUARE_FEET', 'Logged_SALE_PRICE']\n",
      "LinearRegression:0.2972071288958694\n",
      "AVG_AUC: 0.31182291180739247\n"
     ]
    }
   ],
   "source": [
    "model=LinearRegression()\n",
    "print(\"features_selected:\", features_selected)\n",
    "print(\"LinearRegression:\"+str(model_score(model)))\n",
    "avg_auc = cross_val_score(model, X_train,Y_train, cv=10, scoring=\"r2\").mean()\n",
    "print(\"AVG_AUC:\",avg_auc)"
   ]
  },
  {
   "cell_type": "code",
   "execution_count": null,
   "metadata": {},
   "outputs": [],
   "source": []
  },
  {
   "cell_type": "code",
   "execution_count": null,
   "metadata": {},
   "outputs": [],
   "source": []
  },
  {
   "cell_type": "code",
   "execution_count": null,
   "metadata": {},
   "outputs": [],
   "source": []
  },
  {
   "cell_type": "code",
   "execution_count": null,
   "metadata": {},
   "outputs": [],
   "source": []
  },
  {
   "cell_type": "code",
   "execution_count": null,
   "metadata": {},
   "outputs": [],
   "source": []
  },
  {
   "cell_type": "code",
   "execution_count": null,
   "metadata": {},
   "outputs": [],
   "source": []
  },
  {
   "cell_type": "code",
   "execution_count": null,
   "metadata": {},
   "outputs": [],
   "source": []
  },
  {
   "cell_type": "code",
   "execution_count": null,
   "metadata": {},
   "outputs": [],
   "source": []
  },
  {
   "cell_type": "code",
   "execution_count": 19,
   "metadata": {},
   "outputs": [],
   "source": [
    "from sklearn.tree import DecisionTreeClassifier\n",
    "from sklearn.model_selection import train_test_split\n",
    "from sklearn.metrics import accuracy_score\n"
   ]
  },
  {
   "cell_type": "code",
   "execution_count": 20,
   "metadata": {},
   "outputs": [
    {
     "ename": "ValueError",
     "evalue": "Unknown label type: 'continuous'",
     "output_type": "error",
     "traceback": [
      "\u001b[1;31m---------------------------------------------------------------------------\u001b[0m",
      "\u001b[1;31mValueError\u001b[0m                                Traceback (most recent call last)",
      "\u001b[1;32m<ipython-input-20-8d815c3a771c>\u001b[0m in \u001b[0;36m<module>\u001b[1;34m\u001b[0m\n\u001b[0;32m      1\u001b[0m \u001b[0mmodel\u001b[0m \u001b[1;33m=\u001b[0m \u001b[0mDecisionTreeClassifier\u001b[0m\u001b[1;33m(\u001b[0m\u001b[0mmax_depth\u001b[0m\u001b[1;33m=\u001b[0m\u001b[1;36m10\u001b[0m\u001b[1;33m)\u001b[0m\u001b[1;33m\u001b[0m\u001b[1;33m\u001b[0m\u001b[0m\n\u001b[1;32m----> 2\u001b[1;33m \u001b[0mmodel\u001b[0m\u001b[1;33m.\u001b[0m\u001b[0mfit\u001b[0m\u001b[1;33m(\u001b[0m\u001b[0mX_train\u001b[0m\u001b[1;33m,\u001b[0m \u001b[0mY_train\u001b[0m\u001b[1;33m)\u001b[0m\u001b[1;33m\u001b[0m\u001b[1;33m\u001b[0m\u001b[0m\n\u001b[0m\u001b[0;32m      3\u001b[0m \u001b[1;33m\u001b[0m\u001b[0m\n\u001b[0;32m      4\u001b[0m \u001b[0mprint\u001b[0m \u001b[1;33m(\u001b[0m \u001b[1;34m\"Accuracy on training = %.4f\"\u001b[0m \u001b[1;33m%\u001b[0m \u001b[0maccuracy_score\u001b[0m\u001b[1;33m(\u001b[0m\u001b[0mmodel\u001b[0m\u001b[1;33m.\u001b[0m\u001b[0mpredict\u001b[0m\u001b[1;33m(\u001b[0m\u001b[0mX_train\u001b[0m\u001b[1;33m)\u001b[0m\u001b[1;33m,\u001b[0m \u001b[0mY_train\u001b[0m\u001b[1;33m)\u001b[0m \u001b[1;33m)\u001b[0m\u001b[1;33m\u001b[0m\u001b[1;33m\u001b[0m\u001b[0m\n\u001b[0;32m      5\u001b[0m \u001b[0mprint\u001b[0m \u001b[1;33m(\u001b[0m \u001b[1;34m\"Accuracy on test = %.4f\"\u001b[0m \u001b[1;33m%\u001b[0m \u001b[0maccuracy_score\u001b[0m\u001b[1;33m(\u001b[0m\u001b[0mmodel\u001b[0m\u001b[1;33m.\u001b[0m\u001b[0mpredict\u001b[0m\u001b[1;33m(\u001b[0m\u001b[0mX_test\u001b[0m\u001b[1;33m)\u001b[0m\u001b[1;33m,\u001b[0m \u001b[0mY_test\u001b[0m\u001b[1;33m)\u001b[0m \u001b[1;33m)\u001b[0m\u001b[1;33m\u001b[0m\u001b[1;33m\u001b[0m\u001b[0m\n",
      "\u001b[1;32m~\\Anaconda3\\lib\\site-packages\\sklearn\\tree\\tree.py\u001b[0m in \u001b[0;36mfit\u001b[1;34m(self, X, y, sample_weight, check_input, X_idx_sorted)\u001b[0m\n\u001b[0;32m    799\u001b[0m             \u001b[0msample_weight\u001b[0m\u001b[1;33m=\u001b[0m\u001b[0msample_weight\u001b[0m\u001b[1;33m,\u001b[0m\u001b[1;33m\u001b[0m\u001b[1;33m\u001b[0m\u001b[0m\n\u001b[0;32m    800\u001b[0m             \u001b[0mcheck_input\u001b[0m\u001b[1;33m=\u001b[0m\u001b[0mcheck_input\u001b[0m\u001b[1;33m,\u001b[0m\u001b[1;33m\u001b[0m\u001b[1;33m\u001b[0m\u001b[0m\n\u001b[1;32m--> 801\u001b[1;33m             X_idx_sorted=X_idx_sorted)\n\u001b[0m\u001b[0;32m    802\u001b[0m         \u001b[1;32mreturn\u001b[0m \u001b[0mself\u001b[0m\u001b[1;33m\u001b[0m\u001b[1;33m\u001b[0m\u001b[0m\n\u001b[0;32m    803\u001b[0m \u001b[1;33m\u001b[0m\u001b[0m\n",
      "\u001b[1;32m~\\Anaconda3\\lib\\site-packages\\sklearn\\tree\\tree.py\u001b[0m in \u001b[0;36mfit\u001b[1;34m(self, X, y, sample_weight, check_input, X_idx_sorted)\u001b[0m\n\u001b[0;32m    138\u001b[0m \u001b[1;33m\u001b[0m\u001b[0m\n\u001b[0;32m    139\u001b[0m         \u001b[1;32mif\u001b[0m \u001b[0mis_classification\u001b[0m\u001b[1;33m:\u001b[0m\u001b[1;33m\u001b[0m\u001b[1;33m\u001b[0m\u001b[0m\n\u001b[1;32m--> 140\u001b[1;33m             \u001b[0mcheck_classification_targets\u001b[0m\u001b[1;33m(\u001b[0m\u001b[0my\u001b[0m\u001b[1;33m)\u001b[0m\u001b[1;33m\u001b[0m\u001b[1;33m\u001b[0m\u001b[0m\n\u001b[0m\u001b[0;32m    141\u001b[0m             \u001b[0my\u001b[0m \u001b[1;33m=\u001b[0m \u001b[0mnp\u001b[0m\u001b[1;33m.\u001b[0m\u001b[0mcopy\u001b[0m\u001b[1;33m(\u001b[0m\u001b[0my\u001b[0m\u001b[1;33m)\u001b[0m\u001b[1;33m\u001b[0m\u001b[1;33m\u001b[0m\u001b[0m\n\u001b[0;32m    142\u001b[0m \u001b[1;33m\u001b[0m\u001b[0m\n",
      "\u001b[1;32m~\\Anaconda3\\lib\\site-packages\\sklearn\\utils\\multiclass.py\u001b[0m in \u001b[0;36mcheck_classification_targets\u001b[1;34m(y)\u001b[0m\n\u001b[0;32m    169\u001b[0m     if y_type not in ['binary', 'multiclass', 'multiclass-multioutput',\n\u001b[0;32m    170\u001b[0m                       'multilabel-indicator', 'multilabel-sequences']:\n\u001b[1;32m--> 171\u001b[1;33m         \u001b[1;32mraise\u001b[0m \u001b[0mValueError\u001b[0m\u001b[1;33m(\u001b[0m\u001b[1;34m\"Unknown label type: %r\"\u001b[0m \u001b[1;33m%\u001b[0m \u001b[0my_type\u001b[0m\u001b[1;33m)\u001b[0m\u001b[1;33m\u001b[0m\u001b[1;33m\u001b[0m\u001b[0m\n\u001b[0m\u001b[0;32m    172\u001b[0m \u001b[1;33m\u001b[0m\u001b[0m\n\u001b[0;32m    173\u001b[0m \u001b[1;33m\u001b[0m\u001b[0m\n",
      "\u001b[1;31mValueError\u001b[0m: Unknown label type: 'continuous'"
     ]
    }
   ],
   "source": [
    "model = DecisionTreeClassifier(max_depth=10)\n",
    "model.fit(X_train, Y_train)\n",
    "\n",
    "print ( \"Accuracy on training = %.4f\" % accuracy_score(model.predict(X_train), Y_train) )\n",
    "print ( \"Accuracy on test = %.4f\" % accuracy_score(model.predict(X_test), Y_test) )\n",
    "\n",
    "from sklearn.model_selection import KFold\n",
    "def plot_fitting_curve(datasets, maxdepth=15):\n",
    "    # Intialize accuracies\n",
    "    accuracies = {}\n",
    "    for key in datasets:\n",
    "        accuracies[key] = []\n",
    "    # Initialize depths\n",
    "    depths = range(1, maxdepth+1)\n",
    "    # Fit model for each specific depth\n",
    "    for md in depths:\n",
    "        model = DecisionTreeClassifier(max_depth=md, random_state=42)\n",
    "        # Record accuracies\n",
    "        for key in datasets:\n",
    "            X = datasets[key]['X']\n",
    "            Y = datasets[key]['Y']\n",
    "            if key == \"X-Val\":\n",
    "                from sklearn.model_selection import cross_val_score\n",
    "                kf = KFold(n_splits=5)\n",
    "                accuracies[key].append(cross_val_score(model, X, Y, scoring=\"accuracy\", cv=kf).mean())\n",
    "            else:\n",
    "                model.fit(datasets['Train']['X'], datasets['Train']['Y'])\n",
    "                accuracies[key].append(accuracy_score(model.predict(X), Y))\n",
    "    # Plot each curve\n",
    "    plt.figure(figsize=[10,7])\n",
    "    for key in datasets:\n",
    "        plt.plot(depths, accuracies[key], label=key)\n",
    "    # Plot details\n",
    "    plt.title(\"Performance on train and test data\")\n",
    "    plt.xlabel(\"Max depth\")\n",
    "    plt.ylabel(\"Accuracy\")\n",
    "    # Find minimum accuracy in all runs\n",
    "    max_acc = np.array(list(accuracies.values())).max()\n",
    "    min_acc = np.array(list(accuracies.values())).min()\n",
    "    plt.ylim([min_acc*0.99, max_acc*1.01])\n",
    "    #plt.ylim([min_acc, 1.0])\n",
    "    plt.xlim([1, maxdepth])\n",
    "    plt.legend()\n",
    "    plt.grid()\n",
    "    plt.show()\n",
    "    return accuracies\n",
    "\n",
    "datasets = {\"Train\": {\"X\": X_train, \"Y\": Y_train}, \"Test\": {\"X\": X_test, \"Y\": Y_test}}\n",
    "ac = plot_fitting_curve(datasets)"
   ]
  },
  {
   "cell_type": "code",
   "execution_count": null,
   "metadata": {},
   "outputs": [],
   "source": []
  }
 ],
 "metadata": {
  "hide_input": false,
  "kernelspec": {
   "display_name": "Python 3",
   "language": "python",
   "name": "python3"
  },
  "language_info": {
   "codemirror_mode": {
    "name": "ipython",
    "version": 3
   },
   "file_extension": ".py",
   "mimetype": "text/x-python",
   "name": "python",
   "nbconvert_exporter": "python",
   "pygments_lexer": "ipython3",
   "version": "3.7.1"
  }
 },
 "nbformat": 4,
 "nbformat_minor": 2
}
