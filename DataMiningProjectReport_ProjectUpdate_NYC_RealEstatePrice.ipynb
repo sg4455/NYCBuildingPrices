{
 "cells": [
  {
   "cell_type": "markdown",
   "metadata": {},
   "source": [
    "# NYC Real Estate Price Prediction\n",
    "\n",
    "## Objective\n",
    "\n",
    "We will predict the real estate price to help the people buy and sell at a reasonable price.\n",
    "\n"
   ]
  },
  {
   "cell_type": "markdown",
   "metadata": {},
   "source": [
    "## Business problems we will solve:\n",
    "\n",
    "Lack of appropriate price information of real estate in NYC for individual seller and\n",
    "buyer.\n",
    "\n",
    "What type of building a real estate developer should build for the most add-value.\n",
    "\n",
    "\n",
    "**The Use Scenario:**\n",
    "\n",
    "When one wants to sell the real estate, they can use the model we create and add some variables (location, year, area, etc) to get the appropriate prediction price.\n",
    "\n",
    "**Data mining and modeling**\n",
    "\n",
    "Price is a target variable, and we will use supervised machine learning with cross-validation to find out influential variables.\n",
    "\n",
    "\n",
    "**Source of data**\n",
    "NYC government official data.\n",
    "\n",
    "https://www1.nyc.gov/site/finance/taxes/property-rolling-sales-data.page\n"
   ]
  },
  {
   "cell_type": "markdown",
   "metadata": {},
   "source": [
    "# Data Understanding"
   ]
  },
  {
   "cell_type": "code",
   "execution_count": 76,
   "metadata": {},
   "outputs": [],
   "source": [
    "import numpy as np\n",
    "import pandas as pd\n",
    "import matplotlib.pylab as plt\n",
    "%matplotlib inline\n"
   ]
  },
  {
   "cell_type": "code",
   "execution_count": 77,
   "metadata": {},
   "outputs": [],
   "source": [
    "def load_data():\n",
    "    df_mh=pd.read_excel(\"rollingsales_manhattan.xls\",skiprows=4)\n",
    "    df_mh[\"AREA\"]=\"MH\"\n",
    "    df_bx=pd.read_excel(\"rollingsales_bronx.xls\",skiprows=4)\n",
    "    df_bx[\"AREA\"]=\"BX\"\n",
    "    df=pd.concat([df_mh,df_bx])\n",
    "    df.columns = df.columns.str.replace(' ', '_')\n",
    "    df=df.drop(columns=['EASE-MENT'])# all the values in this column is nan.\n",
    "    df['not_apartment']=df['APARTMENT_NUMBER'].isna()# ture: it is not an apartment. false: it is an apartment.\n",
    "    df=df.drop(columns=['APARTMENT_NUMBER','ADDRESS','BUILDING_CLASS_AT_PRESENT'])\n",
    "    \n",
    "    df=df.dropna()\n",
    "    return df"
   ]
  },
  {
   "cell_type": "markdown",
   "metadata": {},
   "source": [
    "Here is how our data looks like:"
   ]
  },
  {
   "cell_type": "code",
   "execution_count": 78,
   "metadata": {},
   "outputs": [
    {
     "data": {
      "text/html": [
       "<div>\n",
       "<style scoped>\n",
       "    .dataframe tbody tr th:only-of-type {\n",
       "        vertical-align: middle;\n",
       "    }\n",
       "\n",
       "    .dataframe tbody tr th {\n",
       "        vertical-align: top;\n",
       "    }\n",
       "\n",
       "    .dataframe thead th {\n",
       "        text-align: right;\n",
       "    }\n",
       "</style>\n",
       "<table border=\"1\" class=\"dataframe\">\n",
       "  <thead>\n",
       "    <tr style=\"text-align: right;\">\n",
       "      <th></th>\n",
       "      <th>BOROUGH</th>\n",
       "      <th>NEIGHBORHOOD</th>\n",
       "      <th>BUILDING_CLASS_CATEGORY</th>\n",
       "      <th>TAX_CLASS_AT_PRESENT</th>\n",
       "      <th>BLOCK</th>\n",
       "      <th>LOT</th>\n",
       "      <th>ZIP_CODE</th>\n",
       "      <th>RESIDENTIAL_UNITS</th>\n",
       "      <th>COMMERCIAL_UNITS</th>\n",
       "      <th>TOTAL_UNITS</th>\n",
       "      <th>LAND_SQUARE_FEET</th>\n",
       "      <th>GROSS_SQUARE_FEET</th>\n",
       "      <th>YEAR_BUILT</th>\n",
       "      <th>TAX_CLASS_AT_TIME_OF_SALE</th>\n",
       "      <th>BUILDING_CLASS_AT_TIME_OF_SALE</th>\n",
       "      <th>SALE_PRICE</th>\n",
       "      <th>SALE_DATE</th>\n",
       "      <th>AREA</th>\n",
       "      <th>not_apartment</th>\n",
       "    </tr>\n",
       "  </thead>\n",
       "  <tbody>\n",
       "    <tr>\n",
       "      <th>0</th>\n",
       "      <td>1</td>\n",
       "      <td>ALPHABET CITY</td>\n",
       "      <td>01 ONE FAMILY DWELLINGS</td>\n",
       "      <td>1</td>\n",
       "      <td>390</td>\n",
       "      <td>61</td>\n",
       "      <td>10009.0</td>\n",
       "      <td>1.0</td>\n",
       "      <td>0.0</td>\n",
       "      <td>1.0</td>\n",
       "      <td>987.0</td>\n",
       "      <td>2183.0</td>\n",
       "      <td>1860.0</td>\n",
       "      <td>1</td>\n",
       "      <td>A4</td>\n",
       "      <td>4844809</td>\n",
       "      <td>2018-05-22</td>\n",
       "      <td>MH</td>\n",
       "      <td>True</td>\n",
       "    </tr>\n",
       "    <tr>\n",
       "      <th>1</th>\n",
       "      <td>1</td>\n",
       "      <td>ALPHABET CITY</td>\n",
       "      <td>01 ONE FAMILY DWELLINGS</td>\n",
       "      <td>1</td>\n",
       "      <td>390</td>\n",
       "      <td>61</td>\n",
       "      <td>10009.0</td>\n",
       "      <td>1.0</td>\n",
       "      <td>0.0</td>\n",
       "      <td>1.0</td>\n",
       "      <td>987.0</td>\n",
       "      <td>2183.0</td>\n",
       "      <td>1860.0</td>\n",
       "      <td>1</td>\n",
       "      <td>A4</td>\n",
       "      <td>0</td>\n",
       "      <td>2018-05-23</td>\n",
       "      <td>MH</td>\n",
       "      <td>True</td>\n",
       "    </tr>\n",
       "    <tr>\n",
       "      <th>2</th>\n",
       "      <td>1</td>\n",
       "      <td>ALPHABET CITY</td>\n",
       "      <td>01 ONE FAMILY DWELLINGS</td>\n",
       "      <td>1</td>\n",
       "      <td>400</td>\n",
       "      <td>19</td>\n",
       "      <td>10009.0</td>\n",
       "      <td>1.0</td>\n",
       "      <td>0.0</td>\n",
       "      <td>1.0</td>\n",
       "      <td>1883.0</td>\n",
       "      <td>5200.0</td>\n",
       "      <td>1900.0</td>\n",
       "      <td>1</td>\n",
       "      <td>A4</td>\n",
       "      <td>6100000</td>\n",
       "      <td>2018-12-03</td>\n",
       "      <td>MH</td>\n",
       "      <td>True</td>\n",
       "    </tr>\n",
       "    <tr>\n",
       "      <th>3</th>\n",
       "      <td>1</td>\n",
       "      <td>ALPHABET CITY</td>\n",
       "      <td>02 TWO FAMILY DWELLINGS</td>\n",
       "      <td>1</td>\n",
       "      <td>390</td>\n",
       "      <td>35</td>\n",
       "      <td>10009.0</td>\n",
       "      <td>2.0</td>\n",
       "      <td>0.0</td>\n",
       "      <td>2.0</td>\n",
       "      <td>1218.0</td>\n",
       "      <td>4764.0</td>\n",
       "      <td>1899.0</td>\n",
       "      <td>1</td>\n",
       "      <td>B1</td>\n",
       "      <td>0</td>\n",
       "      <td>2018-04-25</td>\n",
       "      <td>MH</td>\n",
       "      <td>True</td>\n",
       "    </tr>\n",
       "    <tr>\n",
       "      <th>4</th>\n",
       "      <td>1</td>\n",
       "      <td>ALPHABET CITY</td>\n",
       "      <td>02 TWO FAMILY DWELLINGS</td>\n",
       "      <td>1</td>\n",
       "      <td>404</td>\n",
       "      <td>1</td>\n",
       "      <td>10009.0</td>\n",
       "      <td>2.0</td>\n",
       "      <td>0.0</td>\n",
       "      <td>2.0</td>\n",
       "      <td>1510.0</td>\n",
       "      <td>4520.0</td>\n",
       "      <td>1900.0</td>\n",
       "      <td>1</td>\n",
       "      <td>B9</td>\n",
       "      <td>0</td>\n",
       "      <td>2018-11-29</td>\n",
       "      <td>MH</td>\n",
       "      <td>True</td>\n",
       "    </tr>\n",
       "  </tbody>\n",
       "</table>\n",
       "</div>"
      ],
      "text/plain": [
       "   BOROUGH   NEIGHBORHOOD  BUILDING_CLASS_CATEGORY TAX_CLASS_AT_PRESENT  \\\n",
       "0        1  ALPHABET CITY  01 ONE FAMILY DWELLINGS                    1   \n",
       "1        1  ALPHABET CITY  01 ONE FAMILY DWELLINGS                    1   \n",
       "2        1  ALPHABET CITY  01 ONE FAMILY DWELLINGS                    1   \n",
       "3        1  ALPHABET CITY  02 TWO FAMILY DWELLINGS                    1   \n",
       "4        1  ALPHABET CITY  02 TWO FAMILY DWELLINGS                    1   \n",
       "\n",
       "   BLOCK  LOT  ZIP_CODE  RESIDENTIAL_UNITS  COMMERCIAL_UNITS  TOTAL_UNITS  \\\n",
       "0    390   61   10009.0                1.0               0.0          1.0   \n",
       "1    390   61   10009.0                1.0               0.0          1.0   \n",
       "2    400   19   10009.0                1.0               0.0          1.0   \n",
       "3    390   35   10009.0                2.0               0.0          2.0   \n",
       "4    404    1   10009.0                2.0               0.0          2.0   \n",
       "\n",
       "   LAND_SQUARE_FEET  GROSS_SQUARE_FEET  YEAR_BUILT  TAX_CLASS_AT_TIME_OF_SALE  \\\n",
       "0             987.0             2183.0      1860.0                          1   \n",
       "1             987.0             2183.0      1860.0                          1   \n",
       "2            1883.0             5200.0      1900.0                          1   \n",
       "3            1218.0             4764.0      1899.0                          1   \n",
       "4            1510.0             4520.0      1900.0                          1   \n",
       "\n",
       "  BUILDING_CLASS_AT_TIME_OF_SALE  SALE_PRICE  SALE_DATE AREA  not_apartment  \n",
       "0                             A4     4844809 2018-05-22   MH           True  \n",
       "1                             A4           0 2018-05-23   MH           True  \n",
       "2                             A4     6100000 2018-12-03   MH           True  \n",
       "3                             B1           0 2018-04-25   MH           True  \n",
       "4                             B9           0 2018-11-29   MH           True  "
      ]
     },
     "execution_count": 78,
     "metadata": {},
     "output_type": "execute_result"
    }
   ],
   "source": [
    "df=load_data()\n",
    "df.head()"
   ]
  },
  {
   "cell_type": "markdown",
   "metadata": {},
   "source": [
    "Our target variable is SALE_PRICE.\n",
    "So, let's take a look of the distribution."
   ]
  },
  {
   "cell_type": "code",
   "execution_count": 79,
   "metadata": {},
   "outputs": [
    {
     "data": {
      "text/plain": [
       "count    2.443900e+04\n",
       "mean     2.406437e+06\n",
       "std      2.344970e+07\n",
       "min      0.000000e+00\n",
       "25%      1.000000e+01\n",
       "50%      5.800000e+05\n",
       "75%      1.340045e+06\n",
       "max      2.397502e+09\n",
       "Name: SALE_PRICE, dtype: float64"
      ]
     },
     "execution_count": 79,
     "metadata": {},
     "output_type": "execute_result"
    }
   ],
   "source": [
    "df[\"SALE_PRICE\"].describe()"
   ]
  },
  {
   "cell_type": "code",
   "execution_count": 80,
   "metadata": {},
   "outputs": [
    {
     "data": {
      "text/plain": [
       "count    1.850900e+04\n",
       "mean     3.177423e+06\n",
       "std      2.690026e+07\n",
       "min      1.000000e+00\n",
       "25%      4.750000e+05\n",
       "50%      7.980000e+05\n",
       "75%      1.790000e+06\n",
       "max      2.397502e+09\n",
       "Name: SALE_PRICE, dtype: float64"
      ]
     },
     "execution_count": 80,
     "metadata": {},
     "output_type": "execute_result"
    }
   ],
   "source": [
    "df[\"SALE_PRICE\"] = df[\"SALE_PRICE\"].replace(0, np.NaN)\n",
    "df[\"SALE_PRICE\"].describe()"
   ]
  },
  {
   "cell_type": "code",
   "execution_count": 81,
   "metadata": {},
   "outputs": [
    {
     "data": {
      "image/png": "[encoded data removed]",
      "text/plain": [
       "<Figure size 432x288 with 1 Axes>"
      ]
     },
     "metadata": {
      "needs_background": "light"
     },
     "output_type": "display_data"
    }
   ],
   "source": [
    "fig, ax = plt.subplots()\n",
    "ax.boxplot(df[df[\"SALE_PRICE\"]>0][\"SALE_PRICE\"]);"
   ]
  },
  {
   "cell_type": "markdown",
   "metadata": {},
   "source": [
    "We find the range of the 'SALE_PRICE' varies a lot.\n",
    "To wipe out unregular observation, We limit the price range from USD 100,000 to 100,000,000. \n",
    "which means, we exculde following percentage of data."
   ]
  },
  {
   "cell_type": "code",
   "execution_count": 82,
   "metadata": {},
   "outputs": [
    {
     "data": {
      "text/plain": [
       "0.030197634927779368"
      ]
     },
     "execution_count": 82,
     "metadata": {},
     "output_type": "execute_result"
    }
   ],
   "source": [
    "sum((df[\"SALE_PRICE\"]<100000) | (df[\"SALE_PRICE\"]>100000000))/len(df[\"SALE_PRICE\"])"
   ]
  },
  {
   "cell_type": "code",
   "execution_count": 83,
   "metadata": {},
   "outputs": [
    {
     "data": {
      "image/png": "[encoded data removed]",
      "text/plain": [
       "<Figure size 432x288 with 1 Axes>"
      ]
     },
     "metadata": {
      "needs_background": "light"
     },
     "output_type": "display_data"
    }
   ],
   "source": [
    "df[(df[\"SALE_PRICE\"]>100000) & (df[\"SALE_PRICE\"]<100000000)\n",
    "  ][\"SALE_PRICE\"].plot.hist(bins=100);"
   ]
  },
  {
   "cell_type": "markdown",
   "metadata": {},
   "source": [
    "Still, the range varies a lot. So we will take a log10."
   ]
  },
  {
   "cell_type": "code",
   "execution_count": 84,
   "metadata": {},
   "outputs": [
    {
     "data": {
      "image/png": "[encoded data removed]",
      "text/plain": [
       "<Figure size 1440x432 with 2 Axes>"
      ]
     },
     "metadata": {
      "needs_background": "light"
     },
     "output_type": "display_data"
    }
   ],
   "source": [
    "df[\"SALE_PRICE\"] = df[\"SALE_PRICE\"].replace(0, np.NaN)\n",
    "df[\"Logged_SALE_PRICE\"] = df[\"SALE_PRICE\"].apply(np.log10)\n",
    "\n",
    "rows = 1\n",
    "cols = 2\n",
    "fig, axs = plt.subplots(ncols=cols, nrows=rows, figsize=(10*cols, 6*rows))\n",
    "axs = axs.flatten()\n",
    "axs[0].hist(df[(df[\"Logged_SALE_PRICE\"]>5)][\"Logged_SALE_PRICE\"], bins=30);\n",
    "axs[1].boxplot(df[(df[\"Logged_SALE_PRICE\"]>5)][\"Logged_SALE_PRICE\"]);\n",
    "plt.tight_layout()   \n"
   ]
  },
  {
   "cell_type": "markdown",
   "metadata": {},
   "source": [
    "So, it seems better than before. So, we will use our target value as Logged_SALE_PRICE."
   ]
  },
  {
   "cell_type": "markdown",
   "metadata": {},
   "source": [
    "## Another transformation we will need "
   ]
  },
  {
   "cell_type": "markdown",
   "metadata": {},
   "source": [
    "We have 'YEAR_BUILT' data which is a data when the building built.\n",
    "\n",
    "However, the data itself has no mean as we need the \"AGE\" of the building.\n",
    "\n",
    "So, we will create new variable called \"AGE\"."
   ]
  },
  {
   "cell_type": "code",
   "execution_count": 85,
   "metadata": {},
   "outputs": [
    {
     "data": {
      "text/plain": [
       "0    158.0\n",
       "1    158.0\n",
       "2    118.0\n",
       "3    119.0\n",
       "4    118.0\n",
       "Name: AGE, dtype: float64"
      ]
     },
     "execution_count": 85,
     "metadata": {},
     "output_type": "execute_result"
    }
   ],
   "source": [
    "df[\"YEAR_BUILT\"] = df[\"YEAR_BUILT\"].replace(0, np.NaN)\n",
    "df[\"SALE_DATE\"] = df[\"SALE_DATE\"].replace(0, np.NaN)\n",
    "df[\"AGE\"] = df[\"SALE_DATE\"].dt.year - df[\"YEAR_BUILT\"]\n",
    "df[\"AGE\"].head()"
   ]
  },
  {
   "cell_type": "code",
   "execution_count": 86,
   "metadata": {},
   "outputs": [
    {
     "data": {
      "text/plain": [
       "<matplotlib.axes._subplots.AxesSubplot at 0x12621fe2080>"
      ]
     },
     "execution_count": 86,
     "metadata": {},
     "output_type": "execute_result"
    },
    {
     "data": {
      "image/png": "[encoded data removed]",
      "text/plain": [
       "<Figure size 432x288 with 1 Axes>"
      ]
     },
     "metadata": {
      "needs_background": "light"
     },
     "output_type": "display_data"
    }
   ],
   "source": [
    "df[\"AGE\"].hist(bins=20)"
   ]
  },
  {
   "cell_type": "markdown",
   "metadata": {},
   "source": [
    "Also, the MONTH might be affect the value of the real estate if the other conditions hold:\n",
    "\n",
    "So, we will create new variable called \"SALE MONTH\"."
   ]
  },
  {
   "cell_type": "code",
   "execution_count": 87,
   "metadata": {},
   "outputs": [],
   "source": [
    "df[\"SALE_MONTH\"] = df[\"SALE_DATE\"].dt.month.astype(int)"
   ]
  },
  {
   "cell_type": "code",
   "execution_count": 88,
   "metadata": {},
   "outputs": [
    {
     "data": {
      "text/plain": [
       "<matplotlib.axes._subplots.AxesSubplot at 0x1261cf009b0>"
      ]
     },
     "execution_count": 88,
     "metadata": {},
     "output_type": "execute_result"
    },
    {
     "data": {
      "image/png": "[encoded data removed]",
      "text/plain": [
       "<Figure size 432x288 with 1 Axes>"
      ]
     },
     "metadata": {
      "needs_background": "light"
     },
     "output_type": "display_data"
    }
   ],
   "source": [
    "df.groupby(\"SALE_MONTH\")[\"Logged_SALE_PRICE\"].median().plot()\n",
    "df.groupby(\"SALE_MONTH\")[\"Logged_SALE_PRICE\"].mean().plot()"
   ]
  },
  {
   "cell_type": "markdown",
   "metadata": {},
   "source": [
    "## Data Plot with Logged_SALE_PRICE"
   ]
  },
  {
   "cell_type": "markdown",
   "metadata": {},
   "source": [
    "### Categorical Variables and what they look like:"
   ]
  },
  {
   "cell_type": "markdown",
   "metadata": {},
   "source": [
    "We select some variables \n"
   ]
  },
  {
   "cell_type": "code",
   "execution_count": null,
   "metadata": {},
   "outputs": [],
   "source": [
    "forboxplot = ['NEIGHBORHOOD','BUILDING_CLASS_CATEGORY','TAX_CLASS_AT_PRESENT', 'ZIP_CODE',\"SALE_MONTH\", \n",
    "              'TAX_CLASS_AT_TIME_OF_SALE', 'BUILDING_CLASS_AT_TIME_OF_SALE','AREA','not_apartment',]\n",
    "\n",
    "rows = len(forboxplot)\n",
    "cols = 2 \n",
    "fig, axes = plt.subplots(nrows=rows, ncols=cols, figsize=(4*cols, 5*rows))\n",
    "\n",
    "j=0\n",
    "\n",
    "for i in forboxplot:\n",
    "    df.boxplot(\"Logged_SALE_PRICE\", i, grid=False, sym='k.', ax=axes[j, 0])\n",
    "    df.boxplot(\"SALE_PRICE\", i, grid=False, sym='k.', ax=axes[j, 1])\n",
    "    j += 1\n"
   ]
  },
  {
   "cell_type": "code",
   "execution_count": 57,
   "metadata": {},
   "outputs": [
    {
     "data": {
      "image/png": "[encoded data removed]",
      "text/plain": [
       "<Figure size 864x360 with 3 Axes>"
      ]
     },
     "metadata": {
      "needs_background": "light"
     },
     "output_type": "display_data"
    }
   ],
   "source": [
    "rows = 1\n",
    "cols = 3\n",
    "\n",
    "fig, axs = plt.subplots(ncols=cols, nrows=rows, figsize=(4*cols, 5*rows))\n",
    "axs = axs.flatten()\n",
    "j=0\n",
    "features_selected = features_selected=['TOTAL_UNITS', 'GROSS_SQUARE_FEET','AGE']\n",
    "for i in features_selected:\n",
    "    axs[j].scatter(x=i, y=\"Logged_SALE_PRICE\",data=df)\n",
    "    j = j+1\n",
    "plt.tight_layout()   \n"
   ]
  },
  {
   "cell_type": "code",
   "execution_count": null,
   "metadata": {},
   "outputs": [],
   "source": []
  }
 ],
 "metadata": {
  "hide_input": false,
  "kernelspec": {
   "display_name": "Python 3",
   "language": "python",
   "name": "python3"
  },
  "language_info": {
   "codemirror_mode": {
    "name": "ipython",
    "version": 3
   },
   "file_extension": ".py",
   "mimetype": "text/x-python",
   "name": "python",
   "nbconvert_exporter": "python",
   "pygments_lexer": "ipython3",
   "version": "3.7.1"
  }
 },
 "nbformat": 4,
 "nbformat_minor": 2
}
