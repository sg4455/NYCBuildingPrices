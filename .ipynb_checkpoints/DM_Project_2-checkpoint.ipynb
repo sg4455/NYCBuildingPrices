{
 "cells": [
  {
   "cell_type": "code",
   "execution_count": 494,
   "metadata": {},
   "outputs": [],
   "source": [
    "import numpy as np\n",
    "import pandas as pd"
   ]
  },
  {
   "cell_type": "code",
   "execution_count": 495,
   "metadata": {},
   "outputs": [
    {
     "data": {
      "text/plain": [
       "['BOROUGH',\n",
       " 'NEIGHBORHOOD',\n",
       " 'BUILDING CLASS CATEGORY',\n",
       " 'TAX CLASS AT PRESENT',\n",
       " 'BLOCK',\n",
       " 'LOT',\n",
       " 'EASE-MENT',\n",
       " 'BUILDING CLASS AT PRESENT',\n",
       " 'ADDRESS',\n",
       " 'APARTMENT NUMBER',\n",
       " 'ZIP CODE',\n",
       " 'RESIDENTIAL UNITS',\n",
       " 'COMMERCIAL UNITS',\n",
       " 'TOTAL UNITS',\n",
       " 'LAND SQUARE FEET',\n",
       " 'GROSS SQUARE FEET',\n",
       " 'YEAR BUILT',\n",
       " 'TAX CLASS AT TIME OF SALE',\n",
       " 'BUILDING CLASS AT TIME OF SALE',\n",
       " 'SALE PRICE',\n",
       " 'SALE DATE']"
      ]
     },
     "execution_count": 495,
     "metadata": {},
     "output_type": "execute_result"
    }
   ],
   "source": [
    "df_mh=pd.read_excel(\"rollingsales_manhattan.xls\",skiprows=4)\n",
    "# df_mh.columns=df_mh.columns.str.replace(' ', '_')\n",
    "df_mh.columns.tolist()"
   ]
  },
  {
   "cell_type": "code",
   "execution_count": 496,
   "metadata": {},
   "outputs": [],
   "source": [
    "# df_mh_17=pd.read_excel(\"2017_manhattan.xls\",skiprows=4)\n",
    "# df_mh_17.columns=df_mh_17.columns.str.replace('\\n', '')\n",
    "# # df_mh_17=df_mh_17['NEIGHBORHOOD','YEAR_BUILT','GROSS_SQUARE_FEET','SALE_PRICE']\n",
    "# df_mh_17.columns.tolist()\n",
    "\n",
    "\n",
    "\n",
    "# df_mh_17.head()"
   ]
  },
  {
   "cell_type": "code",
   "execution_count": 497,
   "metadata": {},
   "outputs": [],
   "source": [
    "def get_columns(df,col):\n",
    "#     df.columns = df.columns.str.replace(' ', '_')\n",
    "    df.columns=df.columns.str.replace('\\n','')\n",
    "    df=df[col]\n",
    "    return df\n",
    "    "
   ]
  },
  {
   "cell_type": "code",
   "execution_count": 498,
   "metadata": {},
   "outputs": [],
   "source": [
    "def load_data():\n",
    "#     col=['BOROUGH', 'BUILDING CLASS CATEGORY','TAX CLASS AT PRESENT','TAX CLASS AT TIME OF SALE','SALE PRICE']\n",
    "    df_mh=pd.read_excel(\"rollingsales_manhattan.xls\",skiprows=4)\n",
    "#     df_mh=get_columns(df_mh,col)\n",
    "    \n",
    "    df_bk=pd.read_excel(\"rollingsales_brooklyn.xls\",skiprows=4)\n",
    "#     df_bk=get_columns(df_bk,col)\n",
    "    \n",
    "    df_bx=pd.read_excel(\"rollingsales_bronx.xls\",skiprows=4)\n",
    "#     df_bx=get_columns(df_bx,col)\n",
    "    \n",
    "    df_qs=pd.read_excel(\"rollingsales_queens.xls\",skiprows=4)\n",
    "#     df_qs=get_columns(df_qs,col)\n",
    "    \n",
    "    df_si=pd.read_excel(\"rollingsales_statenisland.xls\",skiprows=4)\n",
    "#     df_si=get_columns(df_si,col)\n",
    "    \n",
    "    df2018=pd.concat([df_mh,df_bk,df_bx,df_qs,df_si])\n",
    "    \n",
    "#     df_mh_17=pd.read_excel(\"2017_manhattan.xls\",skiprows=4)\n",
    "#     df_mh_17=get_columns(df_mh_17,col)\n",
    "    \n",
    "#     df_bk_17=pd.read_excel(\"2017_brooklyn.xls\",skiprows=4)\n",
    "#     df_bk_17=get_columns(df_bk_17,col)\n",
    "    \n",
    "#     df_bx_17=pd.read_excel(\"2017_bronx.xls\",skiprows=4)\n",
    "#     df_bx_17=get_columns(df_bx_17,col)\n",
    "    \n",
    "#     df_qs_17=pd.read_excel(\"2017_queens.xls\",skiprows=4)\n",
    "#     df_qs_17=get_columns(df_qs_17,col)\n",
    "    \n",
    "#     df_si_17=pd.read_excel(\"2017_statenisland.xls\",skiprows=4)\n",
    "#     df_si_17=get_columns(df_si_17,col)\n",
    "    \n",
    "#     df=pd.concat([df2018,df_mh_17,df_bk_17,df_bx_17,df_qs_17,df_si_17])\n",
    "    df=df2018\n",
    "    df=df.drop('EASE-MENT', 1)\n",
    "    df=df.drop('APARTMENT NUMBER', 1)\n",
    "    df=df.dropna()\n",
    "    return df"
   ]
  },
  {
   "cell_type": "code",
   "execution_count": 501,
   "metadata": {},
   "outputs": [
    {
     "name": "stdout",
     "output_type": "stream",
     "text": [
      "<class 'pandas.core.frame.DataFrame'>\n",
      "Int64Index: 81683 entries, 0 to 8385\n",
      "Data columns (total 19 columns):\n",
      "BOROUGH                           81683 non-null int64\n",
      "NEIGHBORHOOD                      81683 non-null object\n",
      "BUILDING CLASS CATEGORY           81683 non-null object\n",
      "TAX CLASS AT PRESENT              81683 non-null object\n",
      "BLOCK                             81683 non-null int64\n",
      "LOT                               81683 non-null int64\n",
      "BUILDING CLASS AT PRESENT         81683 non-null object\n",
      "ADDRESS                           81683 non-null object\n",
      "ZIP CODE                          81683 non-null float64\n",
      "RESIDENTIAL UNITS                 81683 non-null float64\n",
      "COMMERCIAL UNITS                  81683 non-null float64\n",
      "TOTAL UNITS                       81683 non-null float64\n",
      "LAND SQUARE FEET                  81683 non-null float64\n",
      "GROSS SQUARE FEET                 81683 non-null float64\n",
      "YEAR BUILT                        81683 non-null float64\n",
      "TAX CLASS AT TIME OF SALE         81683 non-null int64\n",
      "BUILDING CLASS AT TIME OF SALE    81683 non-null object\n",
      "SALE PRICE                        81683 non-null int64\n",
      "SALE DATE                         81683 non-null datetime64[ns]\n",
      "dtypes: datetime64[ns](1), float64(7), int64(5), object(6)\n",
      "memory usage: 12.5+ MB\n"
     ]
    }
   ],
   "source": [
    "df=load_data()\n",
    "df.info()"
   ]
  },
  {
   "cell_type": "code",
   "execution_count": 502,
   "metadata": {},
   "outputs": [
    {
     "data": {
      "text/plain": [
       "(81683, 19)"
      ]
     },
     "execution_count": 502,
     "metadata": {},
     "output_type": "execute_result"
    }
   ],
   "source": [
    "df.shape"
   ]
  },
  {
   "cell_type": "code",
   "execution_count": 503,
   "metadata": {},
   "outputs": [],
   "source": [
    "def selec_features(features):\n",
    "    df_select=df[features]\n",
    "    df_select=df_select[df_select['SALE PRICE']>0]\n",
    "    X = df_select.drop(['SALE PRICE'], axis=1)\n",
    "    Y = df_select['SALE PRICE']\n",
    "    return X,Y"
   ]
  },
  {
   "cell_type": "code",
   "execution_count": 504,
   "metadata": {},
   "outputs": [
    {
     "name": "stdout",
     "output_type": "stream",
     "text": [
      "<class 'pandas.core.frame.DataFrame'>\n",
      "Int64Index: 56963 entries, 0 to 8384\n",
      "Data columns (total 71 columns):\n",
      "BLOCK                                                                 56963 non-null int64\n",
      "LOT                                                                   56963 non-null int64\n",
      "ZIP CODE                                                              56963 non-null float64\n",
      "RESIDENTIAL UNITS                                                     56963 non-null float64\n",
      "COMMERCIAL UNITS                                                      56963 non-null float64\n",
      "TOTAL UNITS                                                           56963 non-null float64\n",
      "LAND SQUARE FEET                                                      56963 non-null float64\n",
      "GROSS SQUARE FEET                                                     56963 non-null float64\n",
      "YEAR BUILT                                                            56963 non-null float64\n",
      "BOROUGH_1                                                             56963 non-null uint8\n",
      "BOROUGH_2                                                             56963 non-null uint8\n",
      "BOROUGH_3                                                             56963 non-null uint8\n",
      "BOROUGH_4                                                             56963 non-null uint8\n",
      "BOROUGH_5                                                             56963 non-null uint8\n",
      "BUILDING CLASS CATEGORY_01 ONE FAMILY DWELLINGS                       56963 non-null uint8\n",
      "BUILDING CLASS CATEGORY_02 TWO FAMILY DWELLINGS                       56963 non-null uint8\n",
      "BUILDING CLASS CATEGORY_03 THREE FAMILY DWELLINGS                     56963 non-null uint8\n",
      "BUILDING CLASS CATEGORY_04 TAX CLASS 1 CONDOS                         56963 non-null uint8\n",
      "BUILDING CLASS CATEGORY_05 TAX CLASS 1 VACANT LAND                    56963 non-null uint8\n",
      "BUILDING CLASS CATEGORY_06 TAX CLASS 1 - OTHER                        56963 non-null uint8\n",
      "BUILDING CLASS CATEGORY_07 RENTALS - WALKUP APARTMENTS                56963 non-null uint8\n",
      "BUILDING CLASS CATEGORY_08 RENTALS - ELEVATOR APARTMENTS              56963 non-null uint8\n",
      "BUILDING CLASS CATEGORY_09 COOPS - WALKUP APARTMENTS                  56963 non-null uint8\n",
      "BUILDING CLASS CATEGORY_10 COOPS - ELEVATOR APARTMENTS                56963 non-null uint8\n",
      "BUILDING CLASS CATEGORY_11A CONDO-RENTALS                             56963 non-null uint8\n",
      "BUILDING CLASS CATEGORY_12 CONDOS - WALKUP APARTMENTS                 56963 non-null uint8\n",
      "BUILDING CLASS CATEGORY_13 CONDOS - ELEVATOR APARTMENTS               56963 non-null uint8\n",
      "BUILDING CLASS CATEGORY_14 RENTALS - 4-10 UNIT                        56963 non-null uint8\n",
      "BUILDING CLASS CATEGORY_15 CONDOS - 2-10 UNIT RESIDENTIAL             56963 non-null uint8\n",
      "BUILDING CLASS CATEGORY_16 CONDOS - 2-10 UNIT WITH COMMERCIAL UNIT    56963 non-null uint8\n",
      "BUILDING CLASS CATEGORY_17 CONDO COOPS                                56963 non-null uint8\n",
      "BUILDING CLASS CATEGORY_21 OFFICE BUILDINGS                           56963 non-null uint8\n",
      "BUILDING CLASS CATEGORY_22 STORE BUILDINGS                            56963 non-null uint8\n",
      "BUILDING CLASS CATEGORY_23 LOFT BUILDINGS                             56963 non-null uint8\n",
      "BUILDING CLASS CATEGORY_25 LUXURY HOTELS                              56963 non-null uint8\n",
      "BUILDING CLASS CATEGORY_26 OTHER HOTELS                               56963 non-null uint8\n",
      "BUILDING CLASS CATEGORY_27 FACTORIES                                  56963 non-null uint8\n",
      "BUILDING CLASS CATEGORY_28 COMMERCIAL CONDOS                          56963 non-null uint8\n",
      "BUILDING CLASS CATEGORY_29 COMMERCIAL GARAGES                         56963 non-null uint8\n",
      "BUILDING CLASS CATEGORY_30 WAREHOUSES                                 56963 non-null uint8\n",
      "BUILDING CLASS CATEGORY_31 COMMERCIAL VACANT LAND                     56963 non-null uint8\n",
      "BUILDING CLASS CATEGORY_32 HOSPITAL AND HEALTH FACILITIES             56963 non-null uint8\n",
      "BUILDING CLASS CATEGORY_33 EDUCATIONAL FACILITIES                     56963 non-null uint8\n",
      "BUILDING CLASS CATEGORY_34 THEATRES                                   56963 non-null uint8\n",
      "BUILDING CLASS CATEGORY_35 INDOOR PUBLIC AND CULTURAL FACILITIES      56963 non-null uint8\n",
      "BUILDING CLASS CATEGORY_36 OUTDOOR RECREATIONAL FACILITIES            56963 non-null uint8\n",
      "BUILDING CLASS CATEGORY_37 RELIGIOUS FACILITIES                       56963 non-null uint8\n",
      "BUILDING CLASS CATEGORY_38 ASYLUMS AND HOMES                          56963 non-null uint8\n",
      "BUILDING CLASS CATEGORY_39 TRANSPORTATION FACILITIES                  56963 non-null uint8\n",
      "BUILDING CLASS CATEGORY_41 TAX CLASS 4 - OTHER                        56963 non-null uint8\n",
      "BUILDING CLASS CATEGORY_42 CONDO CULTURAL/MEDICAL/EDUCATIONAL/ETC     56963 non-null uint8\n",
      "BUILDING CLASS CATEGORY_43 CONDO OFFICE BUILDINGS                     56963 non-null uint8\n",
      "BUILDING CLASS CATEGORY_44 CONDO PARKING                              56963 non-null uint8\n",
      "BUILDING CLASS CATEGORY_45 CONDO HOTELS                               56963 non-null uint8\n",
      "BUILDING CLASS CATEGORY_46 CONDO STORE BUILDINGS                      56963 non-null uint8\n",
      "BUILDING CLASS CATEGORY_47 CONDO NON-BUSINESS STORAGE                 56963 non-null uint8\n",
      "BUILDING CLASS CATEGORY_48 CONDO TERRACES/GARDENS/CABANAS             56963 non-null uint8\n",
      "BUILDING CLASS CATEGORY_49 CONDO WAREHOUSES/FACTORY/INDUS             56963 non-null uint8\n",
      "TAX CLASS AT PRESENT_1                                                56963 non-null uint8\n",
      "TAX CLASS AT PRESENT_2                                                56963 non-null uint8\n",
      "TAX CLASS AT PRESENT_4                                                56963 non-null uint8\n",
      "TAX CLASS AT PRESENT_1A                                               56963 non-null uint8\n",
      "TAX CLASS AT PRESENT_1B                                               56963 non-null uint8\n",
      "TAX CLASS AT PRESENT_1C                                               56963 non-null uint8\n",
      "TAX CLASS AT PRESENT_1D                                               56963 non-null uint8\n",
      "TAX CLASS AT PRESENT_2A                                               56963 non-null uint8\n",
      "TAX CLASS AT PRESENT_2B                                               56963 non-null uint8\n",
      "TAX CLASS AT PRESENT_2C                                               56963 non-null uint8\n",
      "TAX CLASS AT TIME OF SALE_1                                           56963 non-null uint8\n",
      "TAX CLASS AT TIME OF SALE_2                                           56963 non-null uint8\n",
      "TAX CLASS AT TIME OF SALE_4                                           56963 non-null uint8\n",
      "dtypes: float64(7), int64(2), uint8(62)\n",
      "memory usage: 7.7 MB\n"
     ]
    }
   ],
   "source": [
    "# select neighborhood / BLOCK + GROSS_SQUARE_FEET\n",
    "features_selected=[\n",
    " 'BOROUGH',\n",
    "#  'NEIGHBORHOOD',\n",
    " 'BUILDING CLASS CATEGORY',\n",
    " 'TAX CLASS AT PRESENT',\n",
    " 'BLOCK',\n",
    " 'LOT',\n",
    "#  'BUILDING CLASS AT PRESENT',\n",
    "#  'ADDRESS',\n",
    "#  'APARTMENT NUMBER',\n",
    " 'ZIP CODE',\n",
    " 'RESIDENTIAL UNITS',\n",
    " 'COMMERCIAL UNITS',\n",
    " 'TOTAL UNITS',\n",
    " 'LAND SQUARE FEET',\n",
    " 'GROSS SQUARE FEET',\n",
    " 'YEAR BUILT',\n",
    " 'TAX CLASS AT TIME OF SALE',\n",
    "#  'BUILDING CLASS AT TIME OF SALE',\n",
    " 'SALE PRICE']\n",
    "# features_selected=['BLOCK','GROSS_SQUARE_FEET','SALE_PRICE']\n",
    "X,Y=selec_features(features_selected)\n",
    "X=pd.get_dummies(X, columns=['BOROUGH','BUILDING CLASS CATEGORY','TAX CLASS AT PRESENT','TAX CLASS AT TIME OF SALE'])\n",
    "# X=pd.get_dummies(X, columns=['BLOCK'])\n",
    "X.info()"
   ]
  },
  {
   "cell_type": "code",
   "execution_count": 505,
   "metadata": {},
   "outputs": [],
   "source": [
    "# import seaborn as sns\n",
    "# data=X\n",
    "# data['SALE PRICE']=Y\n",
    "# data.head()\n",
    "# corr = data.corr()\n",
    "# sns.heatmap(corr)\n"
   ]
  },
  {
   "cell_type": "code",
   "execution_count": 523,
   "metadata": {},
   "outputs": [],
   "source": [
    "from sklearn.model_selection import train_test_split\n",
    "X_train, X_test, Y_train, Y_test = train_test_split(X, Y, test_size=.25)"
   ]
  },
  {
   "cell_type": "code",
   "execution_count": 524,
   "metadata": {},
   "outputs": [],
   "source": [
    "from sklearn.linear_model import LinearRegression\n",
    "from sklearn.ensemble import RandomForestRegressor\n",
    "from sklearn.ensemble import GradientBoostingRegressor\n",
    "\n",
    "# def rmse(y_test,y_pred):\n",
    "#       return np.sqrt(mean_squared_error(y_test,y_pred))\n",
    "\n",
    "def model_score(model):\n",
    "    model=model\n",
    "    model.fit(X_train, Y_train)\n",
    "    Y_pred=model.predict(X_test)\n",
    "    score=model.score(X_test, Y_test)\n",
    "#     rmse=rmse(Y_test,Y_pred)\n",
    "    return score"
   ]
  },
  {
   "cell_type": "code",
   "execution_count": 525,
   "metadata": {},
   "outputs": [
    {
     "name": "stdout",
     "output_type": "stream",
     "text": [
      "['BOROUGH', 'BUILDING CLASS CATEGORY', 'TAX CLASS AT PRESENT', 'BLOCK', 'LOT', 'ZIP CODE', 'RESIDENTIAL UNITS', 'COMMERCIAL UNITS', 'TOTAL UNITS', 'LAND SQUARE FEET', 'GROSS SQUARE FEET', 'YEAR BUILT', 'TAX CLASS AT TIME OF SALE', 'SALE PRICE']\n"
     ]
    },
    {
     "name": "stderr",
     "output_type": "stream",
     "text": [
      "/anaconda3/lib/python3.6/site-packages/sklearn/ensemble/forest.py:246: FutureWarning: The default value of n_estimators will change from 10 in version 0.20 to 100 in 0.22.\n",
      "  \"10 in version 0.20 to 100 in 0.22.\", FutureWarning)\n"
     ]
    },
    {
     "name": "stdout",
     "output_type": "stream",
     "text": [
      "RandomForestRegressor:0.5199441490403898\n",
      "0.6462618655421686\n"
     ]
    }
   ],
   "source": [
    "model=RandomForestRegressor(max_depth=50)\n",
    "print(features_selected)\n",
    "print(\"RandomForestRegressor:\"+str(model_score(model)))\n",
    "s = cross_val_score(model, X_train,Y_train, cv=10).mean()\n",
    "print(s)\n",
    "\n",
    "\n",
    "# importance = model.feature_importances_\n",
    "# importance.argsort()"
   ]
  },
  {
   "cell_type": "code",
   "execution_count": 526,
   "metadata": {},
   "outputs": [
    {
     "name": "stdout",
     "output_type": "stream",
     "text": [
      "['BOROUGH', 'BUILDING CLASS CATEGORY', 'TAX CLASS AT PRESENT', 'BLOCK', 'LOT', 'ZIP CODE', 'RESIDENTIAL UNITS', 'COMMERCIAL UNITS', 'TOTAL UNITS', 'LAND SQUARE FEET', 'GROSS SQUARE FEET', 'YEAR BUILT', 'TAX CLASS AT TIME OF SALE', 'SALE PRICE']\n",
      "GradientBoostingRegressor:0.5386151885078622\n"
     ]
    },
    {
     "data": {
      "text/plain": [
       "array([57, 25, 64, 63, 15, 16, 17, 30, 56, 61, 19, 44, 28, 37, 29, 48, 55,\n",
       "       66, 65, 68, 58, 45, 47, 67, 50, 13, 23, 18, 14, 62, 54, 27, 39, 10,\n",
       "       36, 21, 53, 46, 69, 52, 49, 59, 41, 33, 20, 22, 12, 24, 70, 60, 11,\n",
       "       42, 31,  9, 40, 38,  3, 35, 26, 51, 32,  5,  0,  8,  2,  4,  1, 34,\n",
       "        6, 43,  7])"
      ]
     },
     "execution_count": 526,
     "metadata": {},
     "output_type": "execute_result"
    }
   ],
   "source": [
    "model=GradientBoostingRegressor(max_depth=6,learning_rate=0.05,n_estimators=500)\n",
    "print(features_selected)\n",
    "score=model_score(model)\n",
    "print(\"GradientBoostingRegressor:\"+str(score))\n",
    "# s = cross_val_score(model, X_train,Y_train, cv=10, scoring=\"r2\").mean()\n",
    "# print(s)\n",
    "importance = model.feature_importances_\n",
    "importance.argsort()"
   ]
  },
  {
   "cell_type": "code",
   "execution_count": 527,
   "metadata": {},
   "outputs": [
    {
     "data": {
      "text/plain": [
       "array([57, 25, 64, 63, 15, 16, 17, 30, 56, 61, 19, 44, 28, 37, 29, 48, 55,\n",
       "       66, 65, 68, 58, 45, 47, 67, 50, 13, 23, 18, 14, 62, 54, 27, 39, 10,\n",
       "       36, 21, 53, 46, 69, 52, 49, 59, 41, 33, 20, 22, 12, 24, 70, 60, 11,\n",
       "       42, 31,  9, 40, 38,  3, 35, 26, 51, 32,  5,  0,  8,  2,  4,  1, 34,\n",
       "        6, 43,  7])"
      ]
     },
     "execution_count": 527,
     "metadata": {},
     "output_type": "execute_result"
    }
   ],
   "source": [
    "importance = model.feature_importances_\n",
    "importance.argsort()"
   ]
  },
  {
   "cell_type": "code",
   "execution_count": null,
   "metadata": {},
   "outputs": [],
   "source": []
  },
  {
   "cell_type": "code",
   "execution_count": null,
   "metadata": {},
   "outputs": [],
   "source": []
  },
  {
   "cell_type": "code",
   "execution_count": null,
   "metadata": {},
   "outputs": [],
   "source": []
  },
  {
   "cell_type": "code",
   "execution_count": null,
   "metadata": {},
   "outputs": [],
   "source": []
  }
 ],
 "metadata": {
  "hide_input": false,
  "kernelspec": {
   "display_name": "Python 3",
   "language": "python",
   "name": "python3"
  },
  "language_info": {
   "codemirror_mode": {
    "name": "ipython",
    "version": 3
   },
   "file_extension": ".py",
   "mimetype": "text/x-python",
   "name": "python",
   "nbconvert_exporter": "python",
   "pygments_lexer": "ipython3",
   "version": "3.7.1"
  }
 },
 "nbformat": 4,
 "nbformat_minor": 2
}
