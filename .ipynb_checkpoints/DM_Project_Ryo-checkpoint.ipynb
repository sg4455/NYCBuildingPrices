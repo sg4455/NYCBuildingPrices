{
 "cells": [
  {
   "cell_type": "markdown",
   "metadata": {},
   "source": [
    "# NYC Real Estate Price Prediction\n",
    "\n",
    "## Objective\n",
    "\n",
    "We will predict the real estate price to help the people buy and sell at a reasonable price.\n",
    "\n"
   ]
  },
  {
   "cell_type": "code",
   "execution_count": 1,
   "metadata": {},
   "outputs": [],
   "source": [
    "import numpy as np\n",
    "import pandas as pd\n",
    "import matplotlib.pylab as plt\n",
    "%matplotlib inline\n"
   ]
  },
  {
   "cell_type": "code",
   "execution_count": 2,
   "metadata": {},
   "outputs": [],
   "source": [
    "def load_data():\n",
    "    df_mh=pd.read_excel(\"rollingsales_manhattan.xls\",skiprows=4)\n",
    "    df_mh[\"AREA\"]=\"MH\"\n",
    "    df_bx=pd.read_excel(\"rollingsales_bronx.xls\",skiprows=4)\n",
    "    df_bx[\"AREA\"]=\"BX\"\n",
    "    df=pd.concat([df_mh,df_bx])\n",
    "\n",
    "    df.columns = df.columns.str.replace(' ', '_')\n",
    "    df=df.drop(columns=['EASE-MENT'])# all the values in this column is nan.\n",
    "    df['not_apartment']=df['APARTMENT_NUMBER'].isna()# ture: it is not an apartment. false: it is an apartment.\n",
    "    df=df.drop(columns=['APARTMENT_NUMBER','ADDRESS','BUILDING_CLASS_AT_PRESENT'])\n",
    "    df=df.dropna()\n",
    "    return df"
   ]
  },
  {
   "cell_type": "code",
   "execution_count": 3,
   "metadata": {},
   "outputs": [
    {
     "data": {
      "text/html": [
       "<div>\n",
       "<style scoped>\n",
       "    .dataframe tbody tr th:only-of-type {\n",
       "        vertical-align: middle;\n",
       "    }\n",
       "\n",
       "    .dataframe tbody tr th {\n",
       "        vertical-align: top;\n",
       "    }\n",
       "\n",
       "    .dataframe thead th {\n",
       "        text-align: right;\n",
       "    }\n",
       "</style>\n",
       "<table border=\"1\" class=\"dataframe\">\n",
       "  <thead>\n",
       "    <tr style=\"text-align: right;\">\n",
       "      <th></th>\n",
       "      <th>BOROUGH</th>\n",
       "      <th>NEIGHBORHOOD</th>\n",
       "      <th>BUILDING_CLASS_CATEGORY</th>\n",
       "      <th>TAX_CLASS_AT_PRESENT</th>\n",
       "      <th>BLOCK</th>\n",
       "      <th>LOT</th>\n",
       "      <th>ZIP_CODE</th>\n",
       "      <th>RESIDENTIAL_UNITS</th>\n",
       "      <th>COMMERCIAL_UNITS</th>\n",
       "      <th>TOTAL_UNITS</th>\n",
       "      <th>LAND_SQUARE_FEET</th>\n",
       "      <th>GROSS_SQUARE_FEET</th>\n",
       "      <th>YEAR_BUILT</th>\n",
       "      <th>TAX_CLASS_AT_TIME_OF_SALE</th>\n",
       "      <th>BUILDING_CLASS_AT_TIME_OF_SALE</th>\n",
       "      <th>SALE_PRICE</th>\n",
       "      <th>SALE_DATE</th>\n",
       "      <th>AREA</th>\n",
       "      <th>not_apartment</th>\n",
       "    </tr>\n",
       "  </thead>\n",
       "  <tbody>\n",
       "    <tr>\n",
       "      <th>0</th>\n",
       "      <td>1</td>\n",
       "      <td>ALPHABET CITY</td>\n",
       "      <td>01 ONE FAMILY DWELLINGS</td>\n",
       "      <td>1</td>\n",
       "      <td>390</td>\n",
       "      <td>61</td>\n",
       "      <td>10009.0</td>\n",
       "      <td>1.0</td>\n",
       "      <td>0.0</td>\n",
       "      <td>1.0</td>\n",
       "      <td>987.0</td>\n",
       "      <td>2183.0</td>\n",
       "      <td>1860.0</td>\n",
       "      <td>1</td>\n",
       "      <td>A4</td>\n",
       "      <td>4844809</td>\n",
       "      <td>2018-05-22</td>\n",
       "      <td>MH</td>\n",
       "      <td>True</td>\n",
       "    </tr>\n",
       "    <tr>\n",
       "      <th>1</th>\n",
       "      <td>1</td>\n",
       "      <td>ALPHABET CITY</td>\n",
       "      <td>01 ONE FAMILY DWELLINGS</td>\n",
       "      <td>1</td>\n",
       "      <td>390</td>\n",
       "      <td>61</td>\n",
       "      <td>10009.0</td>\n",
       "      <td>1.0</td>\n",
       "      <td>0.0</td>\n",
       "      <td>1.0</td>\n",
       "      <td>987.0</td>\n",
       "      <td>2183.0</td>\n",
       "      <td>1860.0</td>\n",
       "      <td>1</td>\n",
       "      <td>A4</td>\n",
       "      <td>0</td>\n",
       "      <td>2018-05-23</td>\n",
       "      <td>MH</td>\n",
       "      <td>True</td>\n",
       "    </tr>\n",
       "    <tr>\n",
       "      <th>2</th>\n",
       "      <td>1</td>\n",
       "      <td>ALPHABET CITY</td>\n",
       "      <td>01 ONE FAMILY DWELLINGS</td>\n",
       "      <td>1</td>\n",
       "      <td>400</td>\n",
       "      <td>19</td>\n",
       "      <td>10009.0</td>\n",
       "      <td>1.0</td>\n",
       "      <td>0.0</td>\n",
       "      <td>1.0</td>\n",
       "      <td>1883.0</td>\n",
       "      <td>5200.0</td>\n",
       "      <td>1900.0</td>\n",
       "      <td>1</td>\n",
       "      <td>A4</td>\n",
       "      <td>6100000</td>\n",
       "      <td>2018-12-03</td>\n",
       "      <td>MH</td>\n",
       "      <td>True</td>\n",
       "    </tr>\n",
       "    <tr>\n",
       "      <th>3</th>\n",
       "      <td>1</td>\n",
       "      <td>ALPHABET CITY</td>\n",
       "      <td>02 TWO FAMILY DWELLINGS</td>\n",
       "      <td>1</td>\n",
       "      <td>390</td>\n",
       "      <td>35</td>\n",
       "      <td>10009.0</td>\n",
       "      <td>2.0</td>\n",
       "      <td>0.0</td>\n",
       "      <td>2.0</td>\n",
       "      <td>1218.0</td>\n",
       "      <td>4764.0</td>\n",
       "      <td>1899.0</td>\n",
       "      <td>1</td>\n",
       "      <td>B1</td>\n",
       "      <td>0</td>\n",
       "      <td>2018-04-25</td>\n",
       "      <td>MH</td>\n",
       "      <td>True</td>\n",
       "    </tr>\n",
       "    <tr>\n",
       "      <th>4</th>\n",
       "      <td>1</td>\n",
       "      <td>ALPHABET CITY</td>\n",
       "      <td>02 TWO FAMILY DWELLINGS</td>\n",
       "      <td>1</td>\n",
       "      <td>404</td>\n",
       "      <td>1</td>\n",
       "      <td>10009.0</td>\n",
       "      <td>2.0</td>\n",
       "      <td>0.0</td>\n",
       "      <td>2.0</td>\n",
       "      <td>1510.0</td>\n",
       "      <td>4520.0</td>\n",
       "      <td>1900.0</td>\n",
       "      <td>1</td>\n",
       "      <td>B9</td>\n",
       "      <td>0</td>\n",
       "      <td>2018-11-29</td>\n",
       "      <td>MH</td>\n",
       "      <td>True</td>\n",
       "    </tr>\n",
       "  </tbody>\n",
       "</table>\n",
       "</div>"
      ],
      "text/plain": [
       "   BOROUGH   NEIGHBORHOOD  BUILDING_CLASS_CATEGORY TAX_CLASS_AT_PRESENT  \\\n",
       "0        1  ALPHABET CITY  01 ONE FAMILY DWELLINGS                    1   \n",
       "1        1  ALPHABET CITY  01 ONE FAMILY DWELLINGS                    1   \n",
       "2        1  ALPHABET CITY  01 ONE FAMILY DWELLINGS                    1   \n",
       "3        1  ALPHABET CITY  02 TWO FAMILY DWELLINGS                    1   \n",
       "4        1  ALPHABET CITY  02 TWO FAMILY DWELLINGS                    1   \n",
       "\n",
       "   BLOCK  LOT  ZIP_CODE  RESIDENTIAL_UNITS  COMMERCIAL_UNITS  TOTAL_UNITS  \\\n",
       "0    390   61   10009.0                1.0               0.0          1.0   \n",
       "1    390   61   10009.0                1.0               0.0          1.0   \n",
       "2    400   19   10009.0                1.0               0.0          1.0   \n",
       "3    390   35   10009.0                2.0               0.0          2.0   \n",
       "4    404    1   10009.0                2.0               0.0          2.0   \n",
       "\n",
       "   LAND_SQUARE_FEET  GROSS_SQUARE_FEET  YEAR_BUILT  TAX_CLASS_AT_TIME_OF_SALE  \\\n",
       "0             987.0             2183.0      1860.0                          1   \n",
       "1             987.0             2183.0      1860.0                          1   \n",
       "2            1883.0             5200.0      1900.0                          1   \n",
       "3            1218.0             4764.0      1899.0                          1   \n",
       "4            1510.0             4520.0      1900.0                          1   \n",
       "\n",
       "  BUILDING_CLASS_AT_TIME_OF_SALE  SALE_PRICE  SALE_DATE AREA  not_apartment  \n",
       "0                             A4     4844809 2018-05-22   MH           True  \n",
       "1                             A4           0 2018-05-23   MH           True  \n",
       "2                             A4     6100000 2018-12-03   MH           True  \n",
       "3                             B1           0 2018-04-25   MH           True  \n",
       "4                             B9           0 2018-11-29   MH           True  "
      ]
     },
     "execution_count": 3,
     "metadata": {},
     "output_type": "execute_result"
    }
   ],
   "source": [
    "df=load_data()\n",
    "df.head()"
   ]
  },
  {
   "cell_type": "code",
   "execution_count": 4,
   "metadata": {},
   "outputs": [],
   "source": [
    "def selec_features(features):\n",
    "    df_select=df[features]\n",
    "    df_select=df_select[df_select['SALE_PRICE']>0]\n",
    "    X = df_select.drop(['SALE_PRICE'], axis=1)\n",
    "    Y = df_select['SALE_PRICE']\n",
    "    return X,Y"
   ]
  },
  {
   "cell_type": "code",
   "execution_count": 5,
   "metadata": {},
   "outputs": [
    {
     "data": {
      "text/html": [
       "<div>\n",
       "<style scoped>\n",
       "    .dataframe tbody tr th:only-of-type {\n",
       "        vertical-align: middle;\n",
       "    }\n",
       "\n",
       "    .dataframe tbody tr th {\n",
       "        vertical-align: top;\n",
       "    }\n",
       "\n",
       "    .dataframe thead th {\n",
       "        text-align: right;\n",
       "    }\n",
       "</style>\n",
       "<table border=\"1\" class=\"dataframe\">\n",
       "  <thead>\n",
       "    <tr style=\"text-align: right;\">\n",
       "      <th></th>\n",
       "      <th>GROSS_SQUARE_FEET</th>\n",
       "      <th>NEIGHBORHOOD_ALPHABET CITY</th>\n",
       "      <th>NEIGHBORHOOD_BATHGATE</th>\n",
       "      <th>NEIGHBORHOOD_BAYCHESTER</th>\n",
       "      <th>NEIGHBORHOOD_BEDFORD PARK/NORWOOD</th>\n",
       "      <th>NEIGHBORHOOD_BELMONT</th>\n",
       "      <th>NEIGHBORHOOD_BRONX PARK</th>\n",
       "      <th>NEIGHBORHOOD_BRONXDALE</th>\n",
       "      <th>NEIGHBORHOOD_CASTLE HILL/UNIONPORT</th>\n",
       "      <th>NEIGHBORHOOD_CHELSEA</th>\n",
       "      <th>...</th>\n",
       "      <th>NEIGHBORHOOD_UPPER WEST SIDE (59-79)</th>\n",
       "      <th>NEIGHBORHOOD_UPPER WEST SIDE (79-96)</th>\n",
       "      <th>NEIGHBORHOOD_UPPER WEST SIDE (96-116)</th>\n",
       "      <th>NEIGHBORHOOD_VAN CORTLANDT PARK</th>\n",
       "      <th>NEIGHBORHOOD_WAKEFIELD</th>\n",
       "      <th>NEIGHBORHOOD_WASHINGTON HEIGHTS LOWER</th>\n",
       "      <th>NEIGHBORHOOD_WASHINGTON HEIGHTS UPPER</th>\n",
       "      <th>NEIGHBORHOOD_WESTCHESTER</th>\n",
       "      <th>NEIGHBORHOOD_WILLIAMSBRIDGE</th>\n",
       "      <th>NEIGHBORHOOD_WOODLAWN</th>\n",
       "    </tr>\n",
       "  </thead>\n",
       "  <tbody>\n",
       "    <tr>\n",
       "      <th>0</th>\n",
       "      <td>2183.0</td>\n",
       "      <td>1</td>\n",
       "      <td>0</td>\n",
       "      <td>0</td>\n",
       "      <td>0</td>\n",
       "      <td>0</td>\n",
       "      <td>0</td>\n",
       "      <td>0</td>\n",
       "      <td>0</td>\n",
       "      <td>0</td>\n",
       "      <td>...</td>\n",
       "      <td>0</td>\n",
       "      <td>0</td>\n",
       "      <td>0</td>\n",
       "      <td>0</td>\n",
       "      <td>0</td>\n",
       "      <td>0</td>\n",
       "      <td>0</td>\n",
       "      <td>0</td>\n",
       "      <td>0</td>\n",
       "      <td>0</td>\n",
       "    </tr>\n",
       "    <tr>\n",
       "      <th>2</th>\n",
       "      <td>5200.0</td>\n",
       "      <td>1</td>\n",
       "      <td>0</td>\n",
       "      <td>0</td>\n",
       "      <td>0</td>\n",
       "      <td>0</td>\n",
       "      <td>0</td>\n",
       "      <td>0</td>\n",
       "      <td>0</td>\n",
       "      <td>0</td>\n",
       "      <td>...</td>\n",
       "      <td>0</td>\n",
       "      <td>0</td>\n",
       "      <td>0</td>\n",
       "      <td>0</td>\n",
       "      <td>0</td>\n",
       "      <td>0</td>\n",
       "      <td>0</td>\n",
       "      <td>0</td>\n",
       "      <td>0</td>\n",
       "      <td>0</td>\n",
       "    </tr>\n",
       "    <tr>\n",
       "      <th>6</th>\n",
       "      <td>17478.0</td>\n",
       "      <td>1</td>\n",
       "      <td>0</td>\n",
       "      <td>0</td>\n",
       "      <td>0</td>\n",
       "      <td>0</td>\n",
       "      <td>0</td>\n",
       "      <td>0</td>\n",
       "      <td>0</td>\n",
       "      <td>0</td>\n",
       "      <td>...</td>\n",
       "      <td>0</td>\n",
       "      <td>0</td>\n",
       "      <td>0</td>\n",
       "      <td>0</td>\n",
       "      <td>0</td>\n",
       "      <td>0</td>\n",
       "      <td>0</td>\n",
       "      <td>0</td>\n",
       "      <td>0</td>\n",
       "      <td>0</td>\n",
       "    </tr>\n",
       "    <tr>\n",
       "      <th>7</th>\n",
       "      <td>6294.0</td>\n",
       "      <td>1</td>\n",
       "      <td>0</td>\n",
       "      <td>0</td>\n",
       "      <td>0</td>\n",
       "      <td>0</td>\n",
       "      <td>0</td>\n",
       "      <td>0</td>\n",
       "      <td>0</td>\n",
       "      <td>0</td>\n",
       "      <td>...</td>\n",
       "      <td>0</td>\n",
       "      <td>0</td>\n",
       "      <td>0</td>\n",
       "      <td>0</td>\n",
       "      <td>0</td>\n",
       "      <td>0</td>\n",
       "      <td>0</td>\n",
       "      <td>0</td>\n",
       "      <td>0</td>\n",
       "      <td>0</td>\n",
       "    </tr>\n",
       "    <tr>\n",
       "      <th>8</th>\n",
       "      <td>14588.0</td>\n",
       "      <td>1</td>\n",
       "      <td>0</td>\n",
       "      <td>0</td>\n",
       "      <td>0</td>\n",
       "      <td>0</td>\n",
       "      <td>0</td>\n",
       "      <td>0</td>\n",
       "      <td>0</td>\n",
       "      <td>0</td>\n",
       "      <td>...</td>\n",
       "      <td>0</td>\n",
       "      <td>0</td>\n",
       "      <td>0</td>\n",
       "      <td>0</td>\n",
       "      <td>0</td>\n",
       "      <td>0</td>\n",
       "      <td>0</td>\n",
       "      <td>0</td>\n",
       "      <td>0</td>\n",
       "      <td>0</td>\n",
       "    </tr>\n",
       "  </tbody>\n",
       "</table>\n",
       "<p>5 rows × 76 columns</p>\n",
       "</div>"
      ],
      "text/plain": [
       "   GROSS_SQUARE_FEET  NEIGHBORHOOD_ALPHABET CITY  NEIGHBORHOOD_BATHGATE  \\\n",
       "0             2183.0                           1                      0   \n",
       "2             5200.0                           1                      0   \n",
       "6            17478.0                           1                      0   \n",
       "7             6294.0                           1                      0   \n",
       "8            14588.0                           1                      0   \n",
       "\n",
       "   NEIGHBORHOOD_BAYCHESTER  NEIGHBORHOOD_BEDFORD PARK/NORWOOD  \\\n",
       "0                        0                                  0   \n",
       "2                        0                                  0   \n",
       "6                        0                                  0   \n",
       "7                        0                                  0   \n",
       "8                        0                                  0   \n",
       "\n",
       "   NEIGHBORHOOD_BELMONT  NEIGHBORHOOD_BRONX PARK  NEIGHBORHOOD_BRONXDALE  \\\n",
       "0                     0                        0                       0   \n",
       "2                     0                        0                       0   \n",
       "6                     0                        0                       0   \n",
       "7                     0                        0                       0   \n",
       "8                     0                        0                       0   \n",
       "\n",
       "   NEIGHBORHOOD_CASTLE HILL/UNIONPORT  NEIGHBORHOOD_CHELSEA  \\\n",
       "0                                   0                     0   \n",
       "2                                   0                     0   \n",
       "6                                   0                     0   \n",
       "7                                   0                     0   \n",
       "8                                   0                     0   \n",
       "\n",
       "           ...            NEIGHBORHOOD_UPPER WEST SIDE (59-79)  \\\n",
       "0          ...                                               0   \n",
       "2          ...                                               0   \n",
       "6          ...                                               0   \n",
       "7          ...                                               0   \n",
       "8          ...                                               0   \n",
       "\n",
       "   NEIGHBORHOOD_UPPER WEST SIDE (79-96)  \\\n",
       "0                                     0   \n",
       "2                                     0   \n",
       "6                                     0   \n",
       "7                                     0   \n",
       "8                                     0   \n",
       "\n",
       "   NEIGHBORHOOD_UPPER WEST SIDE (96-116)  NEIGHBORHOOD_VAN CORTLANDT PARK  \\\n",
       "0                                      0                                0   \n",
       "2                                      0                                0   \n",
       "6                                      0                                0   \n",
       "7                                      0                                0   \n",
       "8                                      0                                0   \n",
       "\n",
       "   NEIGHBORHOOD_WAKEFIELD  NEIGHBORHOOD_WASHINGTON HEIGHTS LOWER  \\\n",
       "0                       0                                      0   \n",
       "2                       0                                      0   \n",
       "6                       0                                      0   \n",
       "7                       0                                      0   \n",
       "8                       0                                      0   \n",
       "\n",
       "   NEIGHBORHOOD_WASHINGTON HEIGHTS UPPER  NEIGHBORHOOD_WESTCHESTER  \\\n",
       "0                                      0                         0   \n",
       "2                                      0                         0   \n",
       "6                                      0                         0   \n",
       "7                                      0                         0   \n",
       "8                                      0                         0   \n",
       "\n",
       "   NEIGHBORHOOD_WILLIAMSBRIDGE  NEIGHBORHOOD_WOODLAWN  \n",
       "0                            0                      0  \n",
       "2                            0                      0  \n",
       "6                            0                      0  \n",
       "7                            0                      0  \n",
       "8                            0                      0  \n",
       "\n",
       "[5 rows x 76 columns]"
      ]
     },
     "execution_count": 5,
     "metadata": {},
     "output_type": "execute_result"
    }
   ],
   "source": [
    "# select neighborhood / BLOCK + GROSS_SQUARE_FEET\n",
    "features_selected=['NEIGHBORHOOD','GROSS_SQUARE_FEET','SALE_PRICE']\n",
    "# features_selected=['BLOCK','GROSS_SQUARE_FEET','SALE_PRICE']\n",
    "X,Y=selec_features(features_selected)\n",
    "X=pd.get_dummies(X, columns=['NEIGHBORHOOD'])\n",
    "# X=pd.get_dummies(X, columns=['BLOCK'])\n",
    "X.head()"
   ]
  },
  {
   "cell_type": "code",
   "execution_count": 6,
   "metadata": {},
   "outputs": [],
   "source": [
    "from sklearn.model_selection import train_test_split\n",
    "\n",
    "X_train, X_test, Y_train, Y_test = train_test_split(X, Y, test_size=.25)\n"
   ]
  },
  {
   "cell_type": "code",
   "execution_count": 7,
   "metadata": {},
   "outputs": [],
   "source": [
    "from sklearn.linear_model import LinearRegression\n",
    "from sklearn.ensemble import RandomForestRegressor\n",
    "from sklearn.model_selection import cross_val_score\n",
    "def model_score(model):\n",
    "    model=model\n",
    "    model.fit(X_train, Y_train)\n",
    "    score=model.score(X_test, Y_test)\n",
    "    return score"
   ]
  },
  {
   "cell_type": "code",
   "execution_count": 8,
   "metadata": {},
   "outputs": [
    {
     "name": "stdout",
     "output_type": "stream",
     "text": [
      "features_selected: ['NEIGHBORHOOD', 'GROSS_SQUARE_FEET', 'SALE_PRICE']\n"
     ]
    },
    {
     "name": "stderr",
     "output_type": "stream",
     "text": [
      "C:\\Users\\ryouen\\Anaconda3\\lib\\site-packages\\sklearn\\ensemble\\forest.py:246: FutureWarning: The default value of n_estimators will change from 10 in version 0.20 to 100 in 0.22.\n",
      "  \"10 in version 0.20 to 100 in 0.22.\", FutureWarning)\n"
     ]
    },
    {
     "name": "stdout",
     "output_type": "stream",
     "text": [
      "RandomForestRegressor:0.5525006559069078\n",
      "AVG_AUC: 0.26620743351546333\n"
     ]
    }
   ],
   "source": [
    "model=RandomForestRegressor()\n",
    "\n",
    "print(\"features_selected:\", features_selected)\n",
    "print(\"RandomForestRegressor:\"+str(model_score(model)))\n",
    "avg_auc = cross_val_score(model, X_train,Y_train, cv=10, scoring=\"r2\").mean()\n",
    "print(\"AVG_AUC:\", avg_auc)"
   ]
  },
  {
   "cell_type": "code",
   "execution_count": 9,
   "metadata": {},
   "outputs": [
    {
     "name": "stdout",
     "output_type": "stream",
     "text": [
      "features_selected: ['NEIGHBORHOOD', 'GROSS_SQUARE_FEET', 'SALE_PRICE']\n",
      "LinearRegression:0.5223979771997782\n",
      "AVG_AUC: 0.36902988181835344\n"
     ]
    }
   ],
   "source": [
    "model=LinearRegression()\n",
    "print(\"features_selected:\", features_selected)\n",
    "print(\"LinearRegression:\"+str(model_score(model)))\n",
    "avg_auc = cross_val_score(model, X_train,Y_train, cv=10, scoring=\"r2\").mean()\n",
    "print(\"AVG_AUC:\",avg_auc)"
   ]
  },
  {
   "cell_type": "markdown",
   "metadata": {},
   "source": [
    "only tried on manhattan and bronx, only one year\n",
    "result:\n",
    "    block+gross_square_feet\n",
    "        random_forest(low,cost too much time to calculate auc) >linearregression(very low,near 0, negative auc)\n",
    "    neighborhood+gross_square_feet:\n",
    "        random_fores (very unstable)\n",
    "        linearregression (auc very low, near 0)"
   ]
  },
  {
   "cell_type": "markdown",
   "metadata": {},
   "source": [
    "# Discussion #1\n",
    "\n",
    "\n",
    "\n"
   ]
  },
  {
   "cell_type": "markdown",
   "metadata": {},
   "source": [
    "As we showed, the result of analysis is not great.\n",
    "So, we need to further look at the data.\n",
    "\n",
    "Let's begin from the SALE_PRICE data."
   ]
  },
  {
   "cell_type": "code",
   "execution_count": 10,
   "metadata": {},
   "outputs": [
    {
     "data": {
      "text/plain": [
       "count    1.850900e+04\n",
       "mean     3.177423e+06\n",
       "std      2.690026e+07\n",
       "min      1.000000e+00\n",
       "25%      4.750000e+05\n",
       "50%      7.980000e+05\n",
       "75%      1.790000e+06\n",
       "max      2.397502e+09\n",
       "Name: SALE_PRICE, dtype: float64"
      ]
     },
     "execution_count": 10,
     "metadata": {},
     "output_type": "execute_result"
    }
   ],
   "source": [
    "df[df[\"SALE_PRICE\"]>0][\"SALE_PRICE\"].describe()"
   ]
  },
  {
   "cell_type": "code",
   "execution_count": 11,
   "metadata": {},
   "outputs": [
    {
     "data": {
      "text/plain": [
       "{'whiskers': [<matplotlib.lines.Line2D at 0x1f9abd07d30>,\n",
       "  <matplotlib.lines.Line2D at 0x1f9abd07e10>],\n",
       " 'caps': [<matplotlib.lines.Line2D at 0x1f9abea2400>,\n",
       "  <matplotlib.lines.Line2D at 0x1f9abea2748>],\n",
       " 'boxes': [<matplotlib.lines.Line2D at 0x1f9abd07908>],\n",
       " 'medians': [<matplotlib.lines.Line2D at 0x1f9abea2a90>],\n",
       " 'fliers': [<matplotlib.lines.Line2D at 0x1f9abea2dd8>],\n",
       " 'means': []}"
      ]
     },
     "execution_count": 11,
     "metadata": {},
     "output_type": "execute_result"
    },
    {
     "data": {
      "image/png": "[encoded data removed]",
      "text/plain": [
       "<Figure size 432x288 with 1 Axes>"
      ]
     },
     "metadata": {
      "needs_background": "light"
     },
     "output_type": "display_data"
    }
   ],
   "source": [
    "fig, ax = plt.subplots()\n",
    "ax.boxplot(df[(df[\"SALE_PRICE\"]>10000) & (df[\"SALE_PRICE\"]<1.0e+08)][\"SALE_PRICE\"])"
   ]
  },
  {
   "cell_type": "code",
   "execution_count": 12,
   "metadata": {},
   "outputs": [
    {
     "data": {
      "image/png": "[encoded data removed]",
      "text/plain": [
       "<Figure size 432x288 with 1 Axes>"
      ]
     },
     "metadata": {
      "needs_background": "light"
     },
     "output_type": "display_data"
    }
   ],
   "source": [
    "df[df[\"SALE_PRICE\"]>10000000][\"SALE_PRICE\"].plot.hist(bins=20);\n"
   ]
  },
  {
   "cell_type": "markdown",
   "metadata": {},
   "source": [
    "As I showed here, the histgram is super-right long tail.\n",
    "\n",
    "So, I decided to take log to the data.\n"
   ]
  },
  {
   "cell_type": "code",
   "execution_count": 13,
   "metadata": {},
   "outputs": [
    {
     "data": {
      "text/plain": [
       "0    6.685277\n",
       "1        -inf\n",
       "2    6.785330\n",
       "3        -inf\n",
       "4        -inf\n",
       "Name: SALE_PRICE, dtype: float64"
      ]
     },
     "execution_count": 13,
     "metadata": {},
     "output_type": "execute_result"
    }
   ],
   "source": [
    "df[\"SALE_PRICE\"].apply(np.log10).head()"
   ]
  },
  {
   "cell_type": "code",
   "execution_count": 14,
   "metadata": {},
   "outputs": [],
   "source": [
    "df[\"SALE_PRICE\"] = df[\"SALE_PRICE\"].replace(0, np.NaN)\n",
    "df[\"Logged_SALE_PRICE\"] = df[\"SALE_PRICE\"].apply(np.log10)"
   ]
  },
  {
   "cell_type": "code",
   "execution_count": 15,
   "metadata": {},
   "outputs": [
    {
     "data": {
      "image/png": "[encoded data removed]",
      "text/plain": [
       "<Figure size 432x288 with 1 Axes>"
      ]
     },
     "metadata": {
      "needs_background": "light"
     },
     "output_type": "display_data"
    }
   ],
   "source": [
    "df[df[\"Logged_SALE_PRICE\"]>4][\"Logged_SALE_PRICE\"].plot.hist(bins=30);\n"
   ]
  },
  {
   "cell_type": "code",
   "execution_count": 16,
   "metadata": {},
   "outputs": [
    {
     "data": {
      "image/png": "[encoded data removed]",
      "text/plain": [
       "<Figure size 432x288 with 1 Axes>"
      ]
     },
     "metadata": {
      "needs_background": "light"
     },
     "output_type": "display_data"
    }
   ],
   "source": [
    "fig, ax = plt.subplots()\n",
    "ax.boxplot(df[(df[\"Logged_SALE_PRICE\"]>5)][\"Logged_SALE_PRICE\"]);"
   ]
  },
  {
   "cell_type": "markdown",
   "metadata": {},
   "source": [
    "Then re-run the regression."
   ]
  },
  {
   "cell_type": "code",
   "execution_count": 17,
   "metadata": {},
   "outputs": [],
   "source": [
    "def selec_features(features):\n",
    "    df_select=df[features]\n",
    "    df_select=df_select[df_select['Logged_SALE_PRICE']>6]\n",
    "    X = df_select.drop(['Logged_SALE_PRICE'], axis=1)\n",
    "    Y = df_select['Logged_SALE_PRICE']\n",
    "    return X,Y\n",
    "\n",
    "features_selected=['NEIGHBORHOOD','GROSS_SQUARE_FEET','Logged_SALE_PRICE']\n",
    "X,Y=selec_features(features_selected)\n",
    "X=pd.get_dummies(X, columns=['NEIGHBORHOOD'])\n",
    "X.head()\n",
    "\n",
    "from sklearn.model_selection import train_test_split\n",
    "X_train, X_test, Y_train, Y_test = train_test_split(X, Y, test_size=.25)\n",
    "\n",
    "from sklearn.linear_model import LinearRegression\n",
    "from sklearn.ensemble import RandomForestRegressor\n",
    "from sklearn.model_selection import cross_val_score\n",
    "def model_score(model):\n",
    "    model=model\n",
    "    model.fit(X_train, Y_train)\n",
    "    score=model.score(X_test, Y_test)\n",
    "    return score\n",
    "\n"
   ]
  },
  {
   "cell_type": "code",
   "execution_count": 18,
   "metadata": {},
   "outputs": [
    {
     "name": "stdout",
     "output_type": "stream",
     "text": [
      "features_selected: ['NEIGHBORHOOD', 'GROSS_SQUARE_FEET', 'Logged_SALE_PRICE']\n"
     ]
    },
    {
     "name": "stderr",
     "output_type": "stream",
     "text": [
      "C:\\Users\\ryouen\\Anaconda3\\lib\\site-packages\\sklearn\\ensemble\\forest.py:246: FutureWarning: The default value of n_estimators will change from 10 in version 0.20 to 100 in 0.22.\n",
      "  \"10 in version 0.20 to 100 in 0.22.\", FutureWarning)\n"
     ]
    },
    {
     "name": "stdout",
     "output_type": "stream",
     "text": [
      "RandomForestRegressor:0.5648296576596621\n",
      "AVG_AUC: 0.5902268143749843\n"
     ]
    }
   ],
   "source": [
    "model=RandomForestRegressor()\n",
    "\n",
    "print(\"features_selected:\", features_selected)\n",
    "print(\"RandomForestRegressor:\"+str(model_score(model)))\n",
    "avg_auc = cross_val_score(model, X_train,Y_train, cv=10, scoring=\"r2\").mean()\n",
    "print(\"AVG_AUC:\", avg_auc)"
   ]
  },
  {
   "cell_type": "code",
   "execution_count": 19,
   "metadata": {},
   "outputs": [
    {
     "name": "stdout",
     "output_type": "stream",
     "text": [
      "features_selected: ['NEIGHBORHOOD', 'GROSS_SQUARE_FEET', 'Logged_SALE_PRICE']\n",
      "LinearRegression:0.1660177233430481\n",
      "AVG_AUC: 0.22222895115096794\n"
     ]
    }
   ],
   "source": [
    "model=LinearRegression()\n",
    "print(\"features_selected:\", features_selected)\n",
    "print(\"LinearRegression:\"+str(model_score(model)))\n",
    "avg_auc = cross_val_score(model, X_train,Y_train, cv=10, scoring=\"r2\").mean()\n",
    "print(\"AVG_AUC:\",avg_auc)"
   ]
  },
  {
   "cell_type": "markdown",
   "metadata": {},
   "source": [
    "# summary\n",
    "So what we did is, \n",
    "\n",
    "1.log transformation\n",
    "\n",
    "2.filtered out $log(\\text{SALE_PRICE}) \\leq{} 5$ which means the price under $\\$10^5 = \\$ 100,000$\n",
    "\n"
   ]
  },
  {
   "cell_type": "markdown",
   "metadata": {},
   "source": [
    "# Next, let's try another feature.\n",
    "I am interested in the YEAR passed in the data.\n",
    "\n",
    "so We will make a new variable named \"YEARS\"\n",
    "\n",
    "which is a difference of SALE YEAR and BUILD YEAR.\n"
   ]
  },
  {
   "cell_type": "code",
   "execution_count": 20,
   "metadata": {},
   "outputs": [
    {
     "data": {
      "text/plain": [
       "0"
      ]
     },
     "execution_count": 20,
     "metadata": {},
     "output_type": "execute_result"
    }
   ],
   "source": [
    "sum(df[\"SALE_DATE\"].isna())\n"
   ]
  },
  {
   "cell_type": "code",
   "execution_count": 21,
   "metadata": {},
   "outputs": [],
   "source": [
    "df[\"YEAR_BUILT\"] = df[\"YEAR_BUILT\"].replace(0, np.NaN)\n",
    "df[\"SALE_DATE\"] = df[\"SALE_DATE\"].replace(0, np.NaN)\n"
   ]
  },
  {
   "cell_type": "code",
   "execution_count": 22,
   "metadata": {},
   "outputs": [
    {
     "data": {
      "text/plain": [
       "0    158.0\n",
       "1    158.0\n",
       "2    118.0\n",
       "3    119.0\n",
       "4    118.0\n",
       "Name: YEARS, dtype: float64"
      ]
     },
     "execution_count": 22,
     "metadata": {},
     "output_type": "execute_result"
    }
   ],
   "source": [
    "df[\"YEARS\"] = df[\"SALE_DATE\"].dt.year - df[\"YEAR_BUILT\"]\n",
    "df[\"YEARS\"].head()"
   ]
  },
  {
   "cell_type": "code",
   "execution_count": 23,
   "metadata": {},
   "outputs": [
    {
     "name": "stdout",
     "output_type": "stream",
     "text": [
      "features_selected: ['NEIGHBORHOOD', 'GROSS_SQUARE_FEET', 'YEARS', 'Logged_SALE_PRICE']\n"
     ]
    },
    {
     "name": "stderr",
     "output_type": "stream",
     "text": [
      "C:\\Users\\ryouen\\Anaconda3\\lib\\site-packages\\sklearn\\ensemble\\forest.py:246: FutureWarning: The default value of n_estimators will change from 10 in version 0.20 to 100 in 0.22.\n",
      "  \"10 in version 0.20 to 100 in 0.22.\", FutureWarning)\n"
     ]
    },
    {
     "name": "stdout",
     "output_type": "stream",
     "text": [
      "RandomForestRegressor:0.5670592441976358\n",
      "AVG_AUC: 0.587878861552391\n",
      "features_selected: ['NEIGHBORHOOD', 'GROSS_SQUARE_FEET', 'YEARS', 'Logged_SALE_PRICE']\n",
      "LinearRegression:0.1660177233430481\n",
      "AVG_AUC: 0.22222895115096794\n"
     ]
    }
   ],
   "source": [
    "def selec_features(features):\n",
    "    df_select=df[features]\n",
    "    df_select=df_select[df_select['Logged_SALE_PRICE']>6]\n",
    "    X = df_select.drop(['Logged_SALE_PRICE'], axis=1)\n",
    "    Y = df_select['Logged_SALE_PRICE']\n",
    "    return X,Y\n",
    "\n",
    "features_selected=['NEIGHBORHOOD','GROSS_SQUARE_FEET', \"YEARS\",'Logged_SALE_PRICE']\n",
    "X,Y=selec_features(features_selected)\n",
    "X=pd.get_dummies(X, columns=['NEIGHBORHOOD'])\n",
    "X.head()\n",
    "\n",
    "\n",
    "model = RandomForestRegressor() \n",
    "print(\"features_selected:\", features_selected)\n",
    "print(\"RandomForestRegressor:\"+str(model_score(model)))\n",
    "avg_auc = cross_val_score(model, X_train,Y_train, cv=10, scoring=\"r2\").mean()\n",
    "print(\"AVG_AUC:\", avg_auc)\n",
    "\n",
    "model=LinearRegression()\n",
    "print(\"features_selected:\", features_selected)\n",
    "print(\"LinearRegression:\"+str(model_score(model)))\n",
    "avg_auc = cross_val_score(model, X_train,Y_train, cv=10, scoring=\"r2\").mean()\n",
    "print(\"AVG_AUC:\",avg_auc)"
   ]
  },
  {
   "cell_type": "markdown",
   "metadata": {},
   "source": [
    "# Further, let's add the ZIPCODE as an dummy.\n",
    "\n"
   ]
  },
  {
   "cell_type": "code",
   "execution_count": 24,
   "metadata": {},
   "outputs": [
    {
     "name": "stdout",
     "output_type": "stream",
     "text": [
      "features_selected: ['NEIGHBORHOOD', 'GROSS_SQUARE_FEET', 'YEARS', 'Logged_SALE_PRICE', 'ZIP_CODE']\n"
     ]
    },
    {
     "name": "stderr",
     "output_type": "stream",
     "text": [
      "C:\\Users\\ryouen\\Anaconda3\\lib\\site-packages\\sklearn\\ensemble\\forest.py:246: FutureWarning: The default value of n_estimators will change from 10 in version 0.20 to 100 in 0.22.\n",
      "  \"10 in version 0.20 to 100 in 0.22.\", FutureWarning)\n"
     ]
    },
    {
     "name": "stdout",
     "output_type": "stream",
     "text": [
      "RandomForestRegressor:0.5644399504514832\n",
      "AVG_AUC: 0.5910039155008727\n",
      "features_selected: ['NEIGHBORHOOD', 'GROSS_SQUARE_FEET', 'YEARS', 'Logged_SALE_PRICE', 'ZIP_CODE']\n",
      "LinearRegression:0.1660177233430481\n",
      "AVG_AUC: 0.22222895115096794\n"
     ]
    }
   ],
   "source": [
    "def selec_features(features):\n",
    "    df_select=df[features]\n",
    "    df_select=df_select[df_select['Logged_SALE_PRICE']>6]\n",
    "    X = df_select.drop(['Logged_SALE_PRICE'], axis=1)\n",
    "    Y = df_select['Logged_SALE_PRICE']\n",
    "    return X,Y\n",
    "\n",
    "features_selected=['NEIGHBORHOOD','GROSS_SQUARE_FEET', \"YEARS\",'Logged_SALE_PRICE', \"ZIP_CODE\"]\n",
    "X,Y=selec_features(features_selected)\n",
    "X=pd.get_dummies(X, columns=['NEIGHBORHOOD'])\n",
    "X=pd.get_dummies(X, columns=[\"ZIP_CODE\"])\n",
    "X.head()\n",
    "\n",
    "\n",
    "model = RandomForestRegressor() \n",
    "print(\"features_selected:\", features_selected)\n",
    "print(\"RandomForestRegressor:\"+str(model_score(model)))\n",
    "avg_auc = cross_val_score(model, X_train,Y_train, cv=10, scoring=\"r2\").mean()\n",
    "print(\"AVG_AUC:\", avg_auc)\n",
    "\n",
    "model=LinearRegression()\n",
    "print(\"features_selected:\", features_selected)\n",
    "print(\"LinearRegression:\"+str(model_score(model)))\n",
    "avg_auc = cross_val_score(model, X_train,Y_train, cv=10, scoring=\"r2\").mean()\n",
    "print(\"AVG_AUC:\",avg_auc)"
   ]
  },
  {
   "cell_type": "code",
   "execution_count": null,
   "metadata": {},
   "outputs": [],
   "source": []
  },
  {
   "cell_type": "code",
   "execution_count": 25,
   "metadata": {},
   "outputs": [
    {
     "name": "stdout",
     "output_type": "stream",
     "text": [
      "features_selected: ['NEIGHBORHOOD', 'GROSS_SQUARE_FEET', 'YEARS', 'Logged_SALE_PRICE', 'ZIP_CODE', 'TOTAL_UNITS', 'BUILDING_CLASS_CATEGORY']\n"
     ]
    },
    {
     "name": "stderr",
     "output_type": "stream",
     "text": [
      "C:\\Users\\ryouen\\Anaconda3\\lib\\site-packages\\sklearn\\ensemble\\forest.py:246: FutureWarning: The default value of n_estimators will change from 10 in version 0.20 to 100 in 0.22.\n",
      "  \"10 in version 0.20 to 100 in 0.22.\", FutureWarning)\n"
     ]
    },
    {
     "name": "stdout",
     "output_type": "stream",
     "text": [
      "RandomForestRegressor:0.5614470906923754\n",
      "AVG_AUC: 0.5924005117467539\n",
      "features_selected: ['NEIGHBORHOOD', 'GROSS_SQUARE_FEET', 'YEARS', 'Logged_SALE_PRICE', 'ZIP_CODE', 'TOTAL_UNITS', 'BUILDING_CLASS_CATEGORY']\n",
      "LinearRegression:0.1660177233430481\n",
      "AVG_AUC: 0.22222895115096794\n"
     ]
    }
   ],
   "source": [
    "def selec_features(features):\n",
    "    df_select=df[features]\n",
    "    df_select=df_select[df_select['Logged_SALE_PRICE']>6]\n",
    "    X = df_select.drop(['Logged_SALE_PRICE'], axis=1)\n",
    "    Y = df_select['Logged_SALE_PRICE']\n",
    "    return X,Y\n",
    "\n",
    "df[\"ZIP_CODE\"]=df[\"ZIP_CODE\"].astype(int).astype(str)\n",
    "features_selected=['NEIGHBORHOOD','GROSS_SQUARE_FEET', \"YEARS\",'Logged_SALE_PRICE', \"ZIP_CODE\", \"TOTAL_UNITS\", \"BUILDING_CLASS_CATEGORY\"]\n",
    "X,Y=selec_features(features_selected)\n",
    "X=pd.get_dummies(X, columns=['NEIGHBORHOOD'])\n",
    "X=pd.get_dummies(X, columns=[\"ZIP_CODE\"])\n",
    "X=pd.get_dummies(X, columns=[\"BUILDING_CLASS_CATEGORY\"])\n",
    "\n",
    "#X=pd.get_dummies(X, columns=[\"BLOCK\"])\n",
    "X.head()\n",
    "\n",
    "\n",
    "model = RandomForestRegressor() \n",
    "print(\"features_selected:\", features_selected)\n",
    "print(\"RandomForestRegressor:\"+str(model_score(model)))\n",
    "avg_auc = cross_val_score(model, X_train,Y_train, cv=10, scoring=\"r2\").mean()\n",
    "print(\"AVG_AUC:\", avg_auc)\n",
    "\n",
    "model=LinearRegression()\n",
    "print(\"features_selected:\", features_selected)\n",
    "print(\"LinearRegression:\"+str(model_score(model)))\n",
    "avg_auc = cross_val_score(model, X_train,Y_train, cv=10, scoring=\"r2\").mean()\n",
    "print(\"AVG_AUC:\",avg_auc)"
   ]
  },
  {
   "cell_type": "code",
   "execution_count": 26,
   "metadata": {},
   "outputs": [
    {
     "name": "stdout",
     "output_type": "stream",
     "text": [
      "<class 'pandas.core.frame.DataFrame'>\n",
      "Int64Index: 7402 entries, 0 to 7695\n",
      "Columns: 188 entries, GROSS_SQUARE_FEET to BUILDING_CLASS_CATEGORY_47 CONDO NON-BUSINESS STORAGE\n",
      "dtypes: float64(3), uint8(185)\n",
      "memory usage: 1.5 MB\n"
     ]
    }
   ],
   "source": [
    "X.info()"
   ]
  },
  {
   "cell_type": "code",
   "execution_count": 27,
   "metadata": {},
   "outputs": [],
   "source": [
    "from sklearn.tree import DecisionTreeClassifier"
   ]
  },
  {
   "cell_type": "code",
   "execution_count": 28,
   "metadata": {},
   "outputs": [
    {
     "data": {
      "text/plain": [
       "Index(['BOROUGH', 'NEIGHBORHOOD', 'BUILDING_CLASS_CATEGORY',\n",
       "       'TAX_CLASS_AT_PRESENT', 'BLOCK', 'LOT', 'ZIP_CODE', 'RESIDENTIAL_UNITS',\n",
       "       'COMMERCIAL_UNITS', 'TOTAL_UNITS', 'LAND_SQUARE_FEET',\n",
       "       'GROSS_SQUARE_FEET', 'YEAR_BUILT', 'TAX_CLASS_AT_TIME_OF_SALE',\n",
       "       'BUILDING_CLASS_AT_TIME_OF_SALE', 'SALE_PRICE', 'SALE_DATE', 'AREA',\n",
       "       'not_apartment', 'Logged_SALE_PRICE', 'YEARS'],\n",
       "      dtype='object')"
      ]
     },
     "execution_count": 28,
     "metadata": {},
     "output_type": "execute_result"
    }
   ],
   "source": [
    "df.columns"
   ]
  },
  {
   "cell_type": "code",
   "execution_count": 29,
   "metadata": {},
   "outputs": [
    {
     "name": "stdout",
     "output_type": "stream",
     "text": [
      "Prediction,\tActual data\n",
      "[[5.901452   5.78281935]\n",
      " [5.87355995 6.27852496]\n",
      " [6.00188042 6.39794001]\n",
      " ...\n",
      " [5.83375935 5.86332286]\n",
      " [5.90645204 5.6580114 ]\n",
      " [5.85019977 6.21973957]]\n"
     ]
    },
    {
     "data": {
      "text/plain": [
       "Text(0, 0.5, 'Actual data')"
      ]
     },
     "execution_count": 29,
     "metadata": {},
     "output_type": "execute_result"
    },
    {
     "data": {
      "image/png": "[encoded data removed]",
      "text/plain": [
       "<Figure size 432x288 with 1 Axes>"
      ]
     },
     "metadata": {
      "needs_background": "light"
     },
     "output_type": "display_data"
    }
   ],
   "source": [
    "# install it on Terminal:\n",
    "# pip3 install dtreeviz\n",
    "# or\n",
    "#pip install dtreeviz\n",
    "\n",
    "from dtreeviz.trees import *\n",
    "from sklearn import tree\n",
    "from graphviz import Digraph\n",
    "\n",
    "# pip install pydot\n",
    "import pydot\n",
    "\n",
    "# pip install pydotplus\n",
    "import pydotplus\n",
    "#from IPython.configdisplay import Image\n",
    "\n",
    "df_clf=df.dropna(how=\"any\")\n",
    "target = \"Logged_SALE_PRICE\"\n",
    "features_selected=['TOTAL_UNITS', 'GROSS_SQUARE_FEET','YEARS']\n",
    "\n",
    "\n",
    "\n",
    "df_train, df_test = train_test_split(df_clf, test_size=.2, random_state=42)\n",
    "X_train = df_train[features_selected]\n",
    "X_test = df_test[features_selected]\n",
    "Y_train = df_train[target]\n",
    "Y_test = df_test[target]\n",
    "\n",
    "from sklearn import linear_model\n",
    "from sklearn.metrics import mean_squared_error, r2_score\n",
    "# Create linear regression object\n",
    "regr = linear_model.LinearRegression()\n",
    "\n",
    "# Train the model using the training sets\n",
    "regr.fit(X_train, Y_train)\n",
    "\n",
    "# Make predictions using the testing set\n",
    "Y_pred = regr.predict(X_test)\n",
    "\n",
    "# The coefficients\n",
    "# regr.coef_\n",
    "print(\"Prediction,\\tActual data\")\n",
    "print(np.column_stack([Y_pred,Y_test]))\n",
    "plt.scatter(Y_pred,Y_test)\n",
    "plt.plot([5,30], [5,30], 'k--', label=\"Perfect match\")\n",
    "plt.legend()\n",
    "plt.xlabel(\"Prediction\")\n",
    "plt.ylabel(\"Actual data\")\n"
   ]
  },
  {
   "cell_type": "markdown",
   "metadata": {},
   "source": [
    "# Investigate What is the data alike\n"
   ]
  },
  {
   "cell_type": "code",
   "execution_count": 30,
   "metadata": {},
   "outputs": [
    {
     "data": {
      "text/html": [
       "<div>\n",
       "<style scoped>\n",
       "    .dataframe tbody tr th:only-of-type {\n",
       "        vertical-align: middle;\n",
       "    }\n",
       "\n",
       "    .dataframe tbody tr th {\n",
       "        vertical-align: top;\n",
       "    }\n",
       "\n",
       "    .dataframe thead th {\n",
       "        text-align: right;\n",
       "    }\n",
       "</style>\n",
       "<table border=\"1\" class=\"dataframe\">\n",
       "  <thead>\n",
       "    <tr style=\"text-align: right;\">\n",
       "      <th></th>\n",
       "      <th>BOROUGH</th>\n",
       "      <th>NEIGHBORHOOD</th>\n",
       "      <th>BUILDING_CLASS_CATEGORY</th>\n",
       "      <th>TAX_CLASS_AT_PRESENT</th>\n",
       "      <th>BLOCK</th>\n",
       "      <th>LOT</th>\n",
       "      <th>ZIP_CODE</th>\n",
       "      <th>RESIDENTIAL_UNITS</th>\n",
       "      <th>COMMERCIAL_UNITS</th>\n",
       "      <th>TOTAL_UNITS</th>\n",
       "      <th>...</th>\n",
       "      <th>GROSS_SQUARE_FEET</th>\n",
       "      <th>YEAR_BUILT</th>\n",
       "      <th>TAX_CLASS_AT_TIME_OF_SALE</th>\n",
       "      <th>BUILDING_CLASS_AT_TIME_OF_SALE</th>\n",
       "      <th>SALE_PRICE</th>\n",
       "      <th>SALE_DATE</th>\n",
       "      <th>AREA</th>\n",
       "      <th>not_apartment</th>\n",
       "      <th>Logged_SALE_PRICE</th>\n",
       "      <th>YEARS</th>\n",
       "    </tr>\n",
       "  </thead>\n",
       "  <tbody>\n",
       "    <tr>\n",
       "      <th>0</th>\n",
       "      <td>1</td>\n",
       "      <td>ALPHABET CITY</td>\n",
       "      <td>01 ONE FAMILY DWELLINGS</td>\n",
       "      <td>1</td>\n",
       "      <td>390</td>\n",
       "      <td>61</td>\n",
       "      <td>10009</td>\n",
       "      <td>1.0</td>\n",
       "      <td>0.0</td>\n",
       "      <td>1.0</td>\n",
       "      <td>...</td>\n",
       "      <td>2183.0</td>\n",
       "      <td>1860.0</td>\n",
       "      <td>1</td>\n",
       "      <td>A4</td>\n",
       "      <td>4844809.0</td>\n",
       "      <td>2018-05-22</td>\n",
       "      <td>MH</td>\n",
       "      <td>True</td>\n",
       "      <td>6.685277</td>\n",
       "      <td>158.0</td>\n",
       "    </tr>\n",
       "    <tr>\n",
       "      <th>1</th>\n",
       "      <td>1</td>\n",
       "      <td>ALPHABET CITY</td>\n",
       "      <td>01 ONE FAMILY DWELLINGS</td>\n",
       "      <td>1</td>\n",
       "      <td>390</td>\n",
       "      <td>61</td>\n",
       "      <td>10009</td>\n",
       "      <td>1.0</td>\n",
       "      <td>0.0</td>\n",
       "      <td>1.0</td>\n",
       "      <td>...</td>\n",
       "      <td>2183.0</td>\n",
       "      <td>1860.0</td>\n",
       "      <td>1</td>\n",
       "      <td>A4</td>\n",
       "      <td>NaN</td>\n",
       "      <td>2018-05-23</td>\n",
       "      <td>MH</td>\n",
       "      <td>True</td>\n",
       "      <td>NaN</td>\n",
       "      <td>158.0</td>\n",
       "    </tr>\n",
       "    <tr>\n",
       "      <th>2</th>\n",
       "      <td>1</td>\n",
       "      <td>ALPHABET CITY</td>\n",
       "      <td>01 ONE FAMILY DWELLINGS</td>\n",
       "      <td>1</td>\n",
       "      <td>400</td>\n",
       "      <td>19</td>\n",
       "      <td>10009</td>\n",
       "      <td>1.0</td>\n",
       "      <td>0.0</td>\n",
       "      <td>1.0</td>\n",
       "      <td>...</td>\n",
       "      <td>5200.0</td>\n",
       "      <td>1900.0</td>\n",
       "      <td>1</td>\n",
       "      <td>A4</td>\n",
       "      <td>6100000.0</td>\n",
       "      <td>2018-12-03</td>\n",
       "      <td>MH</td>\n",
       "      <td>True</td>\n",
       "      <td>6.785330</td>\n",
       "      <td>118.0</td>\n",
       "    </tr>\n",
       "    <tr>\n",
       "      <th>3</th>\n",
       "      <td>1</td>\n",
       "      <td>ALPHABET CITY</td>\n",
       "      <td>02 TWO FAMILY DWELLINGS</td>\n",
       "      <td>1</td>\n",
       "      <td>390</td>\n",
       "      <td>35</td>\n",
       "      <td>10009</td>\n",
       "      <td>2.0</td>\n",
       "      <td>0.0</td>\n",
       "      <td>2.0</td>\n",
       "      <td>...</td>\n",
       "      <td>4764.0</td>\n",
       "      <td>1899.0</td>\n",
       "      <td>1</td>\n",
       "      <td>B1</td>\n",
       "      <td>NaN</td>\n",
       "      <td>2018-04-25</td>\n",
       "      <td>MH</td>\n",
       "      <td>True</td>\n",
       "      <td>NaN</td>\n",
       "      <td>119.0</td>\n",
       "    </tr>\n",
       "    <tr>\n",
       "      <th>4</th>\n",
       "      <td>1</td>\n",
       "      <td>ALPHABET CITY</td>\n",
       "      <td>02 TWO FAMILY DWELLINGS</td>\n",
       "      <td>1</td>\n",
       "      <td>404</td>\n",
       "      <td>1</td>\n",
       "      <td>10009</td>\n",
       "      <td>2.0</td>\n",
       "      <td>0.0</td>\n",
       "      <td>2.0</td>\n",
       "      <td>...</td>\n",
       "      <td>4520.0</td>\n",
       "      <td>1900.0</td>\n",
       "      <td>1</td>\n",
       "      <td>B9</td>\n",
       "      <td>NaN</td>\n",
       "      <td>2018-11-29</td>\n",
       "      <td>MH</td>\n",
       "      <td>True</td>\n",
       "      <td>NaN</td>\n",
       "      <td>118.0</td>\n",
       "    </tr>\n",
       "  </tbody>\n",
       "</table>\n",
       "<p>5 rows × 21 columns</p>\n",
       "</div>"
      ],
      "text/plain": [
       "   BOROUGH   NEIGHBORHOOD  BUILDING_CLASS_CATEGORY TAX_CLASS_AT_PRESENT  \\\n",
       "0        1  ALPHABET CITY  01 ONE FAMILY DWELLINGS                    1   \n",
       "1        1  ALPHABET CITY  01 ONE FAMILY DWELLINGS                    1   \n",
       "2        1  ALPHABET CITY  01 ONE FAMILY DWELLINGS                    1   \n",
       "3        1  ALPHABET CITY  02 TWO FAMILY DWELLINGS                    1   \n",
       "4        1  ALPHABET CITY  02 TWO FAMILY DWELLINGS                    1   \n",
       "\n",
       "   BLOCK  LOT ZIP_CODE  RESIDENTIAL_UNITS  COMMERCIAL_UNITS  TOTAL_UNITS  \\\n",
       "0    390   61    10009                1.0               0.0          1.0   \n",
       "1    390   61    10009                1.0               0.0          1.0   \n",
       "2    400   19    10009                1.0               0.0          1.0   \n",
       "3    390   35    10009                2.0               0.0          2.0   \n",
       "4    404    1    10009                2.0               0.0          2.0   \n",
       "\n",
       "   ...    GROSS_SQUARE_FEET  YEAR_BUILT  TAX_CLASS_AT_TIME_OF_SALE  \\\n",
       "0  ...               2183.0      1860.0                          1   \n",
       "1  ...               2183.0      1860.0                          1   \n",
       "2  ...               5200.0      1900.0                          1   \n",
       "3  ...               4764.0      1899.0                          1   \n",
       "4  ...               4520.0      1900.0                          1   \n",
       "\n",
       "   BUILDING_CLASS_AT_TIME_OF_SALE SALE_PRICE  SALE_DATE AREA not_apartment  \\\n",
       "0                              A4  4844809.0 2018-05-22   MH          True   \n",
       "1                              A4        NaN 2018-05-23   MH          True   \n",
       "2                              A4  6100000.0 2018-12-03   MH          True   \n",
       "3                              B1        NaN 2018-04-25   MH          True   \n",
       "4                              B9        NaN 2018-11-29   MH          True   \n",
       "\n",
       "   Logged_SALE_PRICE  YEARS  \n",
       "0           6.685277  158.0  \n",
       "1                NaN  158.0  \n",
       "2           6.785330  118.0  \n",
       "3                NaN  119.0  \n",
       "4                NaN  118.0  \n",
       "\n",
       "[5 rows x 21 columns]"
      ]
     },
     "execution_count": 30,
     "metadata": {},
     "output_type": "execute_result"
    }
   ],
   "source": [
    "df.head()"
   ]
  },
  {
   "cell_type": "code",
   "execution_count": 31,
   "metadata": {},
   "outputs": [
    {
     "data": {
      "text/plain": [
       "Index(['BOROUGH', 'NEIGHBORHOOD', 'BUILDING_CLASS_CATEGORY',\n",
       "       'TAX_CLASS_AT_PRESENT', 'BLOCK', 'LOT', 'ZIP_CODE', 'RESIDENTIAL_UNITS',\n",
       "       'COMMERCIAL_UNITS', 'TOTAL_UNITS', 'LAND_SQUARE_FEET',\n",
       "       'GROSS_SQUARE_FEET', 'YEAR_BUILT', 'TAX_CLASS_AT_TIME_OF_SALE',\n",
       "       'BUILDING_CLASS_AT_TIME_OF_SALE', 'SALE_PRICE', 'SALE_DATE', 'AREA',\n",
       "       'not_apartment', 'Logged_SALE_PRICE', 'YEARS'],\n",
       "      dtype='object')"
      ]
     },
     "execution_count": 31,
     "metadata": {},
     "output_type": "execute_result"
    }
   ],
   "source": [
    "df.columns"
   ]
  },
  {
   "cell_type": "code",
   "execution_count": null,
   "metadata": {},
   "outputs": [],
   "source": [
    "rows = 1\n",
    "cols = 3\n",
    "fig, axs = plt.subplots(ncols=cols, nrows=rows, figsize=(4*cols, 5*rows))\n",
    "axs = axs.flatten()\n",
    "\n",
    "for i in range(0,len(predictors)):\n",
    "    df.boxplot(target, predictors[i], grid=False, ax=axs[i], sym='k.')\n",
    "plt.tight_layout()\n",
    "\n",
    "\n",
    "df.plot.scatter(ax=ax)\n",
    "for i in features_selected:\n",
    "    df.plot.scatter(x=i, y=\"SALE_PRICE\")\n",
    "\n",
    "    \n"
   ]
  },
  {
   "cell_type": "code",
   "execution_count": 35,
   "metadata": {},
   "outputs": [
    {
     "data": {
      "image/png": "[encoded data removed]",
      "text/plain": [
       "<Figure size 432x288 with 1 Axes>"
      ]
     },
     "metadata": {
      "needs_background": "light"
     },
     "output_type": "display_data"
    },
    {
     "data": {
      "image/png": "[encoded data removed]",
      "text/plain": [
       "<Figure size 432x288 with 1 Axes>"
      ]
     },
     "metadata": {
      "needs_background": "light"
     },
     "output_type": "display_data"
    },
    {
     "data": {
      "image/png": "[encoded data removed]",
      "text/plain": [
       "<Figure size 432x288 with 1 Axes>"
      ]
     },
     "metadata": {
      "needs_background": "light"
     },
     "output_type": "display_data"
    }
   ],
   "source": [
    "rows = 1\n",
    "cols = 3\n",
    "fig, axs = plt.subplots(ncols=cols, nrows=rows, figsize=(4*cols, 5*rows))\n",
    "axs = axs.flatten()\n",
    "\n",
    "for i in range(0,len(predictors)):\n",
    "    df.boxplot(target, predictors[i], grid=False, ax=axs[i], sym='k.')\n",
    "plt.tight_layout()\n",
    "\n",
    "\n",
    "fig, ax = plt.subplots()\n",
    "df.plot.scatter(ax=ax)\n",
    "for i in features_selected:\n",
    "    df.plot.scatter(x=i, y=\"SALE_PRICE\")\n",
    "\n",
    "    \n"
   ]
  },
  {
   "cell_type": "code",
   "execution_count": 36,
   "metadata": {},
   "outputs": [
    {
     "data": {
      "image/png": "[encoded data removed]",
      "text/plain": [
       "<Figure size 432x288 with 1 Axes>"
      ]
     },
     "metadata": {
      "needs_background": "light"
     },
     "output_type": "display_data"
    },
    {
     "data": {
      "image/png": "[encoded data removed]",
      "text/plain": [
       "<Figure size 432x288 with 1 Axes>"
      ]
     },
     "metadata": {
      "needs_background": "light"
     },
     "output_type": "display_data"
    },
    {
     "data": {
      "image/png": "[encoded data removed]",
      "text/plain": [
       "<Figure size 432x288 with 1 Axes>"
      ]
     },
     "metadata": {
      "needs_background": "light"
     },
     "output_type": "display_data"
    }
   ],
   "source": [
    "\n",
    "for i in features_selected:\n",
    "    df.plot.scatter(x=i, y=\"Logged_SALE_PRICE\")\n"
   ]
  },
  {
   "cell_type": "code",
   "execution_count": 45,
   "metadata": {},
   "outputs": [
    {
     "data": {
      "image/png": "[encoded data removed]",
      "text/plain": [
       "<Figure size 432x288 with 1 Axes>"
      ]
     },
     "metadata": {
      "needs_background": "light"
     },
     "output_type": "display_data"
    },
    {
     "data": {
      "image/png": "[encoded data removed]",
      "text/plain": [
       "<Figure size 432x288 with 1 Axes>"
      ]
     },
     "metadata": {
      "needs_background": "light"
     },
     "output_type": "display_data"
    },
    {
     "data": {
      "image/png": "[encoded data removed]",
      "text/plain": [
       "<Figure size 432x288 with 1 Axes>"
      ]
     },
     "metadata": {
      "needs_background": "light"
     },
     "output_type": "display_data"
    }
   ],
   "source": [
    "df[\"Logged_TOTAL_UNITS\"] = df[\"TOTAL_UNITS\"].replace(0,np.NaN).apply(np.log10)\n",
    "df[\"Logged_GROSS_SQUARE_FEET\"] = df[\"GROSS_SQUARE_FEET\"].replace(0,np.NaN).apply(np.log10)\n",
    "df[\"Logged_YEARS\"] = df[\"YEARS\"].replace(0,np.NaN).apply(np.log10)\n",
    "\n",
    "logged_features_selected=['Logged_TOTAL_UNITS', 'Logged_GROSS_SQUARE_FEET', 'Logged_YEARS']\n",
    "\n",
    "for i in logged_features_selected:\n",
    "    df.plot.scatter(x=i, y=\"Logged_SALE_PRICE\")\n"
   ]
  },
  {
   "cell_type": "code",
   "execution_count": 61,
   "metadata": {},
   "outputs": [
    {
     "data": {
      "text/plain": [
       "<matplotlib.axes._subplots.AxesSubplot at 0x1f9ca227f28>"
      ]
     },
     "execution_count": 61,
     "metadata": {},
     "output_type": "execute_result"
    },
    {
     "data": {
      "image/png": "[encoded data removed]",
      "text/plain": [
       "<Figure size 1080x576 with 1 Axes>"
      ]
     },
     "metadata": {
      "needs_background": "light"
     },
     "output_type": "display_data"
    }
   ],
   "source": [
    "df.boxplot(target, \"NEIGHBORHOOD\", grid=False, sym='k.', figsize=(15,8))"
   ]
  },
  {
   "cell_type": "code",
   "execution_count": 63,
   "metadata": {},
   "outputs": [
    {
     "data": {
      "text/plain": [
       "Index(['BOROUGH', 'NEIGHBORHOOD', 'BUILDING_CLASS_CATEGORY',\n",
       "       'TAX_CLASS_AT_PRESENT', 'BLOCK', 'LOT', 'ZIP_CODE', 'RESIDENTIAL_UNITS',\n",
       "       'COMMERCIAL_UNITS', 'TOTAL_UNITS', 'LAND_SQUARE_FEET',\n",
       "       'GROSS_SQUARE_FEET', 'YEAR_BUILT', 'TAX_CLASS_AT_TIME_OF_SALE',\n",
       "       'BUILDING_CLASS_AT_TIME_OF_SALE', 'SALE_PRICE', 'SALE_DATE', 'AREA',\n",
       "       'not_apartment', 'Logged_SALE_PRICE', 'YEARS', 'Logged_TOTAL_UNITS',\n",
       "       'Logged_GROSS_SQUARE_FEET', 'Logged_YEARS'],\n",
       "      dtype='object')"
      ]
     },
     "execution_count": 63,
     "metadata": {},
     "output_type": "execute_result"
    }
   ],
   "source": [
    "df.columns"
   ]
  },
  {
   "cell_type": "code",
   "execution_count": 73,
   "metadata": {},
   "outputs": [],
   "source": [
    "df[\"SALE_MONTH\"] = df[\"SALE_DATE\"].dt.month.astype(int)"
   ]
  },
  {
   "cell_type": "code",
   "execution_count": 74,
   "metadata": {},
   "outputs": [],
   "source": [
    "#'NEIGHBORHOOD'\n",
    "forboxplot = ['BUILDING_CLASS_CATEGORY','TAX_CLASS_AT_PRESENT', 'ZIP_CODE',\"SALE_MONTH\", 'RESIDENTIAL_UNITS',\n",
    "              'COMMERCIAL_UNITS', 'TOTAL_UNITS', 'LAND_SQUARE_FEET','GROSS_SQUARE_FEET', 'TAX_CLASS_AT_TIME_OF_SALE', \n",
    "              'BUILDING_CLASS_AT_TIME_OF_SALE','AREA','not_apartment', 'Logged_SALE_PRICE', 'YEARS', 'Logged_TOTAL_UNITS', \n",
    "              'Logged_GROSS_SQUARE_FEET', 'Logged_YEARS']"
   ]
  },
  {
   "cell_type": "code",
   "execution_count": null,
   "metadata": {},
   "outputs": [],
   "source": [
    "for i in forboxplot:\n",
    "    df.boxplot(target, i, grid=False, sym='k.', figsize=(15,8))"
   ]
  },
  {
   "cell_type": "code",
   "execution_count": null,
   "metadata": {},
   "outputs": [],
   "source": [
    "rows = 1\n",
    "cols = 3\n",
    "target = \"SFT\"\n",
    "predictors = [\"SEX\",\"Leader\",\"X_func\"]\n",
    "fig, axs = plt.subplots(ncols=cols, nrows=rows, figsize=(4*cols, 5*rows))\n",
    "axs = axs.flatten()\n",
    "\n",
    "for i in range(0,len(predictors)):\n",
    "    df.boxplot(target, predictors[i], grid=False, ax=axs[i], sym='k.')\n",
    "plt.tight_layout()\n"
   ]
  },
  {
   "cell_type": "code",
   "execution_count": 53,
   "metadata": {},
   "outputs": [
    {
     "data": {
      "text/html": [
       "<div>\n",
       "<style scoped>\n",
       "    .dataframe tbody tr th:only-of-type {\n",
       "        vertical-align: middle;\n",
       "    }\n",
       "\n",
       "    .dataframe tbody tr th {\n",
       "        vertical-align: top;\n",
       "    }\n",
       "\n",
       "    .dataframe thead th {\n",
       "        text-align: right;\n",
       "    }\n",
       "</style>\n",
       "<table border=\"1\" class=\"dataframe\">\n",
       "  <thead>\n",
       "    <tr style=\"text-align: right;\">\n",
       "      <th></th>\n",
       "      <th>Logged_TOTAL_UNITS</th>\n",
       "      <th>Logged_GROSS_SQUARE_FEET</th>\n",
       "      <th>Logged_YEARS</th>\n",
       "      <th>NEIGHBORHOOD_ALPHABET CITY</th>\n",
       "      <th>NEIGHBORHOOD_BATHGATE</th>\n",
       "      <th>NEIGHBORHOOD_BAYCHESTER</th>\n",
       "      <th>NEIGHBORHOOD_BEDFORD PARK/NORWOOD</th>\n",
       "      <th>NEIGHBORHOOD_BELMONT</th>\n",
       "      <th>NEIGHBORHOOD_BRONX PARK</th>\n",
       "      <th>NEIGHBORHOOD_BRONXDALE</th>\n",
       "      <th>...</th>\n",
       "      <th>NEIGHBORHOOD_UPPER EAST SIDE (59-79)</th>\n",
       "      <th>NEIGHBORHOOD_UPPER EAST SIDE (79-96)</th>\n",
       "      <th>NEIGHBORHOOD_UPPER WEST SIDE (59-79)</th>\n",
       "      <th>NEIGHBORHOOD_UPPER WEST SIDE (79-96)</th>\n",
       "      <th>NEIGHBORHOOD_UPPER WEST SIDE (96-116)</th>\n",
       "      <th>NEIGHBORHOOD_WAKEFIELD</th>\n",
       "      <th>NEIGHBORHOOD_WASHINGTON HEIGHTS LOWER</th>\n",
       "      <th>NEIGHBORHOOD_WASHINGTON HEIGHTS UPPER</th>\n",
       "      <th>NEIGHBORHOOD_WESTCHESTER</th>\n",
       "      <th>NEIGHBORHOOD_WILLIAMSBRIDGE</th>\n",
       "    </tr>\n",
       "  </thead>\n",
       "  <tbody>\n",
       "    <tr>\n",
       "      <th>6</th>\n",
       "      <td>1.477121</td>\n",
       "      <td>4.242492</td>\n",
       "      <td>1.995635</td>\n",
       "      <td>1</td>\n",
       "      <td>0</td>\n",
       "      <td>0</td>\n",
       "      <td>0</td>\n",
       "      <td>0</td>\n",
       "      <td>0</td>\n",
       "      <td>0</td>\n",
       "      <td>...</td>\n",
       "      <td>0</td>\n",
       "      <td>0</td>\n",
       "      <td>0</td>\n",
       "      <td>0</td>\n",
       "      <td>0</td>\n",
       "      <td>0</td>\n",
       "      <td>0</td>\n",
       "      <td>0</td>\n",
       "      <td>0</td>\n",
       "      <td>0</td>\n",
       "    </tr>\n",
       "    <tr>\n",
       "      <th>8</th>\n",
       "      <td>1.342423</td>\n",
       "      <td>4.163996</td>\n",
       "      <td>1.944483</td>\n",
       "      <td>1</td>\n",
       "      <td>0</td>\n",
       "      <td>0</td>\n",
       "      <td>0</td>\n",
       "      <td>0</td>\n",
       "      <td>0</td>\n",
       "      <td>0</td>\n",
       "      <td>...</td>\n",
       "      <td>0</td>\n",
       "      <td>0</td>\n",
       "      <td>0</td>\n",
       "      <td>0</td>\n",
       "      <td>0</td>\n",
       "      <td>0</td>\n",
       "      <td>0</td>\n",
       "      <td>0</td>\n",
       "      <td>0</td>\n",
       "      <td>0</td>\n",
       "    </tr>\n",
       "    <tr>\n",
       "      <th>10</th>\n",
       "      <td>1.204120</td>\n",
       "      <td>4.024814</td>\n",
       "      <td>2.071882</td>\n",
       "      <td>1</td>\n",
       "      <td>0</td>\n",
       "      <td>0</td>\n",
       "      <td>0</td>\n",
       "      <td>0</td>\n",
       "      <td>0</td>\n",
       "      <td>0</td>\n",
       "      <td>...</td>\n",
       "      <td>0</td>\n",
       "      <td>0</td>\n",
       "      <td>0</td>\n",
       "      <td>0</td>\n",
       "      <td>0</td>\n",
       "      <td>0</td>\n",
       "      <td>0</td>\n",
       "      <td>0</td>\n",
       "      <td>0</td>\n",
       "      <td>0</td>\n",
       "    </tr>\n",
       "    <tr>\n",
       "      <th>12</th>\n",
       "      <td>1.255273</td>\n",
       "      <td>4.027350</td>\n",
       "      <td>2.033424</td>\n",
       "      <td>1</td>\n",
       "      <td>0</td>\n",
       "      <td>0</td>\n",
       "      <td>0</td>\n",
       "      <td>0</td>\n",
       "      <td>0</td>\n",
       "      <td>0</td>\n",
       "      <td>...</td>\n",
       "      <td>0</td>\n",
       "      <td>0</td>\n",
       "      <td>0</td>\n",
       "      <td>0</td>\n",
       "      <td>0</td>\n",
       "      <td>0</td>\n",
       "      <td>0</td>\n",
       "      <td>0</td>\n",
       "      <td>0</td>\n",
       "      <td>0</td>\n",
       "    </tr>\n",
       "    <tr>\n",
       "      <th>14</th>\n",
       "      <td>0.602060</td>\n",
       "      <td>3.736078</td>\n",
       "      <td>1.230449</td>\n",
       "      <td>1</td>\n",
       "      <td>0</td>\n",
       "      <td>0</td>\n",
       "      <td>0</td>\n",
       "      <td>0</td>\n",
       "      <td>0</td>\n",
       "      <td>0</td>\n",
       "      <td>...</td>\n",
       "      <td>0</td>\n",
       "      <td>0</td>\n",
       "      <td>0</td>\n",
       "      <td>0</td>\n",
       "      <td>0</td>\n",
       "      <td>0</td>\n",
       "      <td>0</td>\n",
       "      <td>0</td>\n",
       "      <td>0</td>\n",
       "      <td>0</td>\n",
       "    </tr>\n",
       "  </tbody>\n",
       "</table>\n",
       "<p>5 rows × 72 columns</p>\n",
       "</div>"
      ],
      "text/plain": [
       "    Logged_TOTAL_UNITS  Logged_GROSS_SQUARE_FEET  Logged_YEARS  \\\n",
       "6             1.477121                  4.242492      1.995635   \n",
       "8             1.342423                  4.163996      1.944483   \n",
       "10            1.204120                  4.024814      2.071882   \n",
       "12            1.255273                  4.027350      2.033424   \n",
       "14            0.602060                  3.736078      1.230449   \n",
       "\n",
       "    NEIGHBORHOOD_ALPHABET CITY  NEIGHBORHOOD_BATHGATE  \\\n",
       "6                            1                      0   \n",
       "8                            1                      0   \n",
       "10                           1                      0   \n",
       "12                           1                      0   \n",
       "14                           1                      0   \n",
       "\n",
       "    NEIGHBORHOOD_BAYCHESTER  NEIGHBORHOOD_BEDFORD PARK/NORWOOD  \\\n",
       "6                         0                                  0   \n",
       "8                         0                                  0   \n",
       "10                        0                                  0   \n",
       "12                        0                                  0   \n",
       "14                        0                                  0   \n",
       "\n",
       "    NEIGHBORHOOD_BELMONT  NEIGHBORHOOD_BRONX PARK  NEIGHBORHOOD_BRONXDALE  \\\n",
       "6                      0                        0                       0   \n",
       "8                      0                        0                       0   \n",
       "10                     0                        0                       0   \n",
       "12                     0                        0                       0   \n",
       "14                     0                        0                       0   \n",
       "\n",
       "               ...               NEIGHBORHOOD_UPPER EAST SIDE (59-79)  \\\n",
       "6              ...                                                  0   \n",
       "8              ...                                                  0   \n",
       "10             ...                                                  0   \n",
       "12             ...                                                  0   \n",
       "14             ...                                                  0   \n",
       "\n",
       "    NEIGHBORHOOD_UPPER EAST SIDE (79-96)  \\\n",
       "6                                      0   \n",
       "8                                      0   \n",
       "10                                     0   \n",
       "12                                     0   \n",
       "14                                     0   \n",
       "\n",
       "    NEIGHBORHOOD_UPPER WEST SIDE (59-79)  \\\n",
       "6                                      0   \n",
       "8                                      0   \n",
       "10                                     0   \n",
       "12                                     0   \n",
       "14                                     0   \n",
       "\n",
       "    NEIGHBORHOOD_UPPER WEST SIDE (79-96)  \\\n",
       "6                                      0   \n",
       "8                                      0   \n",
       "10                                     0   \n",
       "12                                     0   \n",
       "14                                     0   \n",
       "\n",
       "    NEIGHBORHOOD_UPPER WEST SIDE (96-116)  NEIGHBORHOOD_WAKEFIELD  \\\n",
       "6                                       0                       0   \n",
       "8                                       0                       0   \n",
       "10                                      0                       0   \n",
       "12                                      0                       0   \n",
       "14                                      0                       0   \n",
       "\n",
       "    NEIGHBORHOOD_WASHINGTON HEIGHTS LOWER  \\\n",
       "6                                       0   \n",
       "8                                       0   \n",
       "10                                      0   \n",
       "12                                      0   \n",
       "14                                      0   \n",
       "\n",
       "    NEIGHBORHOOD_WASHINGTON HEIGHTS UPPER  NEIGHBORHOOD_WESTCHESTER  \\\n",
       "6                                       0                         0   \n",
       "8                                       0                         0   \n",
       "10                                      0                         0   \n",
       "12                                      0                         0   \n",
       "14                                      0                         0   \n",
       "\n",
       "    NEIGHBORHOOD_WILLIAMSBRIDGE  \n",
       "6                             0  \n",
       "8                             0  \n",
       "10                            0  \n",
       "12                            0  \n",
       "14                            0  \n",
       "\n",
       "[5 rows x 72 columns]"
      ]
     },
     "execution_count": 53,
     "metadata": {},
     "output_type": "execute_result"
    }
   ],
   "source": [
    "def selec_features(features):\n",
    "    df_select=df[features]\n",
    "    df_select=df_select[(df_select['Logged_SALE_PRICE']>6) & (df_select['Logged_TOTAL_UNITS']>0)& (df_select['Logged_YEARS']>0)]\n",
    "    df_select =  df_select.dropna(how=\"any\")\n",
    "    X = df_select.drop(['Logged_SALE_PRICE'], axis=1)\n",
    "    Y = df_select['Logged_SALE_PRICE']\n",
    "    return X,Y\n",
    "\n",
    "features_selected=['NEIGHBORHOOD','Logged_TOTAL_UNITS', 'Logged_GROSS_SQUARE_FEET', 'Logged_YEARS', 'Logged_SALE_PRICE']\n",
    "X,Y=selec_features(features_selected)\n",
    "X=pd.get_dummies(X, columns=['NEIGHBORHOOD'])\n",
    "X.head()\n"
   ]
  },
  {
   "cell_type": "code",
   "execution_count": 54,
   "metadata": {},
   "outputs": [
    {
     "name": "stdout",
     "output_type": "stream",
     "text": [
      "features_selected: ['NEIGHBORHOOD', 'Logged_TOTAL_UNITS', 'Logged_GROSS_SQUARE_FEET', 'Logged_YEARS', 'Logged_SALE_PRICE']\n",
      "RandomForestRegressor:0.4912463054106071\n"
     ]
    },
    {
     "name": "stderr",
     "output_type": "stream",
     "text": [
      "C:\\Users\\ryouen\\Anaconda3\\lib\\site-packages\\sklearn\\ensemble\\forest.py:246: FutureWarning: The default value of n_estimators will change from 10 in version 0.20 to 100 in 0.22.\n",
      "  \"10 in version 0.20 to 100 in 0.22.\", FutureWarning)\n"
     ]
    },
    {
     "name": "stdout",
     "output_type": "stream",
     "text": [
      "AVG_AUC: 0.5955148527924246\n"
     ]
    }
   ],
   "source": [
    "\n",
    "X_train, X_test, Y_train, Y_test = train_test_split(X, Y, test_size=.25)\n",
    "\n",
    "def model_score(model):\n",
    "    model=model\n",
    "    model.fit(X_train, Y_train)\n",
    "    score=model.score(X_test, Y_test)\n",
    "    return score\n",
    "\n",
    "model=RandomForestRegressor()\n",
    "print(\"features_selected:\", features_selected)\n",
    "print(\"RandomForestRegressor:\"+str(model_score(model)))\n",
    "avg_auc = cross_val_score(model, X_train,Y_train, cv=10, scoring=\"r2\").mean()\n",
    "print(\"AVG_AUC:\", avg_auc)\n"
   ]
  },
  {
   "cell_type": "code",
   "execution_count": null,
   "metadata": {},
   "outputs": [],
   "source": []
  },
  {
   "cell_type": "code",
   "execution_count": null,
   "metadata": {},
   "outputs": [],
   "source": []
  }
 ],
 "metadata": {
  "hide_input": false,
  "kernelspec": {
   "display_name": "Python 3",
   "language": "python",
   "name": "python3"
  },
  "language_info": {
   "codemirror_mode": {
    "name": "ipython",
    "version": 3
   },
   "file_extension": ".py",
   "mimetype": "text/x-python",
   "name": "python",
   "nbconvert_exporter": "python",
   "pygments_lexer": "ipython3",
   "version": "3.7.1"
  }
 },
 "nbformat": 4,
 "nbformat_minor": 2
}
